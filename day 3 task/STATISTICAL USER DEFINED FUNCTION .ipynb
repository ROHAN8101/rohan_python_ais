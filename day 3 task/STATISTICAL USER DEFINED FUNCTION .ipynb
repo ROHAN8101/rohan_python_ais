{
 "cells": [
  {
   "cell_type": "markdown",
   "id": "658f17ec",
   "metadata": {},
   "source": [
    "# user defined function"
   ]
  },
  {
   "cell_type": "markdown",
   "id": "8acc2228",
   "metadata": {},
   "source": [
    "# mean"
   ]
  },
  {
   "cell_type": "code",
   "execution_count": 8,
   "id": "d928a9a4",
   "metadata": {},
   "outputs": [],
   "source": [
    "\n",
    "def mean_fun(*arg):\n",
    "    mean=sum(arg)/len(arg)\n",
    "    return mean"
   ]
  },
  {
   "cell_type": "code",
   "execution_count": 9,
   "id": "a222e5a1",
   "metadata": {},
   "outputs": [
    {
     "data": {
      "text/plain": [
       "2.5"
      ]
     },
     "execution_count": 9,
     "metadata": {},
     "output_type": "execute_result"
    }
   ],
   "source": [
    "mean_fun(1,2,3,4)"
   ]
  },
  {
   "cell_type": "markdown",
   "id": "bc01f9d7",
   "metadata": {},
   "source": [
    "# mode"
   ]
  },
  {
   "cell_type": "code",
   "execution_count": 1,
   "id": "6ed2c108",
   "metadata": {},
   "outputs": [],
   "source": [
    "def mode(*sample_list):\n",
    "    sorted_list = sorted(sample_list)\n",
    "    mode=max(sorted_list)\n",
    "    return mode\n",
    "\n"
   ]
  },
  {
   "cell_type": "code",
   "execution_count": 2,
   "id": "25486341",
   "metadata": {},
   "outputs": [
    {
     "data": {
      "text/plain": [
       "5"
      ]
     },
     "execution_count": 2,
     "metadata": {},
     "output_type": "execute_result"
    }
   ],
   "source": [
    "\n",
    "mode(1,2,3,4,4,5,5,5)"
   ]
  },
  {
   "cell_type": "markdown",
   "id": "0f5f7392",
   "metadata": {},
   "source": [
    "# median"
   ]
  },
  {
   "cell_type": "code",
   "execution_count": 3,
   "id": "4e3435d7",
   "metadata": {},
   "outputs": [],
   "source": [
    "def median(data):\n",
    "    sorted_data=sorted(data)\n",
    "    n=len(sorted_data)\n",
    "    midpoint=n//2\n",
    "    \n",
    "    if n%2==1:\n",
    "        return sorted_data[midpoint]  #if length is odd\n",
    "    else:\n",
    "        return (sorted[midpoint-1]+sorted_data[midpoint])/2\n",
    "    "
   ]
  },
  {
   "cell_type": "code",
   "execution_count": 5,
   "id": "aaead9a6",
   "metadata": {},
   "outputs": [
    {
     "data": {
      "text/plain": [
       "5"
      ]
     },
     "execution_count": 5,
     "metadata": {},
     "output_type": "execute_result"
    }
   ],
   "source": [
    "data=[2,4,5,6,7,8]\n",
    "median(data)"
   ]
  },
  {
   "cell_type": "markdown",
   "id": "713845ed",
   "metadata": {},
   "source": [
    "# vaiance\n",
    "var=1/(n-1) * (∑n​(xi−xˉ)^2)\n",
    "where:\n",
    "\n",
    "(n) is the number of data points.\n",
    "(x_i) represents each data point.\n",
    "(\\bar{x}) is the sample mean."
   ]
  },
  {
   "cell_type": "code",
   "execution_count": 34,
   "id": "cceb44d9",
   "metadata": {},
   "outputs": [],
   "source": [
    "def calculate_variance(data):\n",
    "    n = len(data)\n",
    "    mean = sum(data) / n\n",
    "    sum_of_squares = sum((x - mean) ** 2 for x in data)\n",
    "    variance = sum_of_squares / (n - 1)\n",
    "    return variance\n"
   ]
  },
  {
   "cell_type": "code",
   "execution_count": 35,
   "id": "3805dd08",
   "metadata": {},
   "outputs": [
    {
     "data": {
      "text/plain": [
       "2.5"
      ]
     },
     "execution_count": 35,
     "metadata": {},
     "output_type": "execute_result"
    }
   ],
   "source": [
    "data=[2,1,3,4,5]\n",
    "calculate_variance(data)\n"
   ]
  },
  {
   "cell_type": "markdown",
   "id": "0a65e595",
   "metadata": {},
   "source": [
    "# standard deviation"
   ]
  },
  {
   "cell_type": "code",
   "execution_count": 32,
   "id": "a1123315",
   "metadata": {},
   "outputs": [],
   "source": [
    "def sd(*data):\n",
    "    n = len(data)\n",
    "    mean = sum(data) / n\n",
    "    sum_of_squares = sum((x - mean) ** 2 for x in data)\n",
    "    variance = sum_of_squares / (n - 1)\n",
    "    sd=variance**(0.5)\n",
    "    return sd\n"
   ]
  },
  {
   "cell_type": "code",
   "execution_count": 36,
   "id": "e1708c90",
   "metadata": {},
   "outputs": [
    {
     "data": {
      "text/plain": [
       "1.5811388300841898"
      ]
     },
     "execution_count": 36,
     "metadata": {},
     "output_type": "execute_result"
    }
   ],
   "source": [
    "\n",
    "sd(1,2,3,4,5)"
   ]
  },
  {
   "cell_type": "code",
   "execution_count": 38,
   "id": "ec191f24",
   "metadata": {},
   "outputs": [
    {
     "data": {
      "text/plain": [
       "1.5811388300841898"
      ]
     },
     "execution_count": 38,
     "metadata": {},
     "output_type": "execute_result"
    }
   ],
   "source": [
    "2.5**(0.5)"
   ]
  },
  {
   "cell_type": "markdown",
   "id": "0b6b6ffe",
   "metadata": {},
   "source": [
    "# geometric mean"
   ]
  },
  {
   "cell_type": "code",
   "execution_count": 44,
   "id": "3b7a5b50",
   "metadata": {},
   "outputs": [],
   "source": [
    "def geom_mean(*data):\n",
    "    n=len(data)\n",
    "    prod=1\n",
    "    for i in data:\n",
    "        prod=prod*i\n",
    "    gm=prod**(1/n)\n",
    "    return gm\n",
    "    \n",
    "    "
   ]
  },
  {
   "cell_type": "code",
   "execution_count": 45,
   "id": "d2048784",
   "metadata": {},
   "outputs": [
    {
     "data": {
      "text/plain": [
       "2.605171084697352"
      ]
     },
     "execution_count": 45,
     "metadata": {},
     "output_type": "execute_result"
    }
   ],
   "source": [
    "geom_mean(1,2,3,4,5)"
   ]
  },
  {
   "cell_type": "markdown",
   "id": "75a93d84",
   "metadata": {},
   "source": [
    "# harmonic mean"
   ]
  },
  {
   "cell_type": "code",
   "execution_count": 48,
   "id": "04fed094",
   "metadata": {},
   "outputs": [],
   "source": [
    "def har_mean(*data):\n",
    "    n=len(data)\n",
    "    reciprocal_sum = sum(1 / x for x in data)\n",
    "    hm = n / reciprocal_sum\n",
    "    return hm"
   ]
  },
  {
   "cell_type": "code",
   "execution_count": 49,
   "id": "242dc34d",
   "metadata": {},
   "outputs": [
    {
     "data": {
      "text/plain": [
       "2.18978102189781"
      ]
     },
     "execution_count": 49,
     "metadata": {},
     "output_type": "execute_result"
    }
   ],
   "source": [
    "har_mean(1,2,3,4,5)"
   ]
  },
  {
   "cell_type": "markdown",
   "id": "d892d80a",
   "metadata": {},
   "source": [
    "# range"
   ]
  },
  {
   "cell_type": "code",
   "execution_count": 50,
   "id": "f2382d41",
   "metadata": {},
   "outputs": [],
   "source": [
    "def range(*data):\n",
    "    sort=sorted(data)\n",
    "    range=max(sort)-min(sort)\n",
    "    return range"
   ]
  },
  {
   "cell_type": "code",
   "execution_count": 51,
   "id": "96213bd1",
   "metadata": {},
   "outputs": [
    {
     "data": {
      "text/plain": [
       "4"
      ]
     },
     "execution_count": 51,
     "metadata": {},
     "output_type": "execute_result"
    }
   ],
   "source": [
    "range(1,2,3,4,5)"
   ]
  },
  {
   "cell_type": "code",
   "execution_count": null,
   "id": "49edc436",
   "metadata": {},
   "outputs": [],
   "source": []
  }
 ],
 "metadata": {
  "kernelspec": {
   "display_name": "Python 3 (ipykernel)",
   "language": "python",
   "name": "python3"
  },
  "language_info": {
   "codemirror_mode": {
    "name": "ipython",
    "version": 3
   },
   "file_extension": ".py",
   "mimetype": "text/x-python",
   "name": "python",
   "nbconvert_exporter": "python",
   "pygments_lexer": "ipython3",
   "version": "3.9.12"
  }
 },
 "nbformat": 4,
 "nbformat_minor": 5
}
