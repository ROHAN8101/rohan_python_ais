{
 "cells": [
  {
   "cell_type": "markdown",
   "id": "92a385a7",
   "metadata": {},
   "source": [
    "# python break statement\n",
    "Python break is used to terminate the execution of the loop. "
   ]
  },
  {
   "cell_type": "code",
   "execution_count": null,
   "id": "4668c9b7",
   "metadata": {},
   "outputs": [],
   "source": [
    "# Python break statement Syntax:\n",
    "Loop{\n",
    "    Condition:\n",
    "        break\n",
    "    }"
   ]
  },
  {
   "cell_type": "code",
   "execution_count": null,
   "id": "d5dfe08c",
   "metadata": {},
   "outputs": [],
   "source": [
    "#Python break statement\n",
    "#break statement in Python is used to bring the control out of the loop when some external condition is triggered.\n",
    "#break statement is put inside the loop body (generally after if condition).\n",
    "#It terminates the current loop, i.e., the loop in which it appears, and resumes execution at the next statement \n",
    "#immediately after the end of that loop. If the break statement is inside a nested loop,\n",
    "#the break will terminate the innermost loop.\n",
    "#Break-statement-python "
   ]
  },
  {
   "cell_type": "code",
   "execution_count": 1,
   "id": "a929d8f7",
   "metadata": {},
   "outputs": [
    {
     "name": "stdout",
     "output_type": "stream",
     "text": [
      "0\n",
      "1\n",
      "2\n"
     ]
    }
   ],
   "source": [
    "for i in range(10): \n",
    "    print(i) \n",
    "    if i == 2: \n",
    "        break"
   ]
  },
  {
   "cell_type": "code",
   "execution_count": 11,
   "id": "aa428bb3",
   "metadata": {},
   "outputs": [
    {
     "name": "stdout",
     "output_type": "stream",
     "text": [
      "b\n",
      "r\n",
      "e\n",
      "Out of while loop \n"
     ]
    }
   ],
   "source": [
    "s=\"break\"\n",
    "i = 0\n",
    "  \n",
    "# Using while loop \n",
    "while True: \n",
    "    print(s[i]) \n",
    "  \n",
    "    # break the loop as soon it sees 'e' \n",
    "    # or 's' \n",
    "    if s[i] == 'e' or s[i] == 's': \n",
    "        break\n",
    "    i += 1\n",
    "  \n",
    "print(\"Out of while loop \") "
   ]
  },
  {
   "cell_type": "code",
   "execution_count": 12,
   "id": "1c2feaab",
   "metadata": {},
   "outputs": [
    {
     "name": "stdout",
     "output_type": "stream",
     "text": [
      "The num has value: 1\n",
      "The num has value: 2\n",
      "The num has value: 3\n",
      "The num has value: 4\n",
      "The num has value: 5\n",
      "The num has value: 6\n",
      "The num has value: 7\n",
      "Out of loop\n"
     ]
    }
   ],
   "source": [
    "num = 0\n",
    "for i in range(10): \n",
    "    num += 1\n",
    "    if num == 8: \n",
    "        break\n",
    "    print(\"The num has value:\", num) \n",
    "print(\"Out of loop\") "
   ]
  },
  {
   "cell_type": "code",
   "execution_count": 26,
   "id": "b7b4dd1f",
   "metadata": {},
   "outputs": [
    {
     "name": "stdout",
     "output_type": "stream",
     "text": [
      "0\n",
      "looping\n",
      "1\n",
      "looping\n",
      "2\n",
      "looping\n",
      "3\n",
      "looping\n",
      "4\n",
      "looping\n",
      "5\n"
     ]
    }
   ],
   "source": [
    "n=0\n",
    "while n<10:\n",
    "    print(n)\n",
    "    if n==5:\n",
    "        break\n",
    "    else:\n",
    "        print(\"looping\")\n",
    "    n+=1\n"
   ]
  },
  {
   "cell_type": "code",
   "execution_count": 30,
   "id": "08928c59",
   "metadata": {},
   "outputs": [
    {
     "name": "stdout",
     "output_type": "stream",
     "text": [
      "write a number which wants to search:5\n",
      "1\n",
      "2\n",
      "3\n",
      "4\n",
      "5\n",
      "Number found!\n"
     ]
    }
   ],
   "source": [
    "# Search for a number in a list\n",
    "numbers = [1, 2, 3, 4, 5, 6, 7, 8, 9, 10]\n",
    "search_number = int(input(\"write a number which wants to search:\"))\n",
    "for num in numbers:\n",
    "    print(num)\n",
    "    if num == search_number:\n",
    "        print(\"Number found!\")\n",
    "        break\n",
    "        \n",
    "else:\n",
    "    print(\"Number not found!\")\n"
   ]
  },
  {
   "cell_type": "code",
   "execution_count": 31,
   "id": "49609735",
   "metadata": {},
   "outputs": [
    {
     "name": "stdout",
     "output_type": "stream",
     "text": [
      "Enter something ('quit' to exit): exist\n",
      "You entered: exist\n",
      "Enter something ('quit' to exit): no\n",
      "You entered: no\n",
      "Enter something ('quit' to exit): yes\n",
      "You entered: yes\n",
      "Enter something ('quit' to exit): quit\n",
      "Exiting loop...\n"
     ]
    }
   ],
   "source": [
    "# Keep asking the user for input until they enter 'quit'\n",
    "while True:\n",
    "    user_input = input(\"Enter something ('quit' to exit): \")\n",
    "    if user_input.lower() == 'quit':\n",
    "        print(\"Exiting loop...\")\n",
    "        break\n",
    "    print(\"You entered:\", user_input)\n"
   ]
  },
  {
   "cell_type": "code",
   "execution_count": 32,
   "id": "53e49bff",
   "metadata": {},
   "outputs": [
    {
     "name": "stdout",
     "output_type": "stream",
     "text": [
      "First negative number found at index: 2\n"
     ]
    }
   ],
   "source": [
    "# Find the index of the first negative number in a list\n",
    "numbers = [10, 20, -5, 30, -15, 40]\n",
    "for i, num in enumerate(numbers):                               #enumerate do indexing the number\n",
    "    if num < 0:\n",
    "        print(\"First negative number found at index:\", i)\n",
    "        break\n",
    "else:\n",
    "    print(\"No negative numbers found in the list.\")\n"
   ]
  },
  {
   "cell_type": "code",
   "execution_count": 33,
   "id": "25274ab3",
   "metadata": {},
   "outputs": [
    {
     "name": "stdout",
     "output_type": "stream",
     "text": [
      "Are you sure you want to exit? (yes/no): not yet\n",
      "Invalid input. Please enter 'yes' or 'no'.\n",
      "Are you sure you want to exit? (yes/no): no\n",
      "Continuing program...\n",
      "Are you sure you want to exit? (yes/no): yes\n",
      "Exiting program...\n"
     ]
    }
   ],
   "source": [
    "# Ask the user for confirmation before exiting\n",
    "while True:\n",
    "    confirm = input(\"Are you sure you want to exit? (yes/no): \")\n",
    "    if confirm.lower() == 'yes':\n",
    "        print(\"Exiting program...\")\n",
    "        break\n",
    "    elif confirm.lower() == 'no':\n",
    "        print(\"Continuing program...\")\n",
    "    else:\n",
    "        print(\"Invalid input. Please enter 'yes' or 'no'.\")\n"
   ]
  },
  {
   "cell_type": "code",
   "execution_count": 36,
   "id": "3593563a",
   "metadata": {},
   "outputs": [
    {
     "name": "stdout",
     "output_type": "stream",
     "text": [
      "We have 50 apple in stock\n",
      "We have 30 banana in stock\n",
      "We have 40 orange in stock\n",
      "We have 20 grape in stock\n",
      "All items have sufficient stock.\n"
     ]
    }
   ],
   "source": [
    "# Supermarket inventory check\n",
    "inventory = {\n",
    "    'apple': 50,\n",
    "    'banana': 30,\n",
    "    'orange': 40,\n",
    "    'grape': 20\n",
    "}\n",
    "\n",
    "for item, quantity in inventory.items():\n",
    "    print(\"We have {} {} in stock\".format(quantity,item))\n",
    "    if quantity < 10:\n",
    "        print(\"Low stock! Need to order more {}s\".format(item))\n",
    "        break\n",
    "else:\n",
    "    print(\"All items have sufficient stock.\")\n"
   ]
  },
  {
   "cell_type": "code",
   "execution_count": 1,
   "id": "ea75d75b",
   "metadata": {},
   "outputs": [
    {
     "name": "stdout",
     "output_type": "stream",
     "text": [
      "red\n",
      "blue\n"
     ]
    }
   ],
   "source": [
    "f=[\"red\",\"blue\",\"green\",\"yellow\"]\n",
    "for x in f:\n",
    "    print(x)\n",
    "    if x == \"blue\":\n",
    "          break  \n",
    "    \n",
    "   "
   ]
  },
  {
   "cell_type": "code",
   "execution_count": null,
   "id": "2295935c",
   "metadata": {},
   "outputs": [],
   "source": []
  }
 ],
 "metadata": {
  "kernelspec": {
   "display_name": "Python 3 (ipykernel)",
   "language": "python",
   "name": "python3"
  },
  "language_info": {
   "codemirror_mode": {
    "name": "ipython",
    "version": 3
   },
   "file_extension": ".py",
   "mimetype": "text/x-python",
   "name": "python",
   "nbconvert_exporter": "python",
   "pygments_lexer": "ipython3",
   "version": "3.9.12"
  }
 },
 "nbformat": 4,
 "nbformat_minor": 5
}
