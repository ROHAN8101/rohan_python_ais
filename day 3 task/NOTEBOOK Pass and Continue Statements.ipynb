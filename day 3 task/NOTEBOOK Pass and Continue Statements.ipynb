{
 "cells": [
  {
   "cell_type": "markdown",
   "id": "029220dc",
   "metadata": {},
   "source": [
    "# PASS STATEMENTS"
   ]
  },
  {
   "cell_type": "code",
   "execution_count": null,
   "id": "3736d4cf",
   "metadata": {},
   "outputs": [],
   "source": [
    "#Definition and Usage\n",
    "The pass statement is used as a placeholder for future code.\n",
    "When the pass statement is executed, nothing happens, but you avoid getting an error when empty code is not allowed.\n",
    "Empty code is not allowed in loops, function definitions, class definitions, or in if statements."
   ]
  },
  {
   "cell_type": "code",
   "execution_count": 1,
   "id": "d6b88cd6",
   "metadata": {},
   "outputs": [],
   "source": [
    "a = 33\n",
    "b = 200\n",
    "if a==b:\n",
    "    pass\n",
    "    print(\"b is greater than a\")"
   ]
  },
  {
   "cell_type": "code",
   "execution_count": 2,
   "id": "73d1ab97",
   "metadata": {},
   "outputs": [],
   "source": [
    "for i in \"india\":                 # we used pass here to avoid error\n",
    "    pass"
   ]
  },
  {
   "cell_type": "code",
   "execution_count": 30,
   "id": "f2966790",
   "metadata": {},
   "outputs": [],
   "source": [
    "#used in exceptional handeling\n",
    "try:\n",
    "    a=a/0\n",
    "    print(a)\n",
    "except ZeroDivisionError:\n",
    "    pass\n",
    " "
   ]
  },
  {
   "cell_type": "code",
   "execution_count": 31,
   "id": "6c1bd5ca",
   "metadata": {},
   "outputs": [],
   "source": [
    "l={\"apple\",\"car\"}                         #without pass problem will throws error\n",
    "for i in l:\n",
    "    pass"
   ]
  },
  {
   "cell_type": "markdown",
   "id": "d1d40a9f",
   "metadata": {},
   "source": [
    "# CONTINUE STATEMENT"
   ]
  },
  {
   "cell_type": "code",
   "execution_count": null,
   "id": "abcddffb",
   "metadata": {},
   "outputs": [],
   "source": [
    "#The continue statement is used in Python to skip the rest of the code inside a loop for the current iteration \n",
    "#and continue with the next iteration."
   ]
  },
  {
   "cell_type": "code",
   "execution_count": 42,
   "id": "c31ccf74",
   "metadata": {},
   "outputs": [
    {
     "name": "stdout",
     "output_type": "stream",
     "text": [
      "2\n",
      "4\n",
      "6\n",
      "8\n",
      "10\n"
     ]
    }
   ],
   "source": [
    "for i in range(1, 11):\n",
    "    if i % 2 == 0:\n",
    "        print(i)\n",
    "    else:\n",
    "        continue"
   ]
  },
  {
   "cell_type": "code",
   "execution_count": 43,
   "id": "377b55dc",
   "metadata": {},
   "outputs": [
    {
     "name": "stdout",
     "output_type": "stream",
     "text": [
      "1\n",
      "2\n",
      "4\n",
      "5\n",
      "6\n"
     ]
    }
   ],
   "source": [
    "numbers = [1, 2, 3, 4, 5, 6]\n",
    "for num in numbers:\n",
    "    if num == 3:\n",
    "        continue\n",
    "    print(num)"
   ]
  },
  {
   "cell_type": "code",
   "execution_count": 44,
   "id": "3d4eee4e",
   "metadata": {},
   "outputs": [
    {
     "name": "stdout",
     "output_type": "stream",
     "text": [
      "Passing score: 80\n",
      "Passing score: 90\n",
      "Passing score: 70\n",
      "Passing score: 85\n"
     ]
    }
   ],
   "source": [
    "scores = [80, 90, 60, 70, 85]\n",
    "for score in scores:\n",
    "    if score < 70:\n",
    "        continue\n",
    "    print(\"Passing score:\", score)"
   ]
  },
  {
   "cell_type": "code",
   "execution_count": 46,
   "id": "3103bf54",
   "metadata": {},
   "outputs": [
    {
     "name": "stdout",
     "output_type": "stream",
     "text": [
      "0 1\n",
      "0 2\n",
      "1 0\n",
      "1 2\n",
      "2 0\n",
      "2 1\n"
     ]
    }
   ],
   "source": [
    "\n",
    "for i in range(3):\n",
    "    for j in range(3):\n",
    "        if i == j:\n",
    "            continue\n",
    "        print(i, j)"
   ]
  },
  {
   "cell_type": "code",
   "execution_count": null,
   "id": "4bc14337",
   "metadata": {},
   "outputs": [],
   "source": []
  }
 ],
 "metadata": {
  "kernelspec": {
   "display_name": "Python 3 (ipykernel)",
   "language": "python",
   "name": "python3"
  },
  "language_info": {
   "codemirror_mode": {
    "name": "ipython",
    "version": 3
   },
   "file_extension": ".py",
   "mimetype": "text/x-python",
   "name": "python",
   "nbconvert_exporter": "python",
   "pygments_lexer": "ipython3",
   "version": "3.9.12"
  }
 },
 "nbformat": 4,
 "nbformat_minor": 5
}
