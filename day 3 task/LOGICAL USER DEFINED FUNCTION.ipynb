{
 "cells": [
  {
   "cell_type": "markdown",
   "id": "8721413f",
   "metadata": {},
   "source": [
    "# LOGICAL USER DEFINED FUNCTION"
   ]
  },
  {
   "cell_type": "code",
   "execution_count": 6,
   "id": "e8b3782d",
   "metadata": {},
   "outputs": [],
   "source": [
    "#for even number or odd\n",
    "def fun(*n):\n",
    "    for i in n:\n",
    "        if i%2==0:\n",
    "            print(i,\"=\",\"even\")\n",
    "        else:\n",
    "            print(i,\"=\",\"odd\")\n",
    "            "
   ]
  },
  {
   "cell_type": "code",
   "execution_count": 7,
   "id": "719da3cf",
   "metadata": {},
   "outputs": [
    {
     "name": "stdout",
     "output_type": "stream",
     "text": [
      "1 = odd\n",
      "2 = even\n",
      "3 = odd\n",
      "4 = even\n"
     ]
    }
   ],
   "source": [
    "fun(1,2,3,4)"
   ]
  },
  {
   "cell_type": "code",
   "execution_count": 13,
   "id": "4b7553af",
   "metadata": {},
   "outputs": [],
   "source": [
    "#for odd number\n",
    "def fun(a):\n",
    "    if a%2!=0:\n",
    "        print(\"odd\")\n",
    "    else:\n",
    "        print(\"even\")\n",
    "    \n",
    "      \n",
    "    "
   ]
  },
  {
   "cell_type": "code",
   "execution_count": 14,
   "id": "dafbcca8",
   "metadata": {},
   "outputs": [
    {
     "name": "stdout",
     "output_type": "stream",
     "text": [
      "even\n"
     ]
    }
   ],
   "source": [
    "fun(4)"
   ]
  },
  {
   "cell_type": "code",
   "execution_count": 16,
   "id": "39ef2db9",
   "metadata": {},
   "outputs": [],
   "source": [
    "#program for checkking a is divisble by b\n",
    "def fun(a,b):\n",
    "    if a%b==0:\n",
    "        print(\"a is divisible by b\")\n",
    "    else:\n",
    "        print(\"not divisible\")"
   ]
  },
  {
   "cell_type": "code",
   "execution_count": 17,
   "id": "006dc47f",
   "metadata": {},
   "outputs": [
    {
     "name": "stdout",
     "output_type": "stream",
     "text": [
      "a is divisible by b\n"
     ]
    }
   ],
   "source": [
    "fun(4,2)"
   ]
  },
  {
   "cell_type": "code",
   "execution_count": 19,
   "id": "494ac6c9",
   "metadata": {},
   "outputs": [],
   "source": [
    "#program for checkking grades\n",
    "def fun(a):\n",
    "    if a>80:\n",
    "        print(\"grade A\")\n",
    "    elif 65<a<=80:\n",
    "        print(\"grade B\")\n",
    "    else:\n",
    "            print(\"grade c\")"
   ]
  },
  {
   "cell_type": "code",
   "execution_count": 20,
   "id": "6856f580",
   "metadata": {},
   "outputs": [
    {
     "name": "stdout",
     "output_type": "stream",
     "text": [
      "grade A\n"
     ]
    }
   ],
   "source": [
    "fun(85)"
   ]
  },
  {
   "cell_type": "code",
   "execution_count": 24,
   "id": "294b3f2c",
   "metadata": {},
   "outputs": [],
   "source": [
    "#Function to check if a number is a prime number:\n",
    "def is_prime(num):\n",
    "    if num < 2:\n",
    "        return False\n",
    "    for i in range(2, int(num ** 0.5) + 1):\n",
    "        if num % i == 0:\n",
    "            return False\n",
    "    return True\n"
   ]
  },
  {
   "cell_type": "code",
   "execution_count": 26,
   "id": "035a3f7b",
   "metadata": {},
   "outputs": [
    {
     "data": {
      "text/plain": [
       "True"
      ]
     },
     "execution_count": 26,
     "metadata": {},
     "output_type": "execute_result"
    }
   ],
   "source": [
    "is_prime(3)"
   ]
  },
  {
   "cell_type": "code",
   "execution_count": 27,
   "id": "b5d4dc15",
   "metadata": {},
   "outputs": [],
   "source": [
    "#Function to check if a string contains only alphabetic characters:\n",
    "def is_alpha(s):\n",
    "    return s.isalpha()"
   ]
  },
  {
   "cell_type": "code",
   "execution_count": 33,
   "id": "8a32d2b9",
   "metadata": {},
   "outputs": [
    {
     "data": {
      "text/plain": [
       "True"
      ]
     },
     "execution_count": 33,
     "metadata": {},
     "output_type": "execute_result"
    }
   ],
   "source": [
    "is_alpha(\"rohan\")"
   ]
  },
  {
   "cell_type": "code",
   "execution_count": 42,
   "id": "f2cf6ac9",
   "metadata": {},
   "outputs": [],
   "source": [
    "#Function to check if a number is within a specified range:\n",
    "def is_within_range(num, min_val, max_val):\n",
    "    return min_val <= num <= max_val"
   ]
  },
  {
   "cell_type": "code",
   "execution_count": 43,
   "id": "b626f510",
   "metadata": {},
   "outputs": [
    {
     "data": {
      "text/plain": [
       "False"
      ]
     },
     "execution_count": 43,
     "metadata": {},
     "output_type": "execute_result"
    }
   ],
   "source": [
    "is_within_range(20,25,35)"
   ]
  },
  {
   "cell_type": "code",
   "execution_count": 44,
   "id": "023edf96",
   "metadata": {},
   "outputs": [
    {
     "data": {
      "text/plain": [
       "True"
      ]
     },
     "execution_count": 44,
     "metadata": {},
     "output_type": "execute_result"
    }
   ],
   "source": [
    "is_within_range(20,6,35)"
   ]
  },
  {
   "cell_type": "code",
   "execution_count": 45,
   "id": "c7916ba7",
   "metadata": {},
   "outputs": [],
   "source": [
    "#Function to check if a string is a palindrome:\n",
    "def is_palindrome(s):\n",
    "    return s == s[::-1]"
   ]
  },
  {
   "cell_type": "code",
   "execution_count": 49,
   "id": "04f24be1",
   "metadata": {},
   "outputs": [
    {
     "data": {
      "text/plain": [
       "True"
      ]
     },
     "execution_count": 49,
     "metadata": {},
     "output_type": "execute_result"
    }
   ],
   "source": [
    "is_palindrome(\"r\")"
   ]
  },
  {
   "cell_type": "code",
   "execution_count": 50,
   "id": "68251c12",
   "metadata": {},
   "outputs": [
    {
     "data": {
      "text/plain": [
       "False"
      ]
     },
     "execution_count": 50,
     "metadata": {},
     "output_type": "execute_result"
    }
   ],
   "source": [
    "is_palindrome(\"rohan\")"
   ]
  },
  {
   "cell_type": "code",
   "execution_count": 51,
   "id": "43b2a982",
   "metadata": {},
   "outputs": [],
   "source": [
    "#Function to check if a given number is a triangular number:\n",
    "def is_triangular(num):\n",
    "    n = 1\n",
    "    triangular = 1\n",
    "    while triangular < num:\n",
    "        n += 1\n",
    "        triangular = n * (n + 1) // 2\n",
    "    return triangular == num"
   ]
  },
  {
   "cell_type": "code",
   "execution_count": 52,
   "id": "38f32c0c",
   "metadata": {},
   "outputs": [
    {
     "data": {
      "text/plain": [
       "True"
      ]
     },
     "execution_count": 52,
     "metadata": {},
     "output_type": "execute_result"
    }
   ],
   "source": [
    "is_triangular(3)"
   ]
  },
  {
   "cell_type": "code",
   "execution_count": 53,
   "id": "b1d37105",
   "metadata": {},
   "outputs": [
    {
     "data": {
      "text/plain": [
       "False"
      ]
     },
     "execution_count": 53,
     "metadata": {},
     "output_type": "execute_result"
    }
   ],
   "source": [
    "is_triangular(5)"
   ]
  },
  {
   "cell_type": "code",
   "execution_count": 54,
   "id": "fa8eaf44",
   "metadata": {},
   "outputs": [],
   "source": [
    "#Function to check if a given number is a power of another number:\n",
    "def is_power_of(num, base):\n",
    "    if num == 1:\n",
    "        return True\n",
    "    power = 1\n",
    "    while power < num:\n",
    "        power *= base\n",
    "    return power == num"
   ]
  },
  {
   "cell_type": "code",
   "execution_count": 57,
   "id": "36075fc7",
   "metadata": {},
   "outputs": [
    {
     "data": {
      "text/plain": [
       "False"
      ]
     },
     "execution_count": 57,
     "metadata": {},
     "output_type": "execute_result"
    }
   ],
   "source": [
    "is_power_of(3, 2)"
   ]
  },
  {
   "cell_type": "code",
   "execution_count": 58,
   "id": "83e98dfa",
   "metadata": {},
   "outputs": [],
   "source": [
    "#Function to check if a given number is a perfect square:\n",
    "def is_perfect_square(num):\n",
    "    return int(num ** 0.5) ** 2 == num"
   ]
  },
  {
   "cell_type": "code",
   "execution_count": 59,
   "id": "c23b0cd2",
   "metadata": {},
   "outputs": [
    {
     "data": {
      "text/plain": [
       "False"
      ]
     },
     "execution_count": 59,
     "metadata": {},
     "output_type": "execute_result"
    }
   ],
   "source": [
    "is_perfect_square(5)"
   ]
  },
  {
   "cell_type": "code",
   "execution_count": 61,
   "id": "52d8c803",
   "metadata": {},
   "outputs": [
    {
     "data": {
      "text/plain": [
       "True"
      ]
     },
     "execution_count": 61,
     "metadata": {},
     "output_type": "execute_result"
    }
   ],
   "source": [
    "is_perfect_square(4)"
   ]
  },
  {
   "cell_type": "code",
   "execution_count": null,
   "id": "e9b7f38f",
   "metadata": {},
   "outputs": [],
   "source": []
  }
 ],
 "metadata": {
  "kernelspec": {
   "display_name": "Python 3 (ipykernel)",
   "language": "python",
   "name": "python3"
  },
  "language_info": {
   "codemirror_mode": {
    "name": "ipython",
    "version": 3
   },
   "file_extension": ".py",
   "mimetype": "text/x-python",
   "name": "python",
   "nbconvert_exporter": "python",
   "pygments_lexer": "ipython3",
   "version": "3.9.12"
  }
 },
 "nbformat": 4,
 "nbformat_minor": 5
}
