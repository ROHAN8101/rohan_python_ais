{
 "cells": [
  {
   "cell_type": "markdown",
   "id": "799b857a-f9f3-44c6-a307-da29fdb9a594",
   "metadata": {},
   "source": [
    "# IF STATEMENT"
   ]
  },
  {
   "cell_type": "raw",
   "id": "105d9291",
   "metadata": {},
   "source": [
    "#if statement is a conditional statement. It is used to execute a block of code only when a specific condition is met. \n",
    "#Syntax\n",
    "if condition:\n",
    "    # body of if statement\n",
    "    \n",
    "#Here, if the condition of the if statement is:\n",
    "#True - the body of the if statement executes.\n",
    "#False - the body of the if statement is skipped from execution."
   ]
  },
  {
   "cell_type": "markdown",
   "id": "aef7baf3-7667-4851-b1c9-2cd04cb9a95e",
   "metadata": {},
   "source": [
    "EXAMPLES:-"
   ]
  },
  {
   "cell_type": "code",
   "execution_count": 1,
   "id": "4db34c7b-7bfb-4751-8869-4972a8e6f113",
   "metadata": {},
   "outputs": [
    {
     "name": "stdout",
     "output_type": "stream",
     "text": [
      "enter the number:4\n",
      "given number is even \n"
     ]
    }
   ],
   "source": [
    "#program for checkking even number\n",
    "n=int(input(\"enter the number:\"))\n",
    "if n%2==0:\n",
    "    print(\"given number is even \")       #here 4 is even so condition becomes true thats why body of if statement is executes"
   ]
  },
  {
   "cell_type": "code",
   "execution_count": 2,
   "id": "e9bf2d3a-8578-4720-83f8-2b69c6c07c13",
   "metadata": {},
   "outputs": [
    {
     "name": "stdout",
     "output_type": "stream",
     "text": [
      "enter the number:8\n",
      "given number is even \n"
     ]
    }
   ],
   "source": [
    "n=int(input(\"enter the number:\"))\n",
    "if n%2==0: \n",
    "    print(\"given number is even \")      #here 5 is not even (odd) so condition becomes false thats why body of if statement is skipped for execution"
   ]
  },
  {
   "cell_type": "code",
   "execution_count": 3,
   "id": "62000cf7-c3ae-47b3-aba4-21bab2f74d35",
   "metadata": {},
   "outputs": [
    {
     "name": "stdout",
     "output_type": "stream",
     "text": [
      "bjp made a goverment\n"
     ]
    }
   ],
   "source": [
    "#program for checking maximum number\n",
    "bjp=241\n",
    "india=232\n",
    "if bjp>india :\n",
    "    print(\"bjp made a goverment\")"
   ]
  },
  {
   "cell_type": "code",
   "execution_count": 4,
   "id": "fd2f18a9-fd19-462a-8fb2-63c2cdb04e3a",
   "metadata": {},
   "outputs": [
    {
     "name": "stdout",
     "output_type": "stream",
     "text": [
      "enter the pvalue:0.084\n",
      "data comes from normal distribution\n"
     ]
    }
   ],
   "source": [
    "#progrm for checkking noramlity\n",
    "pvalue= float(input(\"enter the pvalue:\"))\n",
    "if pvalue>0.05:\n",
    "    print(\"data comes from normal distribution\")"
   ]
  },
  {
   "cell_type": "code",
   "execution_count": 5,
   "id": "12702608-16a3-4fae-9787-5b0848a1adc4",
   "metadata": {},
   "outputs": [
    {
     "name": "stdout",
     "output_type": "stream",
     "text": [
      "Then order becomes c>a>b\n"
     ]
    }
   ],
   "source": [
    "#program for ordering preferences\n",
    "a = 200\n",
    "b = 33\n",
    "c = 500\n",
    "if a > b and c > a:           #for and operator we need both conditions are becomes true\n",
    "  print(\"Then order becomes c>a>b\")"
   ]
  },
  {
   "cell_type": "code",
   "execution_count": 6,
   "id": "8635f3db-f0a7-44e8-8955-f8dbd95b77ef",
   "metadata": {},
   "outputs": [
    {
     "name": "stdout",
     "output_type": "stream",
     "text": [
      "At least one of the conditions is True\n"
     ]
    }
   ],
   "source": [
    "# using OR operator\n",
    "a = 250\n",
    "b = 34\n",
    "c = 600\n",
    "if a > b or a > c:           #for or operator we need atleast one condition is true for execute staement\n",
    "  print(\"At least one of the conditions is True\")"
   ]
  },
  {
   "cell_type": "code",
   "execution_count": 7,
   "id": "0f0e06e9-45d2-4759-aa07-393f59a420a9",
   "metadata": {},
   "outputs": [
    {
     "name": "stdout",
     "output_type": "stream",
     "text": [
      "a is NOT greater than b\n"
     ]
    }
   ],
   "source": [
    "# using NOt operator\n",
    "a = 100\n",
    "b = 200\n",
    "if not a > b:\n",
    "  print(\"a is NOT greater than b\")"
   ]
  },
  {
   "cell_type": "code",
   "execution_count": 8,
   "id": "5e75c002-2839-4f9b-aecc-deb79b6fd309",
   "metadata": {},
   "outputs": [
    {
     "name": "stdout",
     "output_type": "stream",
     "text": [
      "given number is odd\n"
     ]
    }
   ],
   "source": [
    "#program for checcking odd number\n",
    "n=7\n",
    "if n%2 !=0:\n",
    "    print(\"given number is odd\")"
   ]
  },
  {
   "cell_type": "code",
   "execution_count": 9,
   "id": "9996a0aa-700f-4b0d-b3c1-7288bb023646",
   "metadata": {},
   "outputs": [
    {
     "name": "stdout",
     "output_type": "stream",
     "text": [
      "given number m is divisible by n\n"
     ]
    }
   ],
   "source": [
    "#program for checkking m is divisible by n\n",
    "m=400\n",
    "n=200\n",
    "if m%n==0:\n",
    "    print(\"given number m is divisible by n\")"
   ]
  },
  {
   "cell_type": "code",
   "execution_count": 10,
   "id": "43002e7f-03f5-40a0-a77a-55e3fe6962ec",
   "metadata": {},
   "outputs": [
    {
     "name": "stdout",
     "output_type": "stream",
     "text": [
      "given number is interger\n"
     ]
    }
   ],
   "source": [
    "#program for checkking given number is integer by using if\n",
    "a=10\n",
    "if isinstance(a,int):\n",
    "    print(\"given number is interger\")"
   ]
  },
  {
   "cell_type": "code",
   "execution_count": 11,
   "id": "ca4e4765-ccb8-48a7-a6f2-72e10a82dffa",
   "metadata": {},
   "outputs": [
    {
     "name": "stdout",
     "output_type": "stream",
     "text": [
      "given number is float\n"
     ]
    }
   ],
   "source": [
    "#program for checkking given number is float by using if\n",
    "a=10.9\n",
    "if isinstance(a,float):\n",
    "    print(\"given number is float\")"
   ]
  },
  {
   "cell_type": "code",
   "execution_count": 12,
   "id": "bbf8e355-2210-4b12-bee4-dd190e4e1fc1",
   "metadata": {},
   "outputs": [
    {
     "name": "stdout",
     "output_type": "stream",
     "text": [
      "given number is bool\n"
     ]
    }
   ],
   "source": [
    "#program for checkking given number is boolean by using if\n",
    "a=True\n",
    "if isinstance(a,bool):\n",
    "    print(\"given number is bool\")"
   ]
  },
  {
   "cell_type": "code",
   "execution_count": 13,
   "id": "94696c42-c8d6-4ed7-a35b-1967b863894c",
   "metadata": {},
   "outputs": [
    {
     "name": "stdout",
     "output_type": "stream",
     "text": [
      "given key is available in dictanory\n"
     ]
    }
   ],
   "source": [
    "#program for checking specific word available in dictanory\n",
    "m={\"name\":\"rk\",\"year\":2002,\"age\":30}\n",
    "if \"name\" in m:\n",
    "    print(\"given key is available in dictanory\")"
   ]
  },
  {
   "cell_type": "code",
   "execution_count": null,
   "id": "473089d6-445e-464c-b519-22e4e198837a",
   "metadata": {},
   "outputs": [],
   "source": []
  }
 ],
 "metadata": {
  "kernelspec": {
   "display_name": "Python 3 (ipykernel)",
   "language": "python",
   "name": "python3"
  },
  "language_info": {
   "codemirror_mode": {
    "name": "ipython",
    "version": 3
   },
   "file_extension": ".py",
   "mimetype": "text/x-python",
   "name": "python",
   "nbconvert_exporter": "python",
   "pygments_lexer": "ipython3",
   "version": "3.9.12"
  }
 },
 "nbformat": 4,
 "nbformat_minor": 5
}
