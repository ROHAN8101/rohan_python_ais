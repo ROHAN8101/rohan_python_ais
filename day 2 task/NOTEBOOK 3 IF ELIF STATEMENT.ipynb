{
 "cells": [
  {
   "cell_type": "markdown",
   "id": "b0941fbe",
   "metadata": {},
   "source": [
    "# IF ELIF STATEMENT"
   ]
  },
  {
   "cell_type": "code",
   "execution_count": null,
   "id": "a0e86c61",
   "metadata": {},
   "outputs": [],
   "source": [
    "#The if...else statement is used to execute a block \n",
    "#of code among two alternatives.\n",
    "#However, if we need to make a choice between more than two alternatives, \n",
    "#we use the if...elif...else statement.\n",
    "\n",
    "Syntax\n",
    "if condition1:\n",
    "    # code block 1\n",
    "elif condition2:\n",
    "    # code block 2\n",
    "else: \n",
    "    # code block 3\n",
    "#Here,\n",
    "if condition1 - This checks if condition1 is True then block 1 is execute\n",
    "elif condition2 - If condition1 is not True, the program checks condition2. \n",
    "                  If condition2 is True, it  executes code block 2.\n",
    "else - both conditions are not true then block 3 will be execute."
   ]
  },
  {
   "cell_type": "markdown",
   "id": "e1b3d99c",
   "metadata": {},
   "source": [
    "# EXAMPLES"
   ]
  },
  {
   "cell_type": "code",
   "execution_count": 1,
   "id": "ebb6289a",
   "metadata": {},
   "outputs": [
    {
     "name": "stdout",
     "output_type": "stream",
     "text": [
      "enter the number:18\n",
      "there is a adult\n"
     ]
    }
   ],
   "source": [
    "#for age below 18 teen,below 10 kids,above 18 adult\n",
    "n=int(input(\"enter the number:\"))\n",
    "if n<10:\n",
    "    print(\"there is a kid:\")\n",
    "elif 10<n<18:\n",
    "    print(\"there is a teenager:\") \n",
    "else:\n",
    "    print(\"there is a adult\")\n"
   ]
  },
  {
   "cell_type": "code",
   "execution_count": 3,
   "id": "d42d4238",
   "metadata": {},
   "outputs": [
    {
     "name": "stdout",
     "output_type": "stream",
     "text": [
      "enter value of a:20\n",
      "enter value of b :20\n",
      " both are equal\n"
     ]
    }
   ],
   "source": [
    "#program for checking numbers relation between them\n",
    "a=int(input(\"enter value of a:\"))\n",
    "b=int(input(\"enter value of b :\"))\n",
    "if a>b:\n",
    "    print(\"yes\")\n",
    "elif a==b:\n",
    "    print(\" both are equal\")\n",
    "else:\n",
    "    print(\"no\")\n"
   ]
  },
  {
   "cell_type": "code",
   "execution_count": 4,
   "id": "ce0c6c0b",
   "metadata": {},
   "outputs": [
    {
     "name": "stdout",
     "output_type": "stream",
     "text": [
      " enter the distance:30\n",
      "Drive\n"
     ]
    }
   ],
   "source": [
    "#Determining the suitable mode of transportation based on distance:\n",
    "distance = int(input(\" enter the distance:\"))\n",
    "if distance < 5:\n",
    "    print(\"Walk\")\n",
    "elif distance < 20:\n",
    "    print(\"Cycle\")\n",
    "else:\n",
    "    print(\"Drive\")"
   ]
  },
  {
   "cell_type": "code",
   "execution_count": 9,
   "id": "e39f43a8",
   "metadata": {},
   "outputs": [
    {
     "name": "stdout",
     "output_type": "stream",
     "text": [
      "enter the input:mac\n",
      "Mac OS\n"
     ]
    }
   ],
   "source": [
    "#Checking the operating system based on input:\n",
    "os = str(input(\"enter the input:\"))\n",
    "if os.lower() == \"windows\":\n",
    "    print(\"Windows OS\")\n",
    "elif os.lower() == \"mac\":\n",
    "    print(\"Mac OS\")\n",
    "else:\n",
    "    print(\"Other OS\")"
   ]
  },
  {
   "cell_type": "code",
   "execution_count": 10,
   "id": "539fa0b6",
   "metadata": {},
   "outputs": [
    {
     "name": "stdout",
     "output_type": "stream",
     "text": [
      "enter the total purchess amount:150\n",
      "Discount offered: 20 %\n"
     ]
    }
   ],
   "source": [
    "#Determining the discount based on total purchase amount:\n",
    "total = int(input(\"enter the total purchess amount:\"))\n",
    "if total >= 100:\n",
    "    discount = 20\n",
    "elif total >= 50:\n",
    "    discount = 10\n",
    "else:\n",
    "    discount = 5\n",
    "print(\"Discount offered:\", discount, \"%\") "
   ]
  },
  {
   "cell_type": "code",
   "execution_count": 12,
   "id": "d756f654",
   "metadata": {},
   "outputs": [
    {
     "name": "stdout",
     "output_type": "stream",
     "text": [
      "enter the value of temp:20\n",
      "Warm\n"
     ]
    }
   ],
   "source": [
    "#checkking tempreture\n",
    "temp =int(input(\"enter the value of temp:\"))\n",
    "\n",
    "if temp < 0:\n",
    "    print(\"Freezing\")\n",
    "elif temp >= 0 and temp < 10:\n",
    "    print(\"Cold\")\n",
    "elif temp >= 10 and temp < 20:\n",
    "    print(\"Cool\")\n",
    "else:\n",
    "    print(\"Warm\")"
   ]
  },
  {
   "cell_type": "code",
   "execution_count": 16,
   "id": "2d13f5ef",
   "metadata": {},
   "outputs": [
    {
     "name": "stdout",
     "output_type": "stream",
     "text": [
      "enter the number:-5\n",
      "Negative number\n"
     ]
    }
   ],
   "source": [
    "#program for checcking number is positive,negative or zero\n",
    "num =int(input(\"enter the number:\"))\n",
    "\n",
    "if num > 0:\n",
    "    print(\"Positive number\")\n",
    "elif num < 0:\n",
    "    print(\"Negative number\")\n",
    "else:\n",
    "    print(\"Zero\")"
   ]
  },
  {
   "cell_type": "code",
   "execution_count": 17,
   "id": "131b0c6b",
   "metadata": {},
   "outputs": [
    {
     "name": "stdout",
     "output_type": "stream",
     "text": [
      "Even number\n"
     ]
    }
   ],
   "source": [
    "#program for checkking even odd numbers\n",
    "num = 8\n",
    "\n",
    "if num % 2 == 0:\n",
    "    print(\"Even number\")\n",
    "elif num % 2 != 0:\n",
    "    print(\"Odd number\")"
   ]
  },
  {
   "cell_type": "code",
   "execution_count": 19,
   "id": "56308b5f",
   "metadata": {},
   "outputs": [
    {
     "name": "stdout",
     "output_type": "stream",
     "text": [
      "enter percentage70\n",
      "grade is C\n"
     ]
    }
   ],
   "source": [
    "#checkking grades of student by percent\n",
    "score =int(input(\"enter percentage\"))\n",
    "\n",
    "if score >= 90:\n",
    "    print(\"A\")\n",
    "elif score >= 80:\n",
    "    print(\"B\")\n",
    "elif score >= 70:\n",
    "    print(\"grade is C\")\n",
    "elif score >= 60:\n",
    "    print(\"D\")\n",
    "else:\n",
    "    print(\"F\")"
   ]
  },
  {
   "cell_type": "code",
   "execution_count": 21,
   "id": "871c2a38",
   "metadata": {},
   "outputs": [
    {
     "name": "stdout",
     "output_type": "stream",
     "text": [
      "enter the sizeXL\n",
      "Extra Large\n"
     ]
    }
   ],
   "source": [
    "#program for checkking which type are fit by size\n",
    "size = str(input(\"enter the size\"))\n",
    "if size == \"S\":\n",
    "    print(\"Small\")\n",
    "elif size == \"M\":\n",
    "    print(\"Medium\")\n",
    "elif size == \"L\":\n",
    "    print(\"Large\")\n",
    "else:\n",
    "    print(\"Extra Large\")"
   ]
  },
  {
   "cell_type": "code",
   "execution_count": 22,
   "id": "7b46cfb1",
   "metadata": {},
   "outputs": [
    {
     "name": "stdout",
     "output_type": "stream",
     "text": [
      "enter the year:2024\n",
      "2024 is a leap year\n"
     ]
    }
   ],
   "source": [
    "#program for checkking leap year\n",
    "year = int(input(\"enter the year:\"))\n",
    "if year % 400 == 0:\n",
    "    print(f\"{year} is a leap year\")\n",
    "elif year % 100 == 0:\n",
    "    print(f\"{year} is not a leap year\")\n",
    "elif year % 4 == 0:\n",
    "    print(f\"{year} is a leap year\")\n",
    "else:\n",
    "    print(f\"{year} is not a leap year\")"
   ]
  },
  {
   "cell_type": "code",
   "execution_count": null,
   "id": "878bc704",
   "metadata": {},
   "outputs": [],
   "source": []
  }
 ],
 "metadata": {
  "kernelspec": {
   "display_name": "Python 3 (ipykernel)",
   "language": "python",
   "name": "python3"
  },
  "language_info": {
   "codemirror_mode": {
    "name": "ipython",
    "version": 3
   },
   "file_extension": ".py",
   "mimetype": "text/x-python",
   "name": "python",
   "nbconvert_exporter": "python",
   "pygments_lexer": "ipython3",
   "version": "3.9.12"
  }
 },
 "nbformat": 4,
 "nbformat_minor": 5
}
