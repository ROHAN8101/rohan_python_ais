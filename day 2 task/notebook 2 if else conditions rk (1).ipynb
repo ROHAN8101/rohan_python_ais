{
 "cells": [
  {
   "cell_type": "markdown",
   "id": "9295b30d-5e14-41bb-91f2-5604ebeb5e1b",
   "metadata": {},
   "source": [
    "# IF ELSE STATEMENTS"
   ]
  },
  {
   "cell_type": "raw",
   "id": "92de251b",
   "metadata": {},
   "source": [
    "#if statement can have an optional else clause. The else statement executes if the condition in the if statement evaluates to False.\n",
    "#Syntax\n",
    "if condition:\n",
    "    # body of if statement\n",
    "else:\n",
    "    # body of else statement\n",
    "Here, if the condition inside the if statement evaluates to\n",
    "#True - the body of if executes, and the body of else is skipped.\n",
    "#False - the body of else executes, and the body of if is skipped"
   ]
  },
  {
   "cell_type": "code",
   "execution_count": 1,
   "id": "f29a84f0-b932-47be-938b-127f53f222e0",
   "metadata": {},
   "outputs": [
    {
     "name": "stdout",
     "output_type": "stream",
     "text": [
      "no\n"
     ]
    }
   ],
   "source": [
    "#EXAMPLES:\n",
    "a=30\n",
    "b=300\n",
    "if a>b:\n",
    "    print(\"yes\")\n",
    "else:\n",
    "    print(\"no\")\n"
   ]
  },
  {
   "cell_type": "code",
   "execution_count": 2,
   "id": "b13372c4-465c-407a-a99b-786aa076915b",
   "metadata": {},
   "outputs": [
    {
     "name": "stdout",
     "output_type": "stream",
     "text": [
      " both condition are true\n"
     ]
    }
   ],
   "source": [
    "a=4000\n",
    "b=500\n",
    "c=10000\n",
    "if a>b and c>a:                           #LOGICAL CONDITION(AND/OR)\n",
    "    print(\" both condition are true\")\n",
    "else:\n",
    "    print(\"condition are not true\")"
   ]
  },
  {
   "cell_type": "code",
   "execution_count": 3,
   "id": "15795fae-f032-43fd-b864-662bc8b7109c",
   "metadata": {},
   "outputs": [
    {
     "name": "stdout",
     "output_type": "stream",
     "text": [
      " both condition are true\n"
     ]
    }
   ],
   "source": [
    "a=4000\n",
    "b=500\n",
    "c=10000\n",
    "if a>b or c<a:                           #LOGICAL CONDITION(AND/OR)\n",
    "    print(\" both condition are true\")\n",
    "else:\n",
    "    print(\"condition are not true\")"
   ]
  },
  {
   "cell_type": "code",
   "execution_count": 4,
   "id": "d53cb314",
   "metadata": {},
   "outputs": [
    {
     "name": "stdout",
     "output_type": "stream",
     "text": [
      "Enter the number5\n",
      "number is odd\n"
     ]
    }
   ],
   "source": [
    "#find number is odd or even\n",
    "n1=int(input(\"Enter the number\"))\n",
    "if n1 % 2 ==0:\n",
    "    print(\" number is even\")\n",
    "else:\n",
    "    print(\"number is odd\")"
   ]
  },
  {
   "cell_type": "code",
   "execution_count": 5,
   "id": "d766ab04",
   "metadata": {},
   "outputs": [
    {
     "name": "stdout",
     "output_type": "stream",
     "text": [
      "1st no: 100\n",
      "2nd no: 50\n",
      "n1 is maximum\n"
     ]
    }
   ],
   "source": [
    "#find out maximum number\n",
    "n1=int(input(\"1st no: \"))\n",
    "n2=int(input(\"2nd no: \"))\n",
    "if n1>n2:\n",
    "    print(\"n1 is maximum\")\n",
    "else:\n",
    "    print(\"n2 is maximum\")\n"
   ]
  },
  {
   "cell_type": "code",
   "execution_count": 7,
   "id": "24d61fd9",
   "metadata": {},
   "outputs": [
    {
     "name": "stdout",
     "output_type": "stream",
     "text": [
      "enter the number5\n",
      "there is a kid:\n"
     ]
    }
   ],
   "source": [
    "#for age below 18 teen,below 10 kids,above 18 adultn=int(input(\"enter the number:\"))\n",
    "n=int(input(\"enter the number\"))\n",
    "if n<10:\n",
    "    print(\"there is a kid:\")\n",
    "else:\n",
    "    print(\"there is a adult\")\n"
   ]
  },
  {
   "cell_type": "code",
   "execution_count": 1,
   "id": "f38bfc0c",
   "metadata": {},
   "outputs": [
    {
     "name": "stdout",
     "output_type": "stream",
     "text": [
      "day:Sunday\n",
      "It's a weekend\n"
     ]
    }
   ],
   "source": [
    "#program for checking weekeend\n",
    "day = str(input(\"day:\"))\n",
    "if day == \"Saturday\" or day == \"Sunday\":\n",
    "    print(\"It's a weekend\")\n",
    "else:\n",
    "    print(\"It's a weekday\")"
   ]
  },
  {
   "cell_type": "code",
   "execution_count": 2,
   "id": "c12c551d",
   "metadata": {},
   "outputs": [
    {
     "name": "stdout",
     "output_type": "stream",
     "text": [
      "enter pvalue:0.06\n",
      "data is normally distributed\n"
     ]
    }
   ],
   "source": [
    "#program for chekking normality\n",
    "pvalue=float(input(\"enter pvalue:\"))\n",
    "if pvalue>0.05:\n",
    "    print(\"data is normally distributed\")\n",
    "else:\n",
    "    print(\"data is not normally distributed\")"
   ]
  },
  {
   "cell_type": "code",
   "execution_count": 1,
   "id": "84a99e78",
   "metadata": {},
   "outputs": [
    {
     "name": "stdout",
     "output_type": "stream",
     "text": [
      "enter total number of seats of bjp:241\n",
      "enter total number of seats of india:232\n",
      "bjp made a goverment\n"
     ]
    }
   ],
   "source": [
    "#program for checking maximum number\n",
    "bjp=int(input(\"enter total number of seats of bjp:\"))\n",
    "india=int(input(\"enter total number of seats of india:\"))\n",
    "if bjp>india :\n",
    "    print(\"bjp made a goverment\")\n",
    "else :\n",
    "    print(\"congress that is india made a goverment\")"
   ]
  },
  {
   "cell_type": "code",
   "execution_count": 3,
   "id": "e429a359",
   "metadata": {},
   "outputs": [
    {
     "name": "stdout",
     "output_type": "stream",
     "text": [
      "enter any alphabets:i\n",
      "this is vowel\n"
     ]
    }
   ],
   "source": [
    "#checcking given alphabet is vowels\n",
    "list=[\"a\",\"e\",\"i\",\"o\",\"u\"]\n",
    "n=str(input(\"enter any alphabets:\"))\n",
    "if n in list:\n",
    "    print(\"this is vowel\")\n",
    "else:\n",
    "    print(\"this is not vowel\")"
   ]
  },
  {
   "cell_type": "code",
   "execution_count": 4,
   "id": "4ba275a3",
   "metadata": {},
   "outputs": [
    {
     "name": "stdout",
     "output_type": "stream",
     "text": [
      "enter ur age:17\n",
      "Not eligible to vote\n"
     ]
    }
   ],
   "source": [
    "#Checking the eligibility of voters based on age:\n",
    "age = int(input(\"enter ur age:\"))\n",
    "if age < 18:\n",
    "    print(\"Not eligible to vote\")\n",
    "else:\n",
    "    print(\"Eligible to vote\")"
   ]
  },
  {
   "cell_type": "code",
   "execution_count": 5,
   "id": "dafc2889",
   "metadata": {},
   "outputs": [
    {
     "name": "stdout",
     "output_type": "stream",
     "text": [
      "enter the username:admin\n",
      "enter the pass:secret\n",
      "Login successful\n"
     ]
    }
   ],
   "source": [
    "#checkking admin by using pass\n",
    "username = str(input(\"enter the username:\"))\n",
    "password = str(input(\"enter the pass:\"))\n",
    "\n",
    "if username == \"admin\" and password == \"secret\":\n",
    "    print(\"Login successful\")\n",
    "else:\n",
    "    print(\"Invalid credentials\")"
   ]
  },
  {
   "cell_type": "code",
   "execution_count": null,
   "id": "8d98a7c7",
   "metadata": {},
   "outputs": [],
   "source": []
  }
 ],
 "metadata": {
  "kernelspec": {
   "display_name": "Python 3 (ipykernel)",
   "language": "python",
   "name": "python3"
  },
  "language_info": {
   "codemirror_mode": {
    "name": "ipython",
    "version": 3
   },
   "file_extension": ".py",
   "mimetype": "text/x-python",
   "name": "python",
   "nbconvert_exporter": "python",
   "pygments_lexer": "ipython3",
   "version": "3.9.12"
  }
 },
 "nbformat": 4,
 "nbformat_minor": 5
}
