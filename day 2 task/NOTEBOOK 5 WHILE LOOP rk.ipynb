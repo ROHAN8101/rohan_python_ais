{
 "cells": [
  {
   "cell_type": "markdown",
   "id": "337d3895",
   "metadata": {},
   "source": [
    "# WHILE LOOP"
   ]
  },
  {
   "cell_type": "code",
   "execution_count": null,
   "id": "bda39e76",
   "metadata": {},
   "outputs": [],
   "source": [
    "#while Loop Syntax\n",
    "while condition:\n",
    "    # body of while loop\n",
    "\n",
    "#Here,\n",
    "1.The while loop evaluates the condition.\n",
    "2.If the condition is true, body of while loop is executed. The condition is evaluated again.\n",
    "3.This process continues until the condition is False.\n",
    "4.Once the condition evaluates to False, the loop terminates."
   ]
  },
  {
   "cell_type": "markdown",
   "id": "3b1a99af",
   "metadata": {},
   "source": [
    "# EXAMPLES:"
   ]
  },
  {
   "cell_type": "code",
   "execution_count": 1,
   "id": "b6238a7e",
   "metadata": {},
   "outputs": [
    {
     "name": "stdout",
     "output_type": "stream",
     "text": [
      "1\n",
      "2\n",
      "3\n",
      "4\n",
      "5\n",
      "6\n",
      "7\n",
      "8\n",
      "9\n"
     ]
    }
   ],
   "source": [
    "i=1\n",
    "while i<10:\n",
    "    print(i)\n",
    "    i+=1"
   ]
  },
  {
   "cell_type": "code",
   "execution_count": 2,
   "id": "cb3dc469",
   "metadata": {},
   "outputs": [
    {
     "name": "stdout",
     "output_type": "stream",
     "text": [
      "1\n",
      "2\n",
      "3\n"
     ]
    }
   ],
   "source": [
    "i=1\n",
    "while i<10:\n",
    "    print(i)\n",
    "    if i==3:\n",
    "        break\n",
    "    i+=1"
   ]
  },
  {
   "cell_type": "code",
   "execution_count": 3,
   "id": "094a8edc",
   "metadata": {},
   "outputs": [
    {
     "name": "stdout",
     "output_type": "stream",
     "text": [
      "Enter a number: 6\n",
      "Enter a number: 3\n",
      "Enter a number: 6\n",
      "Enter a number: 0\n",
      "The sum is 15\n"
     ]
    }
   ],
   "source": [
    "# Calculate the sum of numbers until user enters 0\n",
    "number = int(input('Enter a number: '))\n",
    "\n",
    "total = 0\n",
    "\n",
    "# iterate until the user enters 0\n",
    "while number != 0:\n",
    "    total += number\n",
    "    number = int(input('Enter a number: '))\n",
    "\n",
    "print('The sum is', total)"
   ]
  },
  {
   "cell_type": "code",
   "execution_count": 4,
   "id": "a72d1867",
   "metadata": {},
   "outputs": [
    {
     "name": "stdout",
     "output_type": "stream",
     "text": [
      "1\n",
      "2\n",
      "3\n"
     ]
    }
   ],
   "source": [
    "number = 1\n",
    "\n",
    "while number <= 3:\n",
    "    print(number)\n",
    "    number = number + 1"
   ]
  },
  {
   "cell_type": "code",
   "execution_count": 5,
   "id": "19bbd927",
   "metadata": {},
   "outputs": [
    {
     "name": "stdout",
     "output_type": "stream",
     "text": [
      "Enter the password: python\n",
      "Incorrect password. Try again.\n",
      "Enter the password: python123\n",
      "Access granted!\n"
     ]
    }
   ],
   "source": [
    "#Write a program that asks the user to enter a password and keeps asking until the correct password is entered.\n",
    "\n",
    "password = \"python123\"\n",
    "while True:\n",
    "    user_input = input(\"Enter the password: \")\n",
    "    if user_input == password:\n",
    "        print(\"Access granted!\")\n",
    "        break\n",
    "    else:\n",
    "        print(\"Incorrect password. Try again.\")"
   ]
  },
  {
   "cell_type": "code",
   "execution_count": 6,
   "id": "0fb9e6ac",
   "metadata": {},
   "outputs": [
    {
     "name": "stdout",
     "output_type": "stream",
     "text": [
      "Guess the secret number (between 1 and 5): 2\n",
      "Congratulations! You guessed the secret number 2\n"
     ]
    }
   ],
   "source": [
    "# Write a program where the user has to guess a secret number. The program continues until the user guesses the correct number.\n",
    "\n",
    "import random\n",
    "\n",
    "secret_number = random.randint(1, 5)\n",
    "guess = 0\n",
    "while guess != secret_number:\n",
    "    guess = int(input(\"Guess the secret number (between 1 and 5): \"))\n",
    "    if guess < secret_number:\n",
    "        print(\"Too low!\")\n",
    "    elif guess > secret_number:\n",
    "        print(\"Too high!\")\n",
    "print(\"Congratulations! You guessed the secret number\", secret_number)"
   ]
  },
  {
   "cell_type": "code",
   "execution_count": 7,
   "id": "45bc53eb",
   "metadata": {},
   "outputs": [
    {
     "name": "stdout",
     "output_type": "stream",
     "text": [
      "Enter a number: 3\n",
      "Factorial of 3 is 6\n"
     ]
    }
   ],
   "source": [
    " #Write a program to calculate the factorial of a given number.\n",
    "\n",
    "num = int(input(\"Enter a number: \"))\n",
    "factorial = 1\n",
    "count = 1\n",
    "while count <= num:\n",
    "    factorial *= count\n",
    "    count += 1\n",
    "print(\"Factorial of\", num, \"is\", factorial)"
   ]
  },
  {
   "cell_type": "code",
   "execution_count": 8,
   "id": "ec82f298",
   "metadata": {},
   "outputs": [
    {
     "name": "stdout",
     "output_type": "stream",
     "text": [
      "Enter a number: 2\n",
      "Sum of numbers from 1 to 2 is 3\n"
     ]
    }
   ],
   "source": [
    "#Write a program that calculates the sum of numbers from 1 to a given number.\n",
    "\n",
    "num = int(input(\"Enter a number: \"))\n",
    "sum = 0\n",
    "count = 1\n",
    "while count <= num:\n",
    "    sum += count\n",
    "    count += 1\n",
    "print(\"Sum of numbers from 1 to\", num, \"is\", sum)"
   ]
  },
  {
   "cell_type": "code",
   "execution_count": 9,
   "id": "5058a132",
   "metadata": {},
   "outputs": [
    {
     "name": "stdout",
     "output_type": "stream",
     "text": [
      "Enter a number to countdown from: 3\n",
      "3\n",
      "2\n",
      "1\n"
     ]
    }
   ],
   "source": [
    "#Write a program that counts down from a given number to 1.\n",
    "\n",
    "num = int(input(\"Enter a number to countdown from: \"))\n",
    "while num > 0:\n",
    "    print(num)\n",
    "    num -= 1"
   ]
  },
  {
   "cell_type": "code",
   "execution_count": 10,
   "id": "d17d3db2",
   "metadata": {},
   "outputs": [
    {
     "name": "stdout",
     "output_type": "stream",
     "text": [
      "Enter a number: 8\n",
      "8 x 1 = 8\n",
      "8 x 2 = 16\n",
      "8 x 3 = 24\n",
      "8 x 4 = 32\n",
      "8 x 5 = 40\n",
      "8 x 6 = 48\n",
      "8 x 7 = 56\n",
      "8 x 8 = 64\n",
      "8 x 9 = 72\n",
      "8 x 10 = 80\n"
     ]
    }
   ],
   "source": [
    "#Write a program that generates the multiplication table for a given number.\n",
    "\n",
    "num = int(input(\"Enter a number: \"))\n",
    "count = 1\n",
    "while count <= 10:\n",
    "    print(num, \"x\", count, \"=\", num * count)\n",
    "    count += 1"
   ]
  },
  {
   "cell_type": "code",
   "execution_count": 13,
   "id": "67bcd7cc",
   "metadata": {},
   "outputs": [
    {
     "name": "stdout",
     "output_type": "stream",
     "text": [
      "Enter the number of terms: 10\n",
      "0 1 1 2 3 5 8 13 21 34 "
     ]
    }
   ],
   "source": [
    "#Write a program to generate the Fibonacci series up to a specified number of terms.\n",
    "\n",
    "num_terms = int(input(\"Enter the number of terms: \"))\n",
    "a, b = 0, 1\n",
    "count = 0\n",
    "while count < num_terms:\n",
    "    print(a, end=\" \")\n",
    "    nth = a + b\n",
    "    a = b\n",
    "    b = nth\n",
    "    count += 1"
   ]
  },
  {
   "cell_type": "code",
   "execution_count": 14,
   "id": "4ab428dc",
   "metadata": {},
   "outputs": [
    {
     "name": "stdout",
     "output_type": "stream",
     "text": [
      "Enter the base: 4\n",
      "Enter the exponent: 3\n",
      "Result: 64\n"
     ]
    }
   ],
   "source": [
    "# Write a program to calculate the power of a number.\n",
    "\n",
    "base = int(input(\"Enter the base: \"))\n",
    "exponent = int(input(\"Enter the exponent: \"))\n",
    "result = 1\n",
    "count = 0\n",
    "while count < exponent:\n",
    "    result *= base\n",
    "    count += 1\n",
    "print(\"Result:\", result)"
   ]
  },
  {
   "cell_type": "code",
   "execution_count": 15,
   "id": "42f312f3",
   "metadata": {},
   "outputs": [
    {
     "name": "stdout",
     "output_type": "stream",
     "text": [
      "Enter the base: 4\n",
      "Enter the exponent: 3\n",
      "Result: 64\n"
     ]
    }
   ],
   "source": [
    "\n",
    "base = int(input(\"Enter the base: \"))\n",
    "exponent = int(input(\"Enter the exponent: \"))\n",
    "result = 1\n",
    "count = 0\n",
    "while count < exponent:\n",
    "    result = base**exponent\n",
    "    count += 1\n",
    "print(\"Result:\", result)"
   ]
  },
  {
   "cell_type": "code",
   "execution_count": null,
   "id": "af2793c3",
   "metadata": {},
   "outputs": [],
   "source": [
    "4*4*4\n"
   ]
  },
  {
   "cell_type": "code",
   "execution_count": null,
   "id": "e3944194",
   "metadata": {},
   "outputs": [],
   "source": []
  }
 ],
 "metadata": {
  "kernelspec": {
   "display_name": "Python 3 (ipykernel)",
   "language": "python",
   "name": "python3"
  },
  "language_info": {
   "codemirror_mode": {
    "name": "ipython",
    "version": 3
   },
   "file_extension": ".py",
   "mimetype": "text/x-python",
   "name": "python",
   "nbconvert_exporter": "python",
   "pygments_lexer": "ipython3",
   "version": "3.9.12"
  }
 },
 "nbformat": 4,
 "nbformat_minor": 5
}
