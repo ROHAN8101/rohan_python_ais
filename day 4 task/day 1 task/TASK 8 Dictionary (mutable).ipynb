{
 "cells": [
  {
   "cell_type": "markdown",
   "id": "34eeda9a",
   "metadata": {},
   "source": [
    "# Dictionary\n",
    "1.Dictionaries are used to store data values in key:value pairs.                                         \n",
    "2.A dictionary is a collection which is ordered.                              \n",
    "3.changeable. \n",
    "4.do not allow duplicates.\n",
    "5. written in {} or dict()"
   ]
  },
  {
   "cell_type": "code",
   "execution_count": 41,
   "id": "3270c77a",
   "metadata": {},
   "outputs": [
    {
     "name": "stdout",
     "output_type": "stream",
     "text": [
      "{'brand': 'Ford', 'model': 'Mustang', 'year': 1964}\n"
     ]
    }
   ],
   "source": [
    " thisdict = {\n",
    "  \"brand\": \"Ford\",\n",
    "  \"model\": \"Mustang\",\n",
    "  \"year\": 1964\n",
    "}\n",
    "print(thisdict)"
   ]
  },
  {
   "cell_type": "code",
   "execution_count": 42,
   "id": "a421eadb",
   "metadata": {},
   "outputs": [
    {
     "name": "stdout",
     "output_type": "stream",
     "text": [
      "Ford\n"
     ]
    }
   ],
   "source": [
    "#Print the \"brand\" value of the dictionary:\n",
    "\n",
    "thisdict = {\n",
    "  \"brand\": \"Ford\",\n",
    "  \"model\": \"Mustang\",\n",
    "  \"year\": 1964\n",
    "}\n",
    "print(thisdict[\"brand\"])"
   ]
  },
  {
   "cell_type": "code",
   "execution_count": 43,
   "id": "a97a1495",
   "metadata": {},
   "outputs": [
    {
     "name": "stdout",
     "output_type": "stream",
     "text": [
      "{'brand': 'Ford', 'model': 'Mustang', 'year': 2020}\n"
     ]
    }
   ],
   "source": [
    "#Duplicate values will overwrite existing values:\n",
    "\n",
    "thisdict = {\n",
    "  \"brand\": \"Ford\",\n",
    "  \"model\": \"Mustang\",\n",
    "  \"year\": 1964,\n",
    "  \"year\": 2020\n",
    "}\n",
    "print(thisdict)"
   ]
  },
  {
   "cell_type": "code",
   "execution_count": 44,
   "id": "8a837580",
   "metadata": {},
   "outputs": [
    {
     "name": "stdout",
     "output_type": "stream",
     "text": [
      "3\n"
     ]
    }
   ],
   "source": [
    "#Print the number of items in the dictionary:\n",
    "\n",
    "print(len(thisdict))"
   ]
  },
  {
   "cell_type": "code",
   "execution_count": 6,
   "id": "d99e0d29",
   "metadata": {},
   "outputs": [],
   "source": [
    "thisdict = {\n",
    "  \"brand\": \"Ford\",                                 #mixed data types\n",
    "  \"electric\": False,                                       \n",
    "  \"year\": 1964,\n",
    "  \"colors\": [\"red\", \"white\", \"blue\"]\n",
    "}"
   ]
  },
  {
   "cell_type": "code",
   "execution_count": 7,
   "id": "6c9ae157",
   "metadata": {},
   "outputs": [
    {
     "name": "stdout",
     "output_type": "stream",
     "text": [
      "{'brand': 'Ford', 'electric': False, 'year': 1964, 'colors': ['red', 'white', 'blue']}\n"
     ]
    }
   ],
   "source": [
    "print(thisdict)"
   ]
  },
  {
   "cell_type": "code",
   "execution_count": 8,
   "id": "ebe98d1b",
   "metadata": {},
   "outputs": [
    {
     "name": "stdout",
     "output_type": "stream",
     "text": [
      "{'name': 'John', 'age': 36, 'country': 'Norway'}\n"
     ]
    }
   ],
   "source": [
    "#Using the dict() method to make a dictionary:\n",
    "\n",
    "thisdict = dict(name = \"John\", age = 36, country = \"Norway\")\n",
    "print(thisdict)"
   ]
  },
  {
   "cell_type": "markdown",
   "id": "07377ac6",
   "metadata": {},
   "source": [
    "# access items "
   ]
  },
  {
   "cell_type": "code",
   "execution_count": 10,
   "id": "2a405e04",
   "metadata": {},
   "outputs": [
    {
     "data": {
      "text/plain": [
       "'Mustang'"
      ]
     },
     "execution_count": 10,
     "metadata": {},
     "output_type": "execute_result"
    }
   ],
   "source": [
    "#Get the value of the \"model\" key:\n",
    "\n",
    "thisdict = {\n",
    "  \"brand\": \"Ford\",\n",
    "  \"model\": \"Mustang\",\n",
    "  \"year\": 1964\n",
    "}\n",
    "x = thisdict[\"model\"];x"
   ]
  },
  {
   "cell_type": "code",
   "execution_count": 11,
   "id": "2eb9b1d6",
   "metadata": {},
   "outputs": [
    {
     "data": {
      "text/plain": [
       "'Mustang'"
      ]
     },
     "execution_count": 11,
     "metadata": {},
     "output_type": "execute_result"
    }
   ],
   "source": [
    "#or\n",
    "x = thisdict.get(\"model\");x"
   ]
  },
  {
   "cell_type": "code",
   "execution_count": 26,
   "id": "6a4a3672",
   "metadata": {},
   "outputs": [
    {
     "data": {
      "text/plain": [
       "dict_keys(['brand', 'model', 'year'])"
      ]
     },
     "execution_count": 26,
     "metadata": {},
     "output_type": "execute_result"
    }
   ],
   "source": [
    "#Get a list of the keys:\n",
    "\n",
    "x = thisdict.keys();x"
   ]
  },
  {
   "cell_type": "code",
   "execution_count": 30,
   "id": "dcd0f9d7",
   "metadata": {},
   "outputs": [
    {
     "name": "stdout",
     "output_type": "stream",
     "text": [
      "dict_keys(['brand', 'model', 'year'])\n",
      "{'brand': 'Ford', 'model': 'Mustang', 'year': 1964, 'color': 'white'}\n"
     ]
    }
   ],
   "source": [
    "#Add a new item to the original dictionary, and see that the keys list gets updated as well:\n",
    "\n",
    "car = {\n",
    "\"brand\": \"Ford\",\n",
    "\"model\": \"Mustang\",\n",
    "\"year\": 1964\n",
    "}\n",
    "\n",
    "x = car.keys()\n",
    "\n",
    "print(x) #before the change\n",
    "\n",
    "car[\"color\"] = \"white\"\n",
    "\n",
    "print(car) #after the change"
   ]
  },
  {
   "cell_type": "code",
   "execution_count": 32,
   "id": "207de2e8",
   "metadata": {},
   "outputs": [
    {
     "data": {
      "text/plain": [
       "dict_values(['Ford', 'Mustang', 1964, 'white'])"
      ]
     },
     "execution_count": 32,
     "metadata": {},
     "output_type": "execute_result"
    }
   ],
   "source": [
    "x = car.values();x"
   ]
  },
  {
   "cell_type": "code",
   "execution_count": 34,
   "id": "70f24d30",
   "metadata": {},
   "outputs": [
    {
     "data": {
      "text/plain": [
       "dict_items([('brand', 'Ford'), ('model', 'Mustang'), ('year', 1964)])"
      ]
     },
     "execution_count": 34,
     "metadata": {},
     "output_type": "execute_result"
    }
   ],
   "source": [
    "x = thisdict.items();x"
   ]
  },
  {
   "cell_type": "code",
   "execution_count": 36,
   "id": "72db5403",
   "metadata": {},
   "outputs": [
    {
     "data": {
      "text/plain": [
       "dict_items([('brand', 'Ford'), ('model', 'Mustang'), ('year', 1964), ('color', 'white')])"
      ]
     },
     "execution_count": 36,
     "metadata": {},
     "output_type": "execute_result"
    }
   ],
   "source": [
    "x = car.items();x"
   ]
  },
  {
   "cell_type": "markdown",
   "id": "4d73194e",
   "metadata": {},
   "source": [
    "# change values"
   ]
  },
  {
   "cell_type": "code",
   "execution_count": 37,
   "id": "ca3cfec6",
   "metadata": {},
   "outputs": [],
   "source": [
    "#Change the \"year\" to 2018:\n",
    "\n",
    "thisdict = {\n",
    "  \"brand\": \"Ford\",\n",
    "  \"model\": \"Mustang\",\n",
    "  \"year\": 1964\n",
    "}\n",
    "thisdict[\"year\"] = 2018"
   ]
  },
  {
   "cell_type": "code",
   "execution_count": 38,
   "id": "37762eb6",
   "metadata": {},
   "outputs": [
    {
     "name": "stdout",
     "output_type": "stream",
     "text": [
      "{'brand': 'Ford', 'model': 'Mustang', 'year': 2018}\n"
     ]
    }
   ],
   "source": [
    "print(thisdict)"
   ]
  },
  {
   "cell_type": "code",
   "execution_count": 40,
   "id": "da1fdfa8",
   "metadata": {},
   "outputs": [
    {
     "name": "stdout",
     "output_type": "stream",
     "text": [
      "{'brand': 'Ford', 'model': 'Mustang', 'year': 2020}\n"
     ]
    }
   ],
   "source": [
    "#or\n",
    "#Update the \"year\" of the car by using the update() method:\n",
    "\n",
    "thisdict = {\n",
    "  \"brand\": \"Ford\",\n",
    "  \"model\": \"Mustang\",\n",
    "  \"year\": 1964\n",
    "}\n",
    "thisdict.update({\"year\": 2020})\n",
    "print(thisdict)"
   ]
  },
  {
   "cell_type": "markdown",
   "id": "83522aa3",
   "metadata": {},
   "source": [
    "# Dictionary Methods"
   ]
  },
  {
   "cell_type": "code",
   "execution_count": 52,
   "id": "23d7d11b",
   "metadata": {},
   "outputs": [
    {
     "name": "stdout",
     "output_type": "stream",
     "text": [
      "{'year': 2024, 'car': 'bmw', 'lang': 'hindi'}\n",
      "{}\n"
     ]
    }
   ],
   "source": [
    "#clear()=Removes all the elements from the dictionary\n",
    "x={\"year\":2024,\"car\":\"bmw\",\"lang\":\"hindi\"}\n",
    "print(x)\n",
    "x.clear()\n",
    "print(x)"
   ]
  },
  {
   "cell_type": "code",
   "execution_count": 53,
   "id": "d3a4a2d8",
   "metadata": {},
   "outputs": [
    {
     "data": {
      "text/plain": [
       "{'year': 2024, 'car': 'bmw', 'lang': 'hindi'}"
      ]
     },
     "execution_count": 53,
     "metadata": {},
     "output_type": "execute_result"
    }
   ],
   "source": [
    "#copy()\tReturns a copy of the dictionary\n",
    "x={\"year\":2024,\"car\":\"bmw\",\"lang\":\"hindi\"}\n",
    "y=x.copy();y"
   ]
  },
  {
   "cell_type": "code",
   "execution_count": 71,
   "id": "87d687d4",
   "metadata": {},
   "outputs": [
    {
     "name": "stdout",
     "output_type": "stream",
     "text": [
      "{'key1': (1, 2, 3), 'key2': (1, 2, 3), 'key3': (1, 2, 3)}\n"
     ]
    }
   ],
   "source": [
    "#fromkeys()\tReturns a dictionary with the specified keys and value\n",
    "x = ('key1', 'key2', 'key3')\n",
    "y = (1,2,3)\n",
    "\n",
    "thisdict = dict.fromkeys(x, y)\n",
    "\n",
    "print(thisdict)\n"
   ]
  },
  {
   "cell_type": "code",
   "execution_count": 78,
   "id": "4f8ef4e2",
   "metadata": {},
   "outputs": [
    {
     "data": {
      "text/plain": [
       "2024"
      ]
     },
     "execution_count": 78,
     "metadata": {},
     "output_type": "execute_result"
    }
   ],
   "source": [
    "#get()\tReturns the value of the specified key\n",
    "x={\"year\":2024,\"car\":\"bmw\",\"lang\":\"hindi\"};x\n",
    "x.get(\"year\")"
   ]
  },
  {
   "cell_type": "code",
   "execution_count": 80,
   "id": "80011c8c",
   "metadata": {},
   "outputs": [
    {
     "name": "stdout",
     "output_type": "stream",
     "text": [
      "{'car': 'bmw', 'lang': 'hindi'}\n"
     ]
    }
   ],
   "source": [
    "#pop()\tRemoves the element with the specified key\n",
    "x={\"year\":2024,\"car\":\"bmw\",\"lang\":\"hindi\"}\n",
    "y=x.pop(\"year\");y\n",
    "print(x)"
   ]
  },
  {
   "cell_type": "code",
   "execution_count": 82,
   "id": "a16ab2a2",
   "metadata": {},
   "outputs": [
    {
     "name": "stdout",
     "output_type": "stream",
     "text": [
      "{'brand': 'Ford', 'model': 'Mustang'}\n"
     ]
    }
   ],
   "source": [
    "#popitem()\tRemoves the last inserted key-value pair\n",
    "thisdict = {\n",
    "  \"brand\": \"Ford\",\n",
    "  \"model\": \"Mustang\",\n",
    "  \"year\": 1964\n",
    "}\n",
    "thisdict.popitem()\n",
    "print(thisdict)"
   ]
  },
  {
   "cell_type": "code",
   "execution_count": 83,
   "id": "dbcea014",
   "metadata": {},
   "outputs": [
    {
     "name": "stdout",
     "output_type": "stream",
     "text": [
      "{'brand': 'Ford', 'year': 1964}\n"
     ]
    }
   ],
   "source": [
    "thisdict = {\n",
    "  \"brand\": \"Ford\",\n",
    "  \"model\": \"Mustang\",\n",
    "  \"year\": 1964\n",
    "}\n",
    "del thisdict[\"model\"]\n",
    "print(thisdict)"
   ]
  },
  {
   "cell_type": "code",
   "execution_count": 87,
   "id": "151f20bd",
   "metadata": {},
   "outputs": [
    {
     "name": "stdout",
     "output_type": "stream",
     "text": [
      "Mustang\n",
      "{'brand': 'Ford', 'model': 'Mustang', 'year': 1964}\n"
     ]
    }
   ],
   "source": [
    "#setdefault()\tReturns the value of the specified key. If the key does not exist: insert the key, with the specified value\n",
    "car = {\n",
    "\"brand\": \"Ford\",\n",
    "\"model\": \"Mustang\",\n",
    "\"year\": 1964\n",
    "}\n",
    "\n",
    "x = car.setdefault(\"model\", \"Bronco\")\n",
    "\n",
    "print(x)\n",
    "print(car)"
   ]
  },
  {
   "cell_type": "code",
   "execution_count": null,
   "id": "b7f1a910",
   "metadata": {},
   "outputs": [],
   "source": []
  }
 ],
 "metadata": {
  "kernelspec": {
   "display_name": "Python 3 (ipykernel)",
   "language": "python",
   "name": "python3"
  },
  "language_info": {
   "codemirror_mode": {
    "name": "ipython",
    "version": 3
   },
   "file_extension": ".py",
   "mimetype": "text/x-python",
   "name": "python",
   "nbconvert_exporter": "python",
   "pygments_lexer": "ipython3",
   "version": "3.9.12"
  }
 },
 "nbformat": 4,
 "nbformat_minor": 5
}
