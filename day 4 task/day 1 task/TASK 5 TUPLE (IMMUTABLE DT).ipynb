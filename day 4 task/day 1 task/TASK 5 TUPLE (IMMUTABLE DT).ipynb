{
 "cells": [
  {
   "cell_type": "markdown",
   "id": "c80e7dd8",
   "metadata": {},
   "source": [
    "# TUPLE\n",
    "\n",
    "1. Always written in ()\n",
    "2. ONE DIMENSIONAL\n",
    "3. ORDERED DATA :When we say that tuples are ordered, it means that the items have a defined order, and that order will not change.\n",
    "4. MIXED DATATYPES:Tuple is one of 4 built-in data types in Python used to store collections of data, the other 3 are List, Set, and Dictionary, all with different qualities and usage.\n",
    "5. allows dublicates:Since tuples are indexed, they can have items with the same value\n",
    "6. immutable/UNchangable:Tuples are unchangeable, meaning that we cannot change, add or remove items after the tuple has been created."
   ]
  },
  {
   "cell_type": "code",
   "execution_count": 5,
   "id": "a81d7909",
   "metadata": {},
   "outputs": [],
   "source": [
    "A=(1,3,\"FGJ\",7)"
   ]
  },
  {
   "cell_type": "code",
   "execution_count": 6,
   "id": "0508508f",
   "metadata": {},
   "outputs": [
    {
     "data": {
      "text/plain": [
       "tuple"
      ]
     },
     "execution_count": 6,
     "metadata": {},
     "output_type": "execute_result"
    }
   ],
   "source": [
    "type(A)"
   ]
  },
  {
   "cell_type": "code",
   "execution_count": 7,
   "id": "f190541d",
   "metadata": {},
   "outputs": [
    {
     "data": {
      "text/plain": [
       "(1, 3, 'FGJ', 7)"
      ]
     },
     "execution_count": 7,
     "metadata": {},
     "output_type": "execute_result"
    }
   ],
   "source": [
    "A #ONE DIMENSIONAL"
   ]
  },
  {
   "cell_type": "code",
   "execution_count": 11,
   "id": "434ba359",
   "metadata": {},
   "outputs": [
    {
     "ename": "TypeError",
     "evalue": "'tuple' object does not support item assignment",
     "output_type": "error",
     "traceback": [
      "\u001b[1;31m---------------------------------------------------------------------------\u001b[0m",
      "\u001b[1;31mTypeError\u001b[0m                                 Traceback (most recent call last)",
      "Input \u001b[1;32mIn [11]\u001b[0m, in \u001b[0;36m<cell line: 1>\u001b[1;34m()\u001b[0m\n\u001b[1;32m----> 1\u001b[0m A[\u001b[38;5;241m2\u001b[39m]\u001b[38;5;241m=\u001b[39m\u001b[38;5;241m23\u001b[39m\n",
      "\u001b[1;31mTypeError\u001b[0m: 'tuple' object does not support item assignment"
     ]
    }
   ],
   "source": [
    "A[2]=23         #IMMUTABLE/UNCHANGABLE"
   ]
  },
  {
   "cell_type": "code",
   "execution_count": 12,
   "id": "98a57081",
   "metadata": {},
   "outputs": [
    {
     "ename": "AttributeError",
     "evalue": "'tuple' object has no attribute 'sort'",
     "output_type": "error",
     "traceback": [
      "\u001b[1;31m---------------------------------------------------------------------------\u001b[0m",
      "\u001b[1;31mAttributeError\u001b[0m                            Traceback (most recent call last)",
      "Input \u001b[1;32mIn [12]\u001b[0m, in \u001b[0;36m<cell line: 1>\u001b[1;34m()\u001b[0m\n\u001b[1;32m----> 1\u001b[0m \u001b[43mA\u001b[49m\u001b[38;5;241;43m.\u001b[39;49m\u001b[43msort\u001b[49m()\n",
      "\u001b[1;31mAttributeError\u001b[0m: 'tuple' object has no attribute 'sort'"
     ]
    }
   ],
   "source": [
    "A.sort()      #immutable"
   ]
  },
  {
   "cell_type": "markdown",
   "id": "473b2bf3",
   "metadata": {},
   "source": [
    "# Tuple Length\n",
    "To determine how many items a tuple has, use the len() function:"
   ]
  },
  {
   "cell_type": "code",
   "execution_count": 13,
   "id": "4bc86f1f",
   "metadata": {},
   "outputs": [
    {
     "name": "stdout",
     "output_type": "stream",
     "text": [
      "3\n"
     ]
    }
   ],
   "source": [
    "thistuple = (\"apple\", \"banana\", \"cherry\")\n",
    "print(len(thistuple))"
   ]
  },
  {
   "cell_type": "markdown",
   "id": "92c3b6e4",
   "metadata": {},
   "source": [
    "# Create Tuple With One Item\n",
    "To create a tuple with only one item, you have to add a comma after the item, otherwise Python will not recognize it as a tuple."
   ]
  },
  {
   "cell_type": "code",
   "execution_count": 14,
   "id": "2d97b0c2",
   "metadata": {},
   "outputs": [
    {
     "name": "stdout",
     "output_type": "stream",
     "text": [
      "<class 'tuple'>\n",
      "<class 'str'>\n"
     ]
    }
   ],
   "source": [
    "#Example\n",
    "#One item tuple, remember the comma:\n",
    "\n",
    "thistuple = (\"apple\",)\n",
    "print(type(thistuple))\n",
    "\n",
    "#NOT a tuple\n",
    "thistuple = (\"apple\")\n",
    "print(type(thistuple))"
   ]
  },
  {
   "cell_type": "code",
   "execution_count": 21,
   "id": "b8478fdf",
   "metadata": {},
   "outputs": [
    {
     "data": {
      "text/plain": [
       "tuple"
      ]
     },
     "execution_count": 21,
     "metadata": {},
     "output_type": "execute_result"
    }
   ],
   "source": [
    "#Tuple Items - Data Types\n",
    "#Tuple items can be of any data type                     # mixed datatypes\n",
    "tuple1 = (\"apple\", \"banana\", \"cherry\")\n",
    "tuple2 = tuple([1, 5, 7, 9, 3])\n",
    "tuple3 = (True, False, False)\n",
    "\n",
    "#Example\n",
    "#A tuple with strings, integers and boolean values:\n",
    "\n",
    "tuple4 = (\"abc\", 34, True, 40, \"male\")\n",
    "type(tuple1)\n",
    "type(tuple2)\n",
    "type(tuple3)\n",
    "type(tuple4)"
   ]
  },
  {
   "cell_type": "code",
   "execution_count": 22,
   "id": "a531f7a7",
   "metadata": {},
   "outputs": [
    {
     "data": {
      "text/plain": [
       "(1, 5, 7, 9, 3)"
      ]
     },
     "execution_count": 22,
     "metadata": {},
     "output_type": "execute_result"
    }
   ],
   "source": [
    "tuple2"
   ]
  },
  {
   "cell_type": "markdown",
   "id": "78081665",
   "metadata": {},
   "source": [
    "# Access Tuple Items / Slicing"
   ]
  },
  {
   "cell_type": "code",
   "execution_count": 23,
   "id": "a7972cda",
   "metadata": {},
   "outputs": [
    {
     "name": "stdout",
     "output_type": "stream",
     "text": [
      "banana\n"
     ]
    }
   ],
   "source": [
    "thistuple = (\"apple\", \"banana\", \"cherry\")\n",
    "print(thistuple[1])"
   ]
  },
  {
   "cell_type": "code",
   "execution_count": 24,
   "id": "595bd9ab",
   "metadata": {},
   "outputs": [
    {
     "name": "stdout",
     "output_type": "stream",
     "text": [
      "('cherry', 'orange', 'kiwi')\n"
     ]
    }
   ],
   "source": [
    "thistuple = (\"apple\", \"banana\", \"cherry\", \"orange\", \"kiwi\", \"melon\", \"mango\")\n",
    "print(thistuple[2:5])"
   ]
  },
  {
   "cell_type": "code",
   "execution_count": 25,
   "id": "3ae10961",
   "metadata": {},
   "outputs": [
    {
     "name": "stdout",
     "output_type": "stream",
     "text": [
      "('apple', 'banana', 'cherry', 'orange')\n"
     ]
    }
   ],
   "source": [
    "thistuple = (\"apple\", \"banana\", \"cherry\", \"orange\", \"kiwi\", \"melon\", \"mango\")\n",
    "print(thistuple[:4])"
   ]
  },
  {
   "cell_type": "code",
   "execution_count": 26,
   "id": "464c455d",
   "metadata": {},
   "outputs": [
    {
     "data": {
      "text/plain": [
       "(1, 2, 30, 40, 'a', 'b', 'c', 30, 1, True, 20.2)"
      ]
     },
     "execution_count": 26,
     "metadata": {},
     "output_type": "execute_result"
    }
   ],
   "source": [
    "t=(1,2,30,40,\"a\",\"b\",\"c\",30,1,True,20.2)\n",
    "t"
   ]
  },
  {
   "cell_type": "code",
   "execution_count": 27,
   "id": "f926e240",
   "metadata": {},
   "outputs": [
    {
     "data": {
      "text/plain": [
       "('b', 'c', 30, 1, True)"
      ]
     },
     "execution_count": 27,
     "metadata": {},
     "output_type": "execute_result"
    }
   ],
   "source": [
    "t[-6:-1]"
   ]
  },
  {
   "cell_type": "code",
   "execution_count": 28,
   "id": "8a028cb1",
   "metadata": {},
   "outputs": [
    {
     "data": {
      "text/plain": [
       "('b', 'c', 30, 1, True, 20.2)"
      ]
     },
     "execution_count": 28,
     "metadata": {},
     "output_type": "execute_result"
    }
   ],
   "source": [
    "t[-6:11]"
   ]
  },
  {
   "cell_type": "code",
   "execution_count": 29,
   "id": "c270dbf3",
   "metadata": {},
   "outputs": [
    {
     "name": "stdout",
     "output_type": "stream",
     "text": [
      "Yes, 'apple' is in the fruits tuple\n"
     ]
    }
   ],
   "source": [
    "#Check if Item Exists\n",
    "#To determine if a specified item is present in a tuple use the in keyword:\n",
    "\n",
    "#Example\n",
    "#Check if \"apple\" is present in the tuple:\n",
    "\n",
    "thistuple = (\"apple\", \"banana\", \"cherry\")\n",
    "if \"apple\" in thistuple:\n",
    "  print(\"Yes, 'apple' is in the fruits tuple\")"
   ]
  },
  {
   "cell_type": "markdown",
   "id": "cefde04f",
   "metadata": {},
   "source": [
    "# Tuple Methods\n"
   ]
  },
  {
   "cell_type": "raw",
   "id": "50bc9731",
   "metadata": {},
   "source": [
    "Python has two built-in methods that you can use on tuples.\n",
    "\n",
    "Method  Description\n",
    "count()\t  =Returns the number of times a specified value occurs in a tuple\n",
    "index()\t  = Searches the tuple for a specified value and returns the position of where it was found"
   ]
  },
  {
   "cell_type": "code",
   "execution_count": 32,
   "id": "175a0c08",
   "metadata": {},
   "outputs": [],
   "source": [
    "t=(2,3,5,7)"
   ]
  },
  {
   "cell_type": "code",
   "execution_count": 42,
   "id": "085bd05b",
   "metadata": {},
   "outputs": [
    {
     "data": {
      "text/plain": [
       "1"
      ]
     },
     "execution_count": 42,
     "metadata": {},
     "output_type": "execute_result"
    }
   ],
   "source": [
    "thistuple = (\"apple\", \"banana\", \"cherry\")\n",
    "thistuple.count(\"apple\")         # showing position"
   ]
  },
  {
   "cell_type": "code",
   "execution_count": 39,
   "id": "76300ee5",
   "metadata": {},
   "outputs": [
    {
     "data": {
      "text/plain": [
       "1"
      ]
     },
     "execution_count": 39,
     "metadata": {},
     "output_type": "execute_result"
    }
   ],
   "source": [
    "t.index(3)"
   ]
  },
  {
   "cell_type": "code",
   "execution_count": null,
   "id": "8ae91ed8",
   "metadata": {},
   "outputs": [],
   "source": []
  }
 ],
 "metadata": {
  "kernelspec": {
   "display_name": "Python 3 (ipykernel)",
   "language": "python",
   "name": "python3"
  },
  "language_info": {
   "codemirror_mode": {
    "name": "ipython",
    "version": 3
   },
   "file_extension": ".py",
   "mimetype": "text/x-python",
   "name": "python",
   "nbconvert_exporter": "python",
   "pygments_lexer": "ipython3",
   "version": "3.9.12"
  }
 },
 "nbformat": 4,
 "nbformat_minor": 5
}
