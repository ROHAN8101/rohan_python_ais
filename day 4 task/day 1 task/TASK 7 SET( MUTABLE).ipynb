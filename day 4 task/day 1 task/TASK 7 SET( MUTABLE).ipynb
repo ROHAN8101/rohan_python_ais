{
 "cells": [
  {
   "cell_type": "markdown",
   "id": "5287d344",
   "metadata": {},
   "source": [
    "# SET"
   ]
  },
  {
   "cell_type": "markdown",
   "id": "921de6ca",
   "metadata": {},
   "source": [
    "1. Always written in {}\n",
    "2.not allows duplicates,\n",
    "3.unordered, \n",
    "4.unchangeble,\n",
    "5 allows mixdatatype,\n",
    "1-Dimensional"
   ]
  },
  {
   "cell_type": "code",
   "execution_count": 1,
   "id": "ba30ddc4",
   "metadata": {},
   "outputs": [
    {
     "name": "stdout",
     "output_type": "stream",
     "text": [
      "{33, True, 'mango', 10, 'banana', 22, 55, 'apple'}\n"
     ]
    }
   ],
   "source": [
    "s={\"apple\",\"banana\",\"mango\",10,22,33,55,10,True,22}\n",
    "print(s)"
   ]
  },
  {
   "cell_type": "code",
   "execution_count": 2,
   "id": "85397a7a",
   "metadata": {},
   "outputs": [],
   "source": [
    "#s={4,4,4,4}            #not allows duplicates\n",
    "#s"
   ]
  },
  {
   "cell_type": "code",
   "execution_count": 3,
   "id": "f5462df4",
   "metadata": {},
   "outputs": [
    {
     "data": {
      "text/plain": [
       "{34, 40, True, 'abc', 'male'}"
      ]
     },
     "execution_count": 3,
     "metadata": {},
     "output_type": "execute_result"
    }
   ],
   "source": [
    "#A set with strings, integers and boolean values:\n",
    "\n",
    "set1 = {\"abc\", 34, True, 40, \"male\"}\n",
    "set1"
   ]
  },
  {
   "cell_type": "code",
   "execution_count": 4,
   "id": "032bd30f",
   "metadata": {},
   "outputs": [
    {
     "name": "stdout",
     "output_type": "stream",
     "text": [
      "{True, 2, 'cherry', 'banana', 'apple'}\n",
      "{False, True, 'cherry', 'banana', 'apple'}\n"
     ]
    }
   ],
   "source": [
    "#True and 1 is considered the same value:\n",
    "\n",
    "thisset = {\"apple\", \"banana\", \"cherry\", True, 1, 2}\n",
    "print(thisset)\n",
    "\n",
    "#False and 0 is considered the same value:\n",
    "\n",
    "thisset = {\"apple\", \"banana\", \"cherry\", False, True, 0}\n",
    "print(thisset)"
   ]
  },
  {
   "cell_type": "code",
   "execution_count": 6,
   "id": "cbdb0ceb",
   "metadata": {},
   "outputs": [
    {
     "data": {
      "text/plain": [
       "{10, 22, 33, 55, True, 'apple', 'banana', 'mango'}"
      ]
     },
     "execution_count": 6,
     "metadata": {},
     "output_type": "execute_result"
    }
   ],
   "source": [
    "s"
   ]
  },
  {
   "cell_type": "code",
   "execution_count": 8,
   "id": "871a4954",
   "metadata": {},
   "outputs": [
    {
     "ename": "TypeError",
     "evalue": "'set' object is not subscriptable",
     "output_type": "error",
     "traceback": [
      "\u001b[1;31m---------------------------------------------------------------------------\u001b[0m",
      "\u001b[1;31mTypeError\u001b[0m                                 Traceback (most recent call last)",
      "Input \u001b[1;32mIn [8]\u001b[0m, in \u001b[0;36m<cell line: 1>\u001b[1;34m()\u001b[0m\n\u001b[1;32m----> 1\u001b[0m \u001b[43ms\u001b[49m\u001b[43m[\u001b[49m\u001b[38;5;241;43m2\u001b[39;49m\u001b[43m:\u001b[49m\u001b[43m]\u001b[49m\n",
      "\u001b[1;31mTypeError\u001b[0m: 'set' object is not subscriptable"
     ]
    }
   ],
   "source": [
    "s[2:]                  #cant access element in set"
   ]
  },
  {
   "cell_type": "code",
   "execution_count": 9,
   "id": "7a60a899",
   "metadata": {},
   "outputs": [
    {
     "name": "stdout",
     "output_type": "stream",
     "text": [
      "True\n"
     ]
    }
   ],
   "source": [
    "print(22 in s)"
   ]
  },
  {
   "cell_type": "markdown",
   "id": "c7753c4a",
   "metadata": {},
   "source": [
    "# Set Methods\n",
    "Python has a set of built-in methods that you can use on sets."
   ]
  },
  {
   "cell_type": "code",
   "execution_count": 13,
   "id": "d594e596",
   "metadata": {},
   "outputs": [
    {
     "name": "stdout",
     "output_type": "stream",
     "text": [
      "{0, True, 'apple'}\n",
      "{0, True, 'king', 'apple'}\n"
     ]
    }
   ],
   "source": [
    "#add()=Adds an element to the set\n",
    "m={\"apple\",0,True,1}\n",
    "print(m)\n",
    "m.add(\"king\")\n",
    "print(m)"
   ]
  },
  {
   "cell_type": "code",
   "execution_count": 16,
   "id": "95db56ea",
   "metadata": {},
   "outputs": [
    {
     "name": "stdout",
     "output_type": "stream",
     "text": [
      "{0, True, 'onion', 'potatto'}\n",
      "set()\n"
     ]
    }
   ],
   "source": [
    "#clear()=Removes all the elements from the set\n",
    "k={\"potatto\",\"onion\",True,0}\n",
    "print(k)\n",
    "k.clear()\n",
    "print(k)"
   ]
  },
  {
   "cell_type": "code",
   "execution_count": 18,
   "id": "b18a3903",
   "metadata": {},
   "outputs": [
    {
     "name": "stdout",
     "output_type": "stream",
     "text": [
      "{0, True, 'onion', 'potatto'}\n"
     ]
    }
   ],
   "source": [
    "#copy()=Returns a copy of the set\n",
    "k={\"potatto\",\"onion\",True,0}\n",
    "l=k.copy()\n",
    "print(l)"
   ]
  },
  {
   "cell_type": "code",
   "execution_count": 24,
   "id": "c13d85ee",
   "metadata": {},
   "outputs": [
    {
     "name": "stdout",
     "output_type": "stream",
     "text": [
      "{'banana', 'cherry'}\n"
     ]
    }
   ],
   "source": [
    "#difference()=Returns a set containing the difference between two or more sets\n",
    "s1 = {\"apple\", \"banana\", \"cherry\"}\n",
    "s2 = {\"google\", \"microsoft\", \"apple\"}\n",
    "s3 = s1.difference(s2)\n",
    "print(s3)"
   ]
  },
  {
   "cell_type": "markdown",
   "id": "09032a72",
   "metadata": {},
   "source": [
    "#You can use the - operator instead of the difference() method, and you will get the same result."
   ]
  },
  {
   "cell_type": "code",
   "execution_count": 25,
   "id": "0e959c6d",
   "metadata": {},
   "outputs": [
    {
     "name": "stdout",
     "output_type": "stream",
     "text": [
      "{'banana', 'cherry'}\n"
     ]
    }
   ],
   "source": [
    "s1 = {\"apple\", \"banana\", \"cherry\"}\n",
    "s2 = {\"google\", \"microsoft\", \"apple\"}\n",
    "s3 = s1-s2\n",
    "print(s3)"
   ]
  },
  {
   "cell_type": "code",
   "execution_count": 28,
   "id": "464bc1de",
   "metadata": {},
   "outputs": [
    {
     "name": "stdout",
     "output_type": "stream",
     "text": [
      "{'banana', 'cherry'}\n"
     ]
    }
   ],
   "source": [
    "#difference_update()=Removes the items in this set that are also included in another, specified set\n",
    "s1 = {\"apple\", \"banana\", \"cherry\"}\n",
    "s2 = {\"google\", \"microsoft\", \"apple\"}\n",
    "s1.difference_update(s2)\n",
    "print(s1)"
   ]
  },
  {
   "cell_type": "code",
   "execution_count": 32,
   "id": "071f950b",
   "metadata": {},
   "outputs": [
    {
     "name": "stdout",
     "output_type": "stream",
     "text": [
      "{'banana', 'apple'}\n"
     ]
    }
   ],
   "source": [
    "#discard()=Remove the specified item\n",
    "s1 = {\"apple\", \"banana\", \"cherry\"}\n",
    "s1.discard(\"cherry\")\n",
    "print(s1)"
   ]
  },
  {
   "cell_type": "code",
   "execution_count": 33,
   "id": "fda857dc",
   "metadata": {},
   "outputs": [
    {
     "name": "stdout",
     "output_type": "stream",
     "text": [
      "{'apple'}\n"
     ]
    }
   ],
   "source": [
    "#intersection()=Returns a set, that is the intersection of two other sets\n",
    "s1 = {\"apple\", \"banana\", \"cherry\"}\n",
    "s2 = {\"google\", \"microsoft\", \"apple\"}\n",
    "s3 = s1.intersection(s2)\n",
    "print(s3)\n"
   ]
  },
  {
   "cell_type": "code",
   "execution_count": 34,
   "id": "b4bbae01",
   "metadata": {},
   "outputs": [
    {
     "name": "stdout",
     "output_type": "stream",
     "text": [
      "{'apple'}\n"
     ]
    }
   ],
   "source": [
    "#intersection_update()=Removes the items in this set that are not present in other, specified set(s)\n",
    "s1 = {\"apple\", \"banana\", \"cherry\"}\n",
    "s2 = {\"google\", \"microsoft\", \"apple\"}\n",
    "s1.intersection_update(s2)\n",
    "print(s1)\n"
   ]
  },
  {
   "cell_type": "code",
   "execution_count": 36,
   "id": "366ee911",
   "metadata": {},
   "outputs": [
    {
     "name": "stdout",
     "output_type": "stream",
     "text": [
      "False\n"
     ]
    }
   ],
   "source": [
    "#isdisjoint()=Returns whether two sets have a intersection or not\n",
    "s1 = {\"apple\", \"banana\", \"cherry\"}\n",
    "s2 = {\"google\", \"microsoft\", \"apple\"}\n",
    "s3=s1.isdisjoint(s2)\n",
    "print(s3)"
   ]
  },
  {
   "cell_type": "code",
   "execution_count": 38,
   "id": "c912abf0",
   "metadata": {},
   "outputs": [
    {
     "name": "stdout",
     "output_type": "stream",
     "text": [
      "True\n"
     ]
    }
   ],
   "source": [
    "s1={1,2,3}\n",
    "s2={4,5,6}\n",
    "s3=s1.isdisjoint(s2)\n",
    "print(s3)"
   ]
  },
  {
   "cell_type": "code",
   "execution_count": 40,
   "id": "23c918e4",
   "metadata": {},
   "outputs": [
    {
     "data": {
      "text/plain": [
       "True"
      ]
     },
     "execution_count": 40,
     "metadata": {},
     "output_type": "execute_result"
    }
   ],
   "source": [
    "#issubset()=Returns whether another set contains this set or not\n",
    "A={1,4,6}\n",
    "N={1,2,3,4,5,6,7,8}\n",
    "A.issubset(N)"
   ]
  },
  {
   "cell_type": "code",
   "execution_count": 48,
   "id": "83136b10",
   "metadata": {},
   "outputs": [
    {
     "name": "stdout",
     "output_type": "stream",
     "text": [
      "False\n",
      "True\n"
     ]
    }
   ],
   "source": [
    "#issuperset()=Returns whether this set contains another set or not\n",
    "A={1,4,6}\n",
    "N={1,2,3,4,5,6,7,8}\n",
    "print(A.issuperset(N))\n",
    "print(N.issuperset(A))"
   ]
  },
  {
   "cell_type": "code",
   "execution_count": 52,
   "id": "d62e0e5e",
   "metadata": {},
   "outputs": [
    {
     "name": "stdout",
     "output_type": "stream",
     "text": [
      "{'king', 4}\n"
     ]
    }
   ],
   "source": [
    "#pop()=Removes an element from the set\n",
    "A={1,4,\"king\",True}\n",
    "A.pop()              #remove random item\n",
    "print(A)"
   ]
  },
  {
   "cell_type": "code",
   "execution_count": 53,
   "id": "35a71eef",
   "metadata": {},
   "outputs": [
    {
     "name": "stdout",
     "output_type": "stream",
     "text": [
      "{1, 4}\n"
     ]
    }
   ],
   "source": [
    "#remove()=Removes the specified element\n",
    "A={1,4,\"king\",True}\n",
    "A.remove(\"king\")\n",
    "print(A)"
   ]
  },
  {
   "cell_type": "code",
   "execution_count": 54,
   "id": "fde76068",
   "metadata": {},
   "outputs": [
    {
     "name": "stdout",
     "output_type": "stream",
     "text": [
      "{'google', 'banana', 'microsoft', 'cherry'}\n"
     ]
    }
   ],
   "source": [
    "#symmetric_difference()=Returns a set with the symmetric differences of two sets\n",
    "s1 = {\"apple\", \"banana\", \"cherry\"}\n",
    "s2 = {\"google\", \"microsoft\", \"apple\"}\n",
    "s3 = s1.symmetric_difference(s2)\n",
    "\n",
    "print(s3)"
   ]
  },
  {
   "cell_type": "code",
   "execution_count": 55,
   "id": "ee35dead",
   "metadata": {},
   "outputs": [
    {
     "name": "stdout",
     "output_type": "stream",
     "text": [
      "{'google', 'banana', 'microsoft', 'cherry'}\n"
     ]
    }
   ],
   "source": [
    "#symmetric_difference_update()=Inserts the symmetric differences from this set and another\n",
    "s1 = {\"apple\", \"banana\", \"cherry\"}\n",
    "s2 = {\"google\", \"microsoft\", \"apple\"}\n",
    "s1.symmetric_difference_update(s2)\n",
    "print(s1)"
   ]
  },
  {
   "cell_type": "code",
   "execution_count": 56,
   "id": "f1bd91b1",
   "metadata": {},
   "outputs": [
    {
     "name": "stdout",
     "output_type": "stream",
     "text": [
      "{1, 'b', 'a', 2, 3, 'c'}\n"
     ]
    }
   ],
   "source": [
    "#union()=Return a set containing the union of sets\n",
    "set1 = {\"a\", \"b\", \"c\"}\n",
    "set2 = {1, 2, 3}\n",
    "set3 = set1.union(set2)\n",
    "print(set3)"
   ]
  },
  {
   "cell_type": "code",
   "execution_count": 59,
   "id": "180e8846",
   "metadata": {},
   "outputs": [
    {
     "name": "stdout",
     "output_type": "stream",
     "text": [
      "{1, 'b', 'a', 2, 3, 'c'}\n"
     ]
    }
   ],
   "source": [
    "#update()=Update the set with the union of this set and others\n",
    "set1 = {\"a\", \"b\" , \"c\"}\n",
    "set2 = {1, 2, 3}\n",
    "set1.update(set2)\n",
    "print(set1)"
   ]
  }
 ],
 "metadata": {
  "kernelspec": {
   "display_name": "Python 3 (ipykernel)",
   "language": "python",
   "name": "python3"
  },
  "language_info": {
   "codemirror_mode": {
    "name": "ipython",
    "version": 3
   },
   "file_extension": ".py",
   "mimetype": "text/x-python",
   "name": "python",
   "nbconvert_exporter": "python",
   "pygments_lexer": "ipython3",
   "version": "3.9.12"
  }
 },
 "nbformat": 4,
 "nbformat_minor": 5
}
