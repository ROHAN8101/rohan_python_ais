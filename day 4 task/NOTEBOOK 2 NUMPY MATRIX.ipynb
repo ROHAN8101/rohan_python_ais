{
 "cells": [
  {
   "cell_type": "markdown",
   "id": "b25c5918",
   "metadata": {},
   "source": [
    "# MATRIX CREATION "
   ]
  },
  {
   "cell_type": "code",
   "execution_count": 2,
   "id": "c3cb10f7",
   "metadata": {},
   "outputs": [],
   "source": [
    "import numpy as np"
   ]
  },
  {
   "cell_type": "code",
   "execution_count": 2,
   "id": "8b83512a",
   "metadata": {},
   "outputs": [
    {
     "data": {
      "text/plain": [
       "array([[ 1,  2,  3,  4],\n",
       "       [ 5,  6,  7,  8],\n",
       "       [10, 11, 12, 13],\n",
       "       [14, 15, 16, 17]])"
      ]
     },
     "execution_count": 2,
     "metadata": {},
     "output_type": "execute_result"
    }
   ],
   "source": [
    "# Create a 4x4 matrix\n",
    "A = np.array([[1,2,3,4] , [5,6,7,8] , [10 , 11 , 12 ,13] , [14,15,16,17]])\n",
    "A"
   ]
  },
  {
   "cell_type": "code",
   "execution_count": 4,
   "id": "9bf5cabd",
   "metadata": {},
   "outputs": [
    {
     "data": {
      "text/plain": [
       "dtype('int32')"
      ]
     },
     "execution_count": 4,
     "metadata": {},
     "output_type": "execute_result"
    }
   ],
   "source": [
    "# Datatype of Matrix\n",
    "A.dtype"
   ]
  },
  {
   "cell_type": "code",
   "execution_count": 5,
   "id": "f9d2b21e",
   "metadata": {},
   "outputs": [
    {
     "data": {
      "text/plain": [
       "array([[ 1.5 ,  2.07,  3.  ,  4.  ],\n",
       "       [ 5.  ,  6.  ,  7.  ,  8.  ],\n",
       "       [10.  , 11.  , 12.  , 13.  ],\n",
       "       [14.  , 15.  , 16.  , 17.  ]])"
      ]
     },
     "execution_count": 5,
     "metadata": {},
     "output_type": "execute_result"
    }
   ],
   "source": [
    "B = np.array([[1.5,2.07,3,4] , [5,6,7,8] , [10 , 11 , 12 ,13] , [14,15,16,17]])\n",
    "B"
   ]
  },
  {
   "cell_type": "code",
   "execution_count": 6,
   "id": "cfdda41e",
   "metadata": {},
   "outputs": [
    {
     "data": {
      "text/plain": [
       "dtype('float64')"
      ]
     },
     "execution_count": 6,
     "metadata": {},
     "output_type": "execute_result"
    }
   ],
   "source": [
    "# Datatype of Matrix\n",
    "B.dtype"
   ]
  },
  {
   "cell_type": "code",
   "execution_count": 7,
   "id": "991b9f2e",
   "metadata": {},
   "outputs": [
    {
     "data": {
      "text/plain": [
       "(4, 4)"
      ]
     },
     "execution_count": 7,
     "metadata": {},
     "output_type": "execute_result"
    }
   ],
   "source": [
    "# Shape of Matrix\n",
    "A.shape"
   ]
  },
  {
   "cell_type": "code",
   "execution_count": 8,
   "id": "712f6be0",
   "metadata": {},
   "outputs": [
    {
     "data": {
      "text/plain": [
       "array([[0., 0., 0., 0.],\n",
       "       [0., 0., 0., 0.],\n",
       "       [0., 0., 0., 0.],\n",
       "       [0., 0., 0., 0.]])"
      ]
     },
     "execution_count": 8,
     "metadata": {},
     "output_type": "execute_result"
    }
   ],
   "source": [
    "# Generate a 4x4 zero matrix\n",
    "np.zeros((4,4))"
   ]
  },
  {
   "cell_type": "code",
   "execution_count": 9,
   "id": "6f78097f",
   "metadata": {},
   "outputs": [
    {
     "data": {
      "text/plain": [
       "(4, 4)"
      ]
     },
     "execution_count": 9,
     "metadata": {},
     "output_type": "execute_result"
    }
   ],
   "source": [
    "#Shape of Matrix\n",
    "z1 = np.zeros((4,4))\n",
    "z1.shape"
   ]
  },
  {
   "cell_type": "code",
   "execution_count": 12,
   "id": "fed432e8",
   "metadata": {},
   "outputs": [
    {
     "data": {
      "text/plain": [
       "array([[1., 1., 1., 1., 1.],\n",
       "       [1., 1., 1., 1., 1.],\n",
       "       [1., 1., 1., 1., 1.],\n",
       "       [1., 1., 1., 1., 1.],\n",
       "       [1., 1., 1., 1., 1.]])"
      ]
     },
     "execution_count": 12,
     "metadata": {},
     "output_type": "execute_result"
    }
   ],
   "source": [
    "# Generate a 5x5 matrix filled with ones\n",
    "np.ones((5,5))"
   ]
  },
  {
   "cell_type": "code",
   "execution_count": 13,
   "id": "f81f4f16",
   "metadata": {},
   "outputs": [
    {
     "data": {
      "text/plain": [
       "array([[358, 349, 299,  96, 240, 384, 317, 428, 193, 313],\n",
       "       [342, 172, 184, 280,  24, 481, 448, 231, 296, 491],\n",
       "       [154, 346,  42,  29,  74, 407, 104,  27,   2, 353],\n",
       "       [319, 368, 179, 241, 358, 357, 130, 314,  66, 414],\n",
       "       [208, 483, 180, 394,  98, 436,  10,  50, 340,   7],\n",
       "       [ 79,  59, 160, 307,  92, 132, 429, 274, 349, 264],\n",
       "       [102, 497, 263, 398, 314, 338,  93, 306,  86, 350],\n",
       "       [ 13, 312, 377, 471,  71, 134, 109, 116, 115, 266],\n",
       "       [199, 288, 362, 298, 298, 187,  81, 248, 278, 498],\n",
       "       [468, 117, 375, 215, 130, 311,  92, 335, 172, 212]])"
      ]
     },
     "execution_count": 13,
     "metadata": {},
     "output_type": "execute_result"
    }
   ],
   "source": [
    "# Return 10x10 matrix of random integer numbers between 0 to 500\n",
    "np.random.randint(0,500, (10,10))"
   ]
  },
  {
   "cell_type": "code",
   "execution_count": 14,
   "id": "a860df9b",
   "metadata": {},
   "outputs": [
    {
     "data": {
      "text/plain": [
       "array([[799, 883,  15, 276, 809, 837,  79,  39, 177, 149],\n",
       "       [894, 320, 270, 334, 847, 876, 916, 593, 702, 580],\n",
       "       [979, 329, 616, 471, 390,   0, 822, 616, 124, 121],\n",
       "       [704, 787, 702, 133, 717, 470, 602, 215, 201, 736],\n",
       "       [380, 723, 196, 280, 177, 926,  74, 346, 427, 849],\n",
       "       [396, 436, 324, 774, 468, 916, 691, 920, 467, 989],\n",
       "       [415, 708, 400, 956, 484, 104, 854, 116, 465, 640],\n",
       "       [955,  21, 562, 165, 230, 912, 477, 733, 199,  58],\n",
       "       [512, 916, 883, 868, 419, 680, 734, 312, 703, 588],\n",
       "       [123, 922, 844, 939, 658, 190, 364,   0, 534, 863]])"
      ]
     },
     "execution_count": 14,
     "metadata": {},
     "output_type": "execute_result"
    }
   ],
   "source": [
    "mat1 = np.random.randint(0,1000,100).reshape(10,10)\n",
    "mat1"
   ]
  },
  {
   "cell_type": "code",
   "execution_count": 15,
   "id": "8efc1ce5",
   "metadata": {},
   "outputs": [
    {
     "data": {
      "text/plain": [
       "799"
      ]
     },
     "execution_count": 15,
     "metadata": {},
     "output_type": "execute_result"
    }
   ],
   "source": [
    "mat1[0,0]"
   ]
  },
  {
   "cell_type": "code",
   "execution_count": 16,
   "id": "4e6be999",
   "metadata": {},
   "outputs": [
    {
     "data": {
      "text/plain": [
       "array([799, 883, 809, 837, 894, 847, 876, 916, 593, 702, 580, 979, 616,\n",
       "       822, 616, 704, 787, 702, 717, 602, 736, 723, 926, 849, 774, 916,\n",
       "       691, 920, 989, 708, 956, 854, 640, 955, 562, 912, 733, 512, 916,\n",
       "       883, 868, 680, 734, 703, 588, 922, 844, 939, 658, 534, 863])"
      ]
     },
     "execution_count": 16,
     "metadata": {},
     "output_type": "execute_result"
    }
   ],
   "source": [
    "mat1[mat1 > 500]"
   ]
  },
  {
   "cell_type": "code",
   "execution_count": 17,
   "id": "05fd5632",
   "metadata": {},
   "outputs": [
    {
     "data": {
      "text/plain": [
       "array([[1., 0., 0., 0., 0., 0., 0., 0., 0.],\n",
       "       [0., 1., 0., 0., 0., 0., 0., 0., 0.],\n",
       "       [0., 0., 1., 0., 0., 0., 0., 0., 0.],\n",
       "       [0., 0., 0., 1., 0., 0., 0., 0., 0.],\n",
       "       [0., 0., 0., 0., 1., 0., 0., 0., 0.],\n",
       "       [0., 0., 0., 0., 0., 1., 0., 0., 0.],\n",
       "       [0., 0., 0., 0., 0., 0., 1., 0., 0.],\n",
       "       [0., 0., 0., 0., 0., 0., 0., 1., 0.],\n",
       "       [0., 0., 0., 0., 0., 0., 0., 0., 1.]])"
      ]
     },
     "execution_count": 17,
     "metadata": {},
     "output_type": "execute_result"
    }
   ],
   "source": [
    "# Identity Matrix\n",
    "i=np.eye(9)\n",
    "i"
   ]
  },
  {
   "cell_type": "code",
   "execution_count": 22,
   "id": "873d69cc",
   "metadata": {},
   "outputs": [
    {
     "data": {
      "text/plain": [
       "array([[1, 0, 0, 0, 0, 0, 0, 0],\n",
       "       [0, 2, 0, 0, 0, 0, 0, 0],\n",
       "       [0, 0, 3, 0, 0, 0, 0, 0],\n",
       "       [0, 0, 0, 4, 0, 0, 0, 0],\n",
       "       [0, 0, 0, 0, 5, 0, 0, 0],\n",
       "       [0, 0, 0, 0, 0, 6, 0, 0],\n",
       "       [0, 0, 0, 0, 0, 0, 7, 0],\n",
       "       [0, 0, 0, 0, 0, 0, 0, 8]])"
      ]
     },
     "execution_count": 22,
     "metadata": {},
     "output_type": "execute_result"
    }
   ],
   "source": [
    "#diagonal matrix\n",
    "D = np.diag([1,2,3,4,5,6,7,8])\n",
    "D"
   ]
  },
  {
   "cell_type": "code",
   "execution_count": 23,
   "id": "f079e92e",
   "metadata": {},
   "outputs": [
    {
     "name": "stdout",
     "output_type": "stream",
     "text": [
      "  matrix - \n",
      " [[-0.44002652  0.47712791 -0.23018672  0.26280053  0.34681991]\n",
      " [ 1.0535635  -0.33049952  0.16633696  0.78887004 -1.29692695]\n",
      " [-0.1610638   0.04972183  0.32530996 -1.3920912   1.4784657 ]\n",
      " [-1.64025696 -0.34258556 -0.56482867 -1.13112098  0.74217124]\n",
      " [ 0.12823593 -0.88775741 -0.04397114  0.58603071  1.55273516]]\n",
      "\n",
      "\n",
      "lower triangular matrix - \n",
      " [[-0.44002652  0.          0.          0.          0.        ]\n",
      " [ 1.0535635  -0.33049952  0.          0.          0.        ]\n",
      " [-0.1610638   0.04972183  0.32530996  0.          0.        ]\n",
      " [-1.64025696 -0.34258556 -0.56482867 -1.13112098  0.        ]\n",
      " [ 0.12823593 -0.88775741 -0.04397114  0.58603071  1.55273516]]\n",
      "\n",
      "\n",
      "Upper triangular matrix - \n",
      " [[-0.44002652  0.47712791 -0.23018672  0.26280053  0.34681991]\n",
      " [ 0.         -0.33049952  0.16633696  0.78887004 -1.29692695]\n",
      " [ 0.          0.          0.32530996 -1.3920912   1.4784657 ]\n",
      " [ 0.          0.          0.         -1.13112098  0.74217124]\n",
      " [ 0.          0.          0.          0.          1.55273516]]\n"
     ]
    }
   ],
   "source": [
    "# Traingular Matrices (lower & Upper triangular matrix) :\n",
    "M = np.random.randn(5,5)     #from normaldistbn\n",
    "U = np.triu(M)\n",
    "L = np.tril(M)\n",
    "print(\"  matrix - \\n\" , M)\n",
    "print(\"\\n\")\n",
    "print(\"lower triangular matrix - \\n\" , L)\n",
    "print(\"\\n\")\n",
    "print(\"Upper triangular matrix - \\n\" , U)"
   ]
  },
  {
   "cell_type": "code",
   "execution_count": 24,
   "id": "1576a1a7",
   "metadata": {},
   "outputs": [
    {
     "data": {
      "text/plain": [
       "array([[8, 8, 8, 8, 8],\n",
       "       [8, 8, 8, 8, 8],\n",
       "       [8, 8, 8, 8, 8],\n",
       "       [8, 8, 8, 8, 8],\n",
       "       [8, 8, 8, 8, 8]])"
      ]
     },
     "execution_count": 24,
     "metadata": {},
     "output_type": "execute_result"
    }
   ],
   "source": [
    "# Generate a 5X5 matrix with a given fill value of 8\n",
    "np.full((5,5) , 8)"
   ]
  },
  {
   "cell_type": "code",
   "execution_count": 25,
   "id": "38d3240c",
   "metadata": {},
   "outputs": [
    {
     "data": {
      "text/plain": [
       "array([[10.33072194, 19.32720602, 17.34041677, 10.6955983 , 12.00788761],\n",
       "       [10.51470161, 15.04447902, 14.10489905, 19.19289154, 11.89433734],\n",
       "       [10.4915881 , 15.96502494, 17.50348779, 14.22593559, 19.32946255],\n",
       "       [18.86611093, 10.76026529, 11.08031857, 18.46537892, 16.4068248 ],\n",
       "       [10.69475641, 10.65669537, 13.24556071, 16.92000396, 12.6936003 ]])"
      ]
     },
     "execution_count": 25,
     "metadata": {},
     "output_type": "execute_result"
    }
   ],
   "source": [
    "# Generate 5X5 matrix of Random float numbers between 10 to 20\n",
    "np.random.uniform(10,20, size=(5,5))"
   ]
  },
  {
   "cell_type": "code",
   "execution_count": 26,
   "id": "2bd0fa2c",
   "metadata": {},
   "outputs": [
    {
     "data": {
      "text/plain": [
       "array([[ 1,  2,  3,  4],\n",
       "       [ 5,  6,  7,  8],\n",
       "       [10, 11, 12, 13],\n",
       "       [14, 15, 16, 17]])"
      ]
     },
     "execution_count": 26,
     "metadata": {},
     "output_type": "execute_result"
    }
   ],
   "source": [
    "A"
   ]
  },
  {
   "cell_type": "code",
   "execution_count": 3,
   "id": "2baa3c47",
   "metadata": {},
   "outputs": [
    {
     "name": "stdout",
     "output_type": "stream",
     "text": [
      "[ 1  2  3  4  5  6  7  8 10 11 12 13 14 15 16 17]\n",
      "[ 1  2  3  4  5  6  7  8 10 11 12 13 14 15 16 17]\n"
     ]
    }
   ],
   "source": [
    "# Collapse Matrix into one dimension array\n",
    "print(A.flatten())\n",
    "print(A.ravel())"
   ]
  },
  {
   "cell_type": "markdown",
   "id": "cacec503",
   "metadata": {},
   "source": [
    "# Reading elements of a Matrix"
   ]
  },
  {
   "cell_type": "code",
   "execution_count": 4,
   "id": "877a1641",
   "metadata": {},
   "outputs": [
    {
     "data": {
      "text/plain": [
       "array([[ 1,  2,  3,  4],\n",
       "       [ 5,  6,  7,  8],\n",
       "       [10, 11, 12, 13],\n",
       "       [14, 15, 16, 17]])"
      ]
     },
     "execution_count": 4,
     "metadata": {},
     "output_type": "execute_result"
    }
   ],
   "source": [
    "A"
   ]
  },
  {
   "cell_type": "code",
   "execution_count": 10,
   "id": "f205f5cb",
   "metadata": {},
   "outputs": [
    {
     "data": {
      "text/plain": [
       "array([1, 2, 3, 4])"
      ]
     },
     "execution_count": 10,
     "metadata": {},
     "output_type": "execute_result"
    }
   ],
   "source": [
    "# Fetch first row of matrix\n",
    "A[0,:]"
   ]
  },
  {
   "cell_type": "code",
   "execution_count": 11,
   "id": "513fca06",
   "metadata": {},
   "outputs": [
    {
     "data": {
      "text/plain": [
       "array([ 1,  5, 10, 14])"
      ]
     },
     "execution_count": 11,
     "metadata": {},
     "output_type": "execute_result"
    }
   ],
   "source": [
    "# Fetch first column of matrix\n",
    "A[:,0]"
   ]
  },
  {
   "cell_type": "code",
   "execution_count": 12,
   "id": "f77b392d",
   "metadata": {},
   "outputs": [
    {
     "data": {
      "text/plain": [
       "1"
      ]
     },
     "execution_count": 12,
     "metadata": {},
     "output_type": "execute_result"
    }
   ],
   "source": [
    "# Fetch first element of the matrix\n",
    "A[0,0]"
   ]
  },
  {
   "cell_type": "code",
   "execution_count": 13,
   "id": "2264e059",
   "metadata": {},
   "outputs": [
    {
     "data": {
      "text/plain": [
       "array([[ 6,  7],\n",
       "       [11, 12]])"
      ]
     },
     "execution_count": 13,
     "metadata": {},
     "output_type": "execute_result"
    }
   ],
   "source": [
    "A[1:3 , 1:3]"
   ]
  },
  {
   "cell_type": "markdown",
   "id": "bfbf9d1e",
   "metadata": {},
   "source": [
    "# Reverse Rows / Columns of a Matrix"
   ]
  },
  {
   "cell_type": "code",
   "execution_count": 14,
   "id": "5ff07105",
   "metadata": {},
   "outputs": [
    {
     "data": {
      "text/plain": [
       "array([[ 0,  1,  2,  3],\n",
       "       [ 4,  5,  6,  7],\n",
       "       [ 8,  9, 10, 11],\n",
       "       [12, 13, 14, 15]])"
      ]
     },
     "execution_count": 14,
     "metadata": {},
     "output_type": "execute_result"
    }
   ],
   "source": [
    "arr = np.arange(16).reshape(4,4)\n",
    "arr"
   ]
  },
  {
   "cell_type": "code",
   "execution_count": 15,
   "id": "1f3ebd32",
   "metadata": {},
   "outputs": [
    {
     "data": {
      "text/plain": [
       "array([[12, 13, 14, 15],\n",
       "       [ 8,  9, 10, 11],\n",
       "       [ 4,  5,  6,  7],\n",
       "       [ 0,  1,  2,  3]])"
      ]
     },
     "execution_count": 15,
     "metadata": {},
     "output_type": "execute_result"
    }
   ],
   "source": [
    "# Reverse rows\n",
    "arr[::-1]"
   ]
  },
  {
   "cell_type": "code",
   "execution_count": 16,
   "id": "c400b8d5",
   "metadata": {},
   "outputs": [
    {
     "data": {
      "text/plain": [
       "array([[ 3,  2,  1,  0],\n",
       "       [ 7,  6,  5,  4],\n",
       "       [11, 10,  9,  8],\n",
       "       [15, 14, 13, 12]])"
      ]
     },
     "execution_count": 16,
     "metadata": {},
     "output_type": "execute_result"
    }
   ],
   "source": [
    "# Reverse colunms\n",
    "arr[:, ::-1]"
   ]
  },
  {
   "cell_type": "markdown",
   "id": "33ba0616",
   "metadata": {},
   "source": [
    "# SWAP Rows & Columns"
   ]
  },
  {
   "cell_type": "code",
   "execution_count": 5,
   "id": "d7e3f96d",
   "metadata": {},
   "outputs": [
    {
     "data": {
      "text/plain": [
       "array([[ 0,  1,  2,  3],\n",
       "       [ 4,  5,  6,  7],\n",
       "       [ 8,  9, 10, 11],\n",
       "       [12, 13, 14, 15]])"
      ]
     },
     "execution_count": 5,
     "metadata": {},
     "output_type": "execute_result"
    }
   ],
   "source": [
    "m1 = np.arange(0,16).reshape(4,4)\n",
    "m1"
   ]
  },
  {
   "cell_type": "code",
   "execution_count": 18,
   "id": "fd08a7ca",
   "metadata": {},
   "outputs": [
    {
     "data": {
      "text/plain": [
       "array([[ 4,  5,  6,  7],\n",
       "       [ 0,  1,  2,  3],\n",
       "       [ 8,  9, 10, 11],\n",
       "       [12, 13, 14, 15]])"
      ]
     },
     "execution_count": 18,
     "metadata": {},
     "output_type": "execute_result"
    }
   ],
   "source": [
    "# SWAP rows 0 & 1\n",
    "m1[[0,1]] = m1[[1,0]]\n",
    "m1"
   ]
  },
  {
   "cell_type": "code",
   "execution_count": 19,
   "id": "1ad71a0b",
   "metadata": {},
   "outputs": [
    {
     "data": {
      "text/plain": [
       "array([[ 4,  5,  6,  7],\n",
       "       [ 0,  1,  2,  3],\n",
       "       [12, 13, 14, 15],\n",
       "       [ 8,  9, 10, 11]])"
      ]
     },
     "execution_count": 19,
     "metadata": {},
     "output_type": "execute_result"
    }
   ],
   "source": [
    "# SWAP rows 2 & 3\n",
    "m1[[3,2]] = m1[[2,3]]\n",
    "m1"
   ]
  },
  {
   "cell_type": "code",
   "execution_count": 6,
   "id": "b184efbf",
   "metadata": {},
   "outputs": [
    {
     "data": {
      "text/plain": [
       "array([[ 0,  1,  3,  2],\n",
       "       [ 4,  5,  7,  6],\n",
       "       [ 8,  9, 11, 10],\n",
       "       [12, 13, 15, 14]])"
      ]
     },
     "execution_count": 6,
     "metadata": {},
     "output_type": "execute_result"
    }
   ],
   "source": [
    "# Swap columns 2 & 3\n",
    "m1[:,[2, 3]] = m1[:,[3, 2]]\n",
    "m1"
   ]
  },
  {
   "cell_type": "markdown",
   "id": "0b5b29a3",
   "metadata": {},
   "source": [
    "# Concatenate Matrices"
   ]
  },
  {
   "cell_type": "code",
   "execution_count": 7,
   "id": "abab3923",
   "metadata": {},
   "outputs": [
    {
     "data": {
      "text/plain": [
       "array([[1, 2],\n",
       "       [3, 4],\n",
       "       [5, 6],\n",
       "       [1, 1],\n",
       "       [1, 1]])"
      ]
     },
     "execution_count": 7,
     "metadata": {},
     "output_type": "execute_result"
    }
   ],
   "source": [
    "A = np.array([[1,2] , [3,4] ,[5,6]])\n",
    "B = np.array([[1,1] , [1,1]])\n",
    "C = np.concatenate((A,B))\n",
    "C"
   ]
  },
  {
   "cell_type": "markdown",
   "id": "e4d4031c",
   "metadata": {},
   "source": [
    "# Matrix Addition"
   ]
  },
  {
   "cell_type": "code",
   "execution_count": 8,
   "id": "b74123b8",
   "metadata": {},
   "outputs": [
    {
     "name": "stdout",
     "output_type": "stream",
     "text": [
      "\n",
      " First Matrix (M) ==> \n",
      " [[ 1  2  3]\n",
      " [ 4 -3  6]\n",
      " [ 7  8  0]]\n",
      "\n",
      " Second Matrix (N) ==> \n",
      " [[1 1 1]\n",
      " [2 2 2]\n",
      " [3 3 3]]\n",
      "\n",
      " Matrix Addition (M+N) ==> \n",
      " [[ 2  3  4]\n",
      " [ 6 -1  8]\n",
      " [10 11  3]]\n",
      "\n",
      " Matrix Addition using np.add ==> \n",
      " [[ 2.  3.  4.]\n",
      " [ 6. -1.  8.]\n",
      " [10. 11.  3.]]\n"
     ]
    }
   ],
   "source": [
    "#********************************************************#\n",
    "M = np.array([[1,2,3],[4,-3,6],[7,8,0]])\n",
    "N = np.array([[1,1,1],[2,2,2],[3,3,3]])\n",
    "print(\"\\n First Matrix (M) ==> \\n\", M)\n",
    "print(\"\\n Second Matrix (N) ==> \\n\", N)\n",
    "C = M+N\n",
    "print(\"\\n Matrix Addition (M+N) ==> \\n\", C)\n",
    "# OR\n",
    "C = np.add(M,N,dtype = np.float64)\n",
    "print(\"\\n Matrix Addition using np.add ==> \\n\", C)\n"
   ]
  },
  {
   "cell_type": "markdown",
   "id": "8c1ead6e",
   "metadata": {},
   "source": [
    "# Matrix subtraction"
   ]
  },
  {
   "cell_type": "code",
   "execution_count": 9,
   "id": "d41a7479",
   "metadata": {},
   "outputs": [
    {
     "name": "stdout",
     "output_type": "stream",
     "text": [
      "\n",
      " First Matrix (M) ==> \n",
      " [[ 1  2  3]\n",
      " [ 4 -3  6]\n",
      " [ 7  8  0]]\n",
      "\n",
      " Second Matrix (N) ==> \n",
      " [[1 1 1]\n",
      " [2 2 2]\n",
      " [3 3 3]]\n",
      "\n",
      " Matrix Subtraction (M-N) ==> \n",
      " [[ 0  1  2]\n",
      " [ 2 -5  4]\n",
      " [ 4  5 -3]]\n",
      "\n",
      " Matrix Subtraction using np.subtract ==> \n",
      " [[ 0.  1.  2.]\n",
      " [ 2. -5.  4.]\n",
      " [ 4.  5. -3.]]\n"
     ]
    }
   ],
   "source": [
    "#********************************************************#\n",
    "M = np.array([[1,2,3],[4,-3,6],[7,8,0]])\n",
    "N = np.array([[1,1,1],[2,2,2],[3,3,3]])\n",
    "print(\"\\n First Matrix (M) ==> \\n\", M)\n",
    "print(\"\\n Second Matrix (N) ==> \\n\", N)\n",
    "C = M-N\n",
    "print(\"\\n Matrix Subtraction (M-N) ==> \\n\", C)\n",
    "# OR\n",
    "C = np.subtract(M,N,dtype = np.float64)\n",
    "print(\"\\n Matrix Subtraction using np.subtract ==> \\n\", C)\n"
   ]
  },
  {
   "cell_type": "markdown",
   "id": "d9e65b4f",
   "metadata": {},
   "source": [
    "# Matrices Scalar Multiplication"
   ]
  },
  {
   "cell_type": "code",
   "execution_count": 10,
   "id": "b6a21f70",
   "metadata": {},
   "outputs": [
    {
     "name": "stdout",
     "output_type": "stream",
     "text": [
      "\n",
      " Matrix (M) ==> \n",
      " [[ 1  2  3]\n",
      " [ 4 -3  6]\n",
      " [ 7  8  0]]\n",
      "\n",
      "Matrices Scalar Multiplication ==> \n",
      " [[ 10  20  30]\n",
      " [ 40 -30  60]\n",
      " [ 70  80   0]]\n",
      "\n",
      "Matrices Scalar Multiplication ==> \n",
      " [[ 10  20  30]\n",
      " [ 40 -30  60]\n",
      " [ 70  80   0]]\n"
     ]
    }
   ],
   "source": [
    "M = np.array([[1,2,3],[4,-3,6],[7,8,0]])\n",
    "C = 10\n",
    "print(\"\\n Matrix (M) ==> \\n\", M)\n",
    "print(\"\\nMatrices Scalar Multiplication ==> \\n\", C*M)\n",
    "# OR\n",
    "print(\"\\nMatrices Scalar Multiplication ==> \\n\", np.multiply(C,M))"
   ]
  },
  {
   "cell_type": "markdown",
   "id": "4a697c57",
   "metadata": {},
   "source": [
    "# Transpose of a matrix"
   ]
  },
  {
   "cell_type": "code",
   "execution_count": 11,
   "id": "1345abb1",
   "metadata": {},
   "outputs": [
    {
     "name": "stdout",
     "output_type": "stream",
     "text": [
      "\n",
      " Matrix (M) ==> \n",
      " [[ 1  2  3]\n",
      " [ 4 -3  6]\n",
      " [ 7  8  0]]\n",
      "\n",
      "Transpose of M ==> \n",
      " [[ 1  4  7]\n",
      " [ 2 -3  8]\n",
      " [ 3  6  0]]\n",
      "\n",
      "Transpose of M ==> \n",
      " [[ 1  4  7]\n",
      " [ 2 -3  8]\n",
      " [ 3  6  0]]\n"
     ]
    }
   ],
   "source": [
    "M = np.array([[1,2,3],[4,-3,6],[7,8,0]])\n",
    "print(\"\\n Matrix (M) ==> \\n\", M)\n",
    "print(\"\\nTranspose of M ==> \\n\", np.transpose(M))\n",
    "# OR\n",
    "print(\"\\nTranspose of M ==> \\n\", M.T)"
   ]
  },
  {
   "cell_type": "markdown",
   "id": "aa01dab1",
   "metadata": {},
   "source": [
    "# Determinant of a matrix"
   ]
  },
  {
   "cell_type": "code",
   "execution_count": 12,
   "id": "65dc4a4a",
   "metadata": {},
   "outputs": [
    {
     "name": "stdout",
     "output_type": "stream",
     "text": [
      "\n",
      " Matrix (M) ==> \n",
      " [[ 1  2  3]\n",
      " [ 4 -3  6]\n",
      " [ 7  8  0]]\n",
      "\n",
      "Determinant of M ==>  195.0\n"
     ]
    }
   ],
   "source": [
    "M = np.array([[1,2,3],[4,-3,6],[7,8,0]])\n",
    "print(\"\\n Matrix (M) ==> \\n\", M)\n",
    "print(\"\\nDeterminant of M ==> \", np.linalg.det(M))"
   ]
  },
  {
   "cell_type": "markdown",
   "id": "29bd80e4",
   "metadata": {},
   "source": [
    "# Rank of a matrix"
   ]
  },
  {
   "cell_type": "code",
   "execution_count": 13,
   "id": "90bdd5d3",
   "metadata": {},
   "outputs": [
    {
     "name": "stdout",
     "output_type": "stream",
     "text": [
      "\n",
      " Matrix (M) ==> \n",
      " [[ 1  2  3]\n",
      " [ 4 -3  6]\n",
      " [ 7  8  0]]\n",
      "\n",
      "Rank of M ==>  3\n"
     ]
    }
   ],
   "source": [
    "M = np.array([[1,2,3],[4,-3,6],[7,8,0]])\n",
    "print(\"\\n Matrix (M) ==> \\n\", M)\n",
    "print(\"\\nRank of M ==> \", np.linalg.matrix_rank(M))"
   ]
  },
  {
   "cell_type": "markdown",
   "id": "3d338017",
   "metadata": {},
   "source": [
    "# Trace of matrix"
   ]
  },
  {
   "cell_type": "code",
   "execution_count": 14,
   "id": "f49e5cb3",
   "metadata": {},
   "outputs": [
    {
     "name": "stdout",
     "output_type": "stream",
     "text": [
      "\n",
      " Matrix (M) ==> \n",
      " [[ 1  2  3]\n",
      " [ 4 -3  6]\n",
      " [ 7  8  0]]\n",
      "\n",
      "Trace of M ==>  -2\n"
     ]
    }
   ],
   "source": [
    "M = np.array([[1,2,3],[4,-3,6],[7,8,0]])\n",
    "print(\"\\n Matrix (M) ==> \\n\", M)\n",
    "print(\"\\nTrace of M ==> \", np.trace(M))"
   ]
  },
  {
   "cell_type": "markdown",
   "id": "10ae4b78",
   "metadata": {},
   "source": [
    "# Inverse of matrix A"
   ]
  },
  {
   "cell_type": "code",
   "execution_count": 15,
   "id": "c149b3ab",
   "metadata": {},
   "outputs": [
    {
     "name": "stdout",
     "output_type": "stream",
     "text": [
      "\n",
      " Matrix (M) ==> \n",
      " [[ 1  2  3]\n",
      " [ 4 -3  6]\n",
      " [ 7  8  0]]\n",
      "\n",
      "Inverse of M ==> \n",
      " [[-0.24615385  0.12307692  0.10769231]\n",
      " [ 0.21538462 -0.10769231  0.03076923]\n",
      " [ 0.27179487  0.03076923 -0.05641026]]\n"
     ]
    }
   ],
   "source": [
    "M = np.array([[1,2,3],[4,-3,6],[7,8,0]])\n",
    "print(\"\\n Matrix (M) ==> \\n\", M)\n",
    "print(\"\\nInverse of M ==> \\n\", np.linalg.inv(M))"
   ]
  },
  {
   "cell_type": "markdown",
   "id": "8bd6779c",
   "metadata": {},
   "source": [
    "# Matrix Multiplication (pointwise multiplication)"
   ]
  },
  {
   "cell_type": "code",
   "execution_count": 16,
   "id": "77a75e74",
   "metadata": {},
   "outputs": [
    {
     "name": "stdout",
     "output_type": "stream",
     "text": [
      "\n",
      " First Matrix (M) ==> \n",
      " [[ 1  2  3]\n",
      " [ 4 -3  6]\n",
      " [ 7  8  0]]\n",
      "\n",
      " Second Matrix (N) ==> \n",
      " [[1 1 1]\n",
      " [2 2 2]\n",
      " [3 3 3]]\n",
      "\n",
      " Point-Wise Multiplication of M & N ==> \n",
      " [[ 1  2  3]\n",
      " [ 8 -6 12]\n",
      " [21 24  0]]\n",
      "\n",
      " Point-Wise Multiplication of M & N ==> \n",
      " [[ 1  2  3]\n",
      " [ 8 -6 12]\n",
      " [21 24  0]]\n"
     ]
    }
   ],
   "source": [
    "M = np.array([[1,2,3],[4,-3,6],[7,8,0]])\n",
    "N = np.array([[1,1,1],[2,2,2],[3,3,3]])\n",
    "print(\"\\n First Matrix (M) ==> \\n\", M)\n",
    "print(\"\\n Second Matrix (N) ==> \\n\", N)\n",
    "print(\"\\n Point-Wise Multiplication of M & N ==> \\n\", M*N)\n",
    "# OR\n",
    "print(\"\\n Point-Wise Multiplication of M & N ==> \\n\", np.multiply(M,N))"
   ]
  },
  {
   "cell_type": "markdown",
   "id": "791471d3",
   "metadata": {},
   "source": [
    "# Matrix dot product"
   ]
  },
  {
   "cell_type": "code",
   "execution_count": 17,
   "id": "1cc8dbd6",
   "metadata": {},
   "outputs": [
    {
     "name": "stdout",
     "output_type": "stream",
     "text": [
      "\n",
      " First Matrix (M) ==> \n",
      " [[ 1  2  3]\n",
      " [ 4 -3  6]\n",
      " [ 7  8  0]]\n",
      "\n",
      " Second Matrix (N) ==> \n",
      " [[1 1 1]\n",
      " [2 2 2]\n",
      " [3 3 3]]\n",
      "\n",
      " Matrix Dot Product ==> \n",
      " [[14 14 14]\n",
      " [16 16 16]\n",
      " [23 23 23]]\n",
      "\n",
      " Matrix Dot Product using np.matmul ==> \n",
      " [[14 14 14]\n",
      " [16 16 16]\n",
      " [23 23 23]]\n",
      "\n",
      " Matrix Dot Product using np.dot ==> \n",
      " [[14 14 14]\n",
      " [16 16 16]\n",
      " [23 23 23]]\n"
     ]
    }
   ],
   "source": [
    "M = np.array([[1,2,3],[4,-3,6],[7,8,0]])\n",
    "N = np.array([[1,1,1],[2,2,2],[3,3,3]])\n",
    "print(\"\\n First Matrix (M) ==> \\n\", M)\n",
    "print(\"\\n Second Matrix (N) ==> \\n\", N)\n",
    "print(\"\\n Matrix Dot Product ==> \\n\", M@N)\n",
    "# OR\n",
    "print(\"\\n Matrix Dot Product using np.matmul ==> \\n\", np.matmul(M,N))\n",
    "# OR\n",
    "print(\"\\n Matrix Dot Product using np.dot ==> \\n\", np.dot(M,N))"
   ]
  },
  {
   "cell_type": "markdown",
   "id": "49939ff9",
   "metadata": {},
   "source": [
    "# Matrix Division"
   ]
  },
  {
   "cell_type": "code",
   "execution_count": 18,
   "id": "1f15f67f",
   "metadata": {},
   "outputs": [
    {
     "name": "stdout",
     "output_type": "stream",
     "text": [
      "\n",
      " First Matrix (M) ==> \n",
      " [[ 1  2  3]\n",
      " [ 4 -3  6]\n",
      " [ 7  8  0]]\n",
      "\n",
      " Second Matrix (N) ==> \n",
      " [[1 1 1]\n",
      " [2 2 2]\n",
      " [3 3 3]]\n",
      "\n",
      " Matrix Division (M/N) ==> \n",
      " [[ 1.          2.          3.        ]\n",
      " [ 2.         -1.5         3.        ]\n",
      " [ 2.33333333  2.66666667  0.        ]]\n",
      "\n",
      " Matrix Division (M/N) ==> \n",
      " [[ 1.          2.          3.        ]\n",
      " [ 2.         -1.5         3.        ]\n",
      " [ 2.33333333  2.66666667  0.        ]]\n"
     ]
    }
   ],
   "source": [
    "M = np.array([[1,2,3],[4,-3,6],[7,8,0]])\n",
    "N = np.array([[1,1,1],[2,2,2],[3,3,3]])\n",
    "print(\"\\n First Matrix (M) ==> \\n\", M)\n",
    "print(\"\\n Second Matrix (N) ==> \\n\", N)\n",
    "print(\"\\n Matrix Division (M/N) ==> \\n\", M/N)\n",
    "# OR\n",
    "print(\"\\n Matrix Division (M/N) ==> \\n\", np.divide(M,N))"
   ]
  },
  {
   "cell_type": "markdown",
   "id": "323c861d",
   "metadata": {},
   "source": [
    "# Sum of all elements in a matrix"
   ]
  },
  {
   "cell_type": "code",
   "execution_count": 19,
   "id": "7c2a9ccd",
   "metadata": {},
   "outputs": [
    {
     "name": "stdout",
     "output_type": "stream",
     "text": [
      "\n",
      " Matrix (N) ==> \n",
      " [[1 1 1]\n",
      " [2 2 2]\n",
      " [3 3 3]]\n",
      "Sum of all elements in a Matrix ==>\n",
      "18\n"
     ]
    }
   ],
   "source": [
    "N = np.array([[1,1,1],[2,2,2],[3,3,3]])\n",
    "print(\"\\n Matrix (N) ==> \\n\", N)\n",
    "print (\"Sum of all elements in a Matrix ==>\")\n",
    "print (np.sum(N))"
   ]
  },
  {
   "cell_type": "markdown",
   "id": "d53a8c8f",
   "metadata": {},
   "source": [
    "# Column-Wise Addition"
   ]
  },
  {
   "cell_type": "code",
   "execution_count": 21,
   "id": "4bd1e955",
   "metadata": {},
   "outputs": [
    {
     "name": "stdout",
     "output_type": "stream",
     "text": [
      "\n",
      " Matrix (N) ==> \n",
      " [[1 1 1]\n",
      " [2 2 2]\n",
      " [3 3 3]]\n",
      "Column-Wise summation ==> \n",
      "[6 6 6]\n"
     ]
    }
   ],
   "source": [
    "N = np.array([[1,1,1],[2,2,2],[3,3,3]])\n",
    "print(\"\\n Matrix (N) ==> \\n\", N)\n",
    "print (\"Column-Wise summation ==> \")\n",
    "print (np.sum(N,axis=0))"
   ]
  },
  {
   "cell_type": "markdown",
   "id": "4126ed8a",
   "metadata": {},
   "source": [
    "# Row-Wise Addition"
   ]
  },
  {
   "cell_type": "code",
   "execution_count": 22,
   "id": "12295081",
   "metadata": {},
   "outputs": [
    {
     "name": "stdout",
     "output_type": "stream",
     "text": [
      "\n",
      " Matrix (N) ==> \n",
      " [[1 1 1]\n",
      " [2 2 2]\n",
      " [3 3 3]]\n",
      "Row-Wise summation ==>\n",
      "[3 6 9]\n"
     ]
    }
   ],
   "source": [
    "N = np.array([[1,1,1],[2,2,2],[3,3,3]])\n",
    "print(\"\\n Matrix (N) ==> \\n\", N)\n",
    "print (\"Row-Wise summation ==>\")\n",
    "print (np.sum(N,axis=1))"
   ]
  },
  {
   "cell_type": "markdown",
   "id": "0bd502f5",
   "metadata": {},
   "source": [
    "# Kronecker Product of matrices"
   ]
  },
  {
   "cell_type": "code",
   "execution_count": 23,
   "id": "f92f6260",
   "metadata": {},
   "outputs": [
    {
     "data": {
      "text/plain": [
       "array([[1, 2, 3],\n",
       "       [4, 5, 6]])"
      ]
     },
     "execution_count": 23,
     "metadata": {},
     "output_type": "execute_result"
    }
   ],
   "source": [
    "M1 = np.array([[1,2,3] , [4,5,6]])\n",
    "M1"
   ]
  },
  {
   "cell_type": "code",
   "execution_count": 24,
   "id": "afe1e911",
   "metadata": {},
   "outputs": [
    {
     "data": {
      "text/plain": [
       "array([[10, 10, 10],\n",
       "       [10, 10, 10]])"
      ]
     },
     "execution_count": 24,
     "metadata": {},
     "output_type": "execute_result"
    }
   ],
   "source": [
    "M2 = np.array([[10,10,10],[10,10,10]])\n",
    "M2"
   ]
  },
  {
   "cell_type": "code",
   "execution_count": 25,
   "id": "8c051965",
   "metadata": {},
   "outputs": [
    {
     "data": {
      "text/plain": [
       "array([[10, 10, 10, 20, 20, 20, 30, 30, 30],\n",
       "       [10, 10, 10, 20, 20, 20, 30, 30, 30],\n",
       "       [40, 40, 40, 50, 50, 50, 60, 60, 60],\n",
       "       [40, 40, 40, 50, 50, 50, 60, 60, 60]])"
      ]
     },
     "execution_count": 25,
     "metadata": {},
     "output_type": "execute_result"
    }
   ],
   "source": [
    "np.kron(M1,M2)"
   ]
  },
  {
   "cell_type": "markdown",
   "id": "220f1e20",
   "metadata": {},
   "source": [
    "# Matrix Powers"
   ]
  },
  {
   "cell_type": "code",
   "execution_count": 26,
   "id": "66578a39",
   "metadata": {},
   "outputs": [
    {
     "data": {
      "text/plain": [
       "array([[1, 2],\n",
       "       [4, 5]])"
      ]
     },
     "execution_count": 26,
     "metadata": {},
     "output_type": "execute_result"
    }
   ],
   "source": [
    "M1 = np.array([[1,2],[4,5]])\n",
    "M1"
   ]
  },
  {
   "cell_type": "code",
   "execution_count": 27,
   "id": "38a34623",
   "metadata": {},
   "outputs": [
    {
     "data": {
      "text/plain": [
       "array([[ 57,  78],\n",
       "       [156, 213]])"
      ]
     },
     "execution_count": 27,
     "metadata": {},
     "output_type": "execute_result"
    }
   ],
   "source": [
    "#Matrix to the power 3\n",
    "M1@M1@M1"
   ]
  },
  {
   "cell_type": "code",
   "execution_count": 28,
   "id": "58243c32",
   "metadata": {},
   "outputs": [
    {
     "data": {
      "text/plain": [
       "array([[ 57,  78],\n",
       "       [156, 213]])"
      ]
     },
     "execution_count": 28,
     "metadata": {},
     "output_type": "execute_result"
    }
   ],
   "source": [
    "#Matrix to the power 3\n",
    "np.linalg.matrix_power(M1,3)"
   ]
  },
  {
   "cell_type": "markdown",
   "id": "eab0ecf2",
   "metadata": {},
   "source": [
    "# Tensor"
   ]
  },
  {
   "cell_type": "code",
   "execution_count": 3,
   "id": "1ecb5681",
   "metadata": {},
   "outputs": [
    {
     "data": {
      "text/plain": [
       "array([[[  1,   2,   3],\n",
       "        [  4,   5,   6],\n",
       "        [  7,   8,   9]],\n",
       "\n",
       "       [[ 10,  20,  30],\n",
       "        [ 40,  50,  60],\n",
       "        [ 70,  80,  90]],\n",
       "\n",
       "       [[100, 200, 300],\n",
       "        [400, 500, 600],\n",
       "        [700, 800, 900]]])"
      ]
     },
     "execution_count": 3,
     "metadata": {},
     "output_type": "execute_result"
    }
   ],
   "source": [
    "# Create Tensor\n",
    "T1 = np.array([\n",
    " [[1,2,3], [4,5,6], [7,8,9]],\n",
    " [[10,20,30], [40,50,60], [70,80,90]],\n",
    " [[100,200,300], [400,500,600], [700,800,900]],\n",
    " ])\n",
    "T1"
   ]
  },
  {
   "cell_type": "code",
   "execution_count": 4,
   "id": "e71a05cb",
   "metadata": {},
   "outputs": [
    {
     "data": {
      "text/plain": [
       "array([[[0, 0, 0],\n",
       "        [0, 0, 0],\n",
       "        [0, 0, 0]],\n",
       "\n",
       "       [[1, 1, 1],\n",
       "        [1, 1, 1],\n",
       "        [1, 1, 1]],\n",
       "\n",
       "       [[2, 2, 2],\n",
       "        [2, 2, 2],\n",
       "        [2, 2, 2]]])"
      ]
     },
     "execution_count": 4,
     "metadata": {},
     "output_type": "execute_result"
    }
   ],
   "source": [
    "T2 = np.array([\n",
    " [[0,0,0] , [0,0,0] , [0,0,0]],\n",
    " [[1,1,1] , [1,1,1] , [1,1,1]],\n",
    " [[2,2,2] , [2,2,2] , [2,2,2]]\n",
    "\n",
    "])\n",
    "T2"
   ]
  },
  {
   "cell_type": "markdown",
   "id": "0cbcc519",
   "metadata": {},
   "source": [
    "# Tensor Addition"
   ]
  },
  {
   "cell_type": "code",
   "execution_count": 5,
   "id": "9b216833",
   "metadata": {},
   "outputs": [
    {
     "data": {
      "text/plain": [
       "array([[[  1,   2,   3],\n",
       "        [  4,   5,   6],\n",
       "        [  7,   8,   9]],\n",
       "\n",
       "       [[ 11,  21,  31],\n",
       "        [ 41,  51,  61],\n",
       "        [ 71,  81,  91]],\n",
       "\n",
       "       [[102, 202, 302],\n",
       "        [402, 502, 602],\n",
       "        [702, 802, 902]]])"
      ]
     },
     "execution_count": 5,
     "metadata": {},
     "output_type": "execute_result"
    }
   ],
   "source": [
    "A = T1+T2\n",
    "A"
   ]
  },
  {
   "cell_type": "code",
   "execution_count": 6,
   "id": "2bd5aee7",
   "metadata": {},
   "outputs": [
    {
     "data": {
      "text/plain": [
       "array([[[  1,   2,   3],\n",
       "        [  4,   5,   6],\n",
       "        [  7,   8,   9]],\n",
       "\n",
       "       [[ 11,  21,  31],\n",
       "        [ 41,  51,  61],\n",
       "        [ 71,  81,  91]],\n",
       "\n",
       "       [[102, 202, 302],\n",
       "        [402, 502, 602],\n",
       "        [702, 802, 902]]])"
      ]
     },
     "execution_count": 6,
     "metadata": {},
     "output_type": "execute_result"
    }
   ],
   "source": [
    "np.add(T1,T2)"
   ]
  },
  {
   "cell_type": "markdown",
   "id": "9f04fe39",
   "metadata": {},
   "source": [
    "# Tensor Subtraction"
   ]
  },
  {
   "cell_type": "code",
   "execution_count": 7,
   "id": "1227e625",
   "metadata": {},
   "outputs": [
    {
     "data": {
      "text/plain": [
       "array([[[  1,   2,   3],\n",
       "        [  4,   5,   6],\n",
       "        [  7,   8,   9]],\n",
       "\n",
       "       [[  9,  19,  29],\n",
       "        [ 39,  49,  59],\n",
       "        [ 69,  79,  89]],\n",
       "\n",
       "       [[ 98, 198, 298],\n",
       "        [398, 498, 598],\n",
       "        [698, 798, 898]]])"
      ]
     },
     "execution_count": 7,
     "metadata": {},
     "output_type": "execute_result"
    }
   ],
   "source": [
    "S = T1-T2\n",
    "S"
   ]
  },
  {
   "cell_type": "code",
   "execution_count": 8,
   "id": "86cce81c",
   "metadata": {},
   "outputs": [
    {
     "data": {
      "text/plain": [
       "array([[[  1,   2,   3],\n",
       "        [  4,   5,   6],\n",
       "        [  7,   8,   9]],\n",
       "\n",
       "       [[  9,  19,  29],\n",
       "        [ 39,  49,  59],\n",
       "        [ 69,  79,  89]],\n",
       "\n",
       "       [[ 98, 198, 298],\n",
       "        [398, 498, 598],\n",
       "        [698, 798, 898]]])"
      ]
     },
     "execution_count": 8,
     "metadata": {},
     "output_type": "execute_result"
    }
   ],
   "source": [
    "np.subtract(T1,T2)"
   ]
  },
  {
   "cell_type": "markdown",
   "id": "0f0e79e7",
   "metadata": {},
   "source": [
    "# Tensor Element-Wise Product"
   ]
  },
  {
   "cell_type": "code",
   "execution_count": 9,
   "id": "92b283b1",
   "metadata": {},
   "outputs": [
    {
     "data": {
      "text/plain": [
       "array([[[   0,    0,    0],\n",
       "        [   0,    0,    0],\n",
       "        [   0,    0,    0]],\n",
       "\n",
       "       [[  10,   20,   30],\n",
       "        [  40,   50,   60],\n",
       "        [  70,   80,   90]],\n",
       "\n",
       "       [[ 200,  400,  600],\n",
       "        [ 800, 1000, 1200],\n",
       "        [1400, 1600, 1800]]])"
      ]
     },
     "execution_count": 9,
     "metadata": {},
     "output_type": "execute_result"
    }
   ],
   "source": [
    "P = T1*T2\n",
    "P"
   ]
  },
  {
   "cell_type": "code",
   "execution_count": 11,
   "id": "96f3b7a7",
   "metadata": {},
   "outputs": [
    {
     "data": {
      "text/plain": [
       "array([[[   0,    0,    0],\n",
       "        [   0,    0,    0],\n",
       "        [   0,    0,    0]],\n",
       "\n",
       "       [[  10,   20,   30],\n",
       "        [  40,   50,   60],\n",
       "        [  70,   80,   90]],\n",
       "\n",
       "       [[ 200,  400,  600],\n",
       "        [ 800, 1000, 1200],\n",
       "        [1400, 1600, 1800]]])"
      ]
     },
     "execution_count": 11,
     "metadata": {},
     "output_type": "execute_result"
    }
   ],
   "source": [
    "np.multiply(T1,T2)"
   ]
  },
  {
   "cell_type": "markdown",
   "id": "7175890a",
   "metadata": {},
   "source": [
    "# Tensor Element-Wise Division"
   ]
  },
  {
   "cell_type": "code",
   "execution_count": 13,
   "id": "d045e5bd",
   "metadata": {},
   "outputs": [
    {
     "name": "stderr",
     "output_type": "stream",
     "text": [
      "C:\\Users\\Admin\\AppData\\Local\\Temp\\ipykernel_10184\\2993674564.py:1: RuntimeWarning: divide by zero encountered in true_divide\n",
      "  D = T1/T2\n"
     ]
    },
    {
     "data": {
      "text/plain": [
       "array([[[ inf,  inf,  inf],\n",
       "        [ inf,  inf,  inf],\n",
       "        [ inf,  inf,  inf]],\n",
       "\n",
       "       [[ 10.,  20.,  30.],\n",
       "        [ 40.,  50.,  60.],\n",
       "        [ 70.,  80.,  90.]],\n",
       "\n",
       "       [[ 50., 100., 150.],\n",
       "        [200., 250., 300.],\n",
       "        [350., 400., 450.]]])"
      ]
     },
     "execution_count": 13,
     "metadata": {},
     "output_type": "execute_result"
    }
   ],
   "source": [
    "D = T1/T2\n",
    "D"
   ]
  },
  {
   "cell_type": "code",
   "execution_count": 15,
   "id": "87eda13c",
   "metadata": {},
   "outputs": [
    {
     "name": "stderr",
     "output_type": "stream",
     "text": [
      "C:\\Users\\Admin\\AppData\\Local\\Temp\\ipykernel_10184\\2692294074.py:1: RuntimeWarning: divide by zero encountered in true_divide\n",
      "  np.divide(T1,T2)\n"
     ]
    },
    {
     "data": {
      "text/plain": [
       "array([[[ inf,  inf,  inf],\n",
       "        [ inf,  inf,  inf],\n",
       "        [ inf,  inf,  inf]],\n",
       "\n",
       "       [[ 10.,  20.,  30.],\n",
       "        [ 40.,  50.,  60.],\n",
       "        [ 70.,  80.,  90.]],\n",
       "\n",
       "       [[ 50., 100., 150.],\n",
       "        [200., 250., 300.],\n",
       "        [350., 400., 450.]]])"
      ]
     },
     "execution_count": 15,
     "metadata": {},
     "output_type": "execute_result"
    }
   ],
   "source": [
    "np.divide(T1,T2)"
   ]
  },
  {
   "cell_type": "markdown",
   "id": "a0e6a0f7",
   "metadata": {},
   "source": [
    "# Tensor Dot Product"
   ]
  },
  {
   "cell_type": "code",
   "execution_count": 16,
   "id": "9a8143a5",
   "metadata": {},
   "outputs": [
    {
     "data": {
      "text/plain": [
       "array([[  63,   63,   63],\n",
       "       [ 630,  630,  630],\n",
       "       [6300, 6300, 6300]])"
      ]
     },
     "execution_count": 16,
     "metadata": {},
     "output_type": "execute_result"
    }
   ],
   "source": [
    "np.tensordot(T1,T2)"
   ]
  },
  {
   "cell_type": "markdown",
   "id": "25d78c5a",
   "metadata": {},
   "source": [
    "# Solving Equations\n",
    "𝐴𝑋 = 𝐵\n"
   ]
  },
  {
   "cell_type": "code",
   "execution_count": 17,
   "id": "efc3f5de",
   "metadata": {},
   "outputs": [
    {
     "data": {
      "text/plain": [
       "array([[1, 2, 3],\n",
       "       [4, 5, 6],\n",
       "       [7, 8, 9]])"
      ]
     },
     "execution_count": 17,
     "metadata": {},
     "output_type": "execute_result"
    }
   ],
   "source": [
    "A = np.array([[1,2,3] , [4,5,6] , [7,8,9]])\n",
    "A"
   ]
  },
  {
   "cell_type": "code",
   "execution_count": 18,
   "id": "d21de5bd",
   "metadata": {},
   "outputs": [
    {
     "data": {
      "text/plain": [
       "array([[0.65033776],\n",
       "       [0.79341157],\n",
       "       [0.78857106]])"
      ]
     },
     "execution_count": 18,
     "metadata": {},
     "output_type": "execute_result"
    }
   ],
   "source": [
    "B = np.random.random((3,1))\n",
    "B"
   ]
  },
  {
   "cell_type": "code",
   "execution_count": 19,
   "id": "f287e982",
   "metadata": {},
   "outputs": [
    {
     "data": {
      "text/plain": [
       "array([[ 6.66146835e+14],\n",
       "       [-1.33229367e+15],\n",
       "       [ 6.66146835e+14]])"
      ]
     },
     "execution_count": 19,
     "metadata": {},
     "output_type": "execute_result"
    }
   ],
   "source": [
    "# Ist Method\n",
    "X = np.dot(np.linalg.inv(A) , B)\n",
    "X"
   ]
  },
  {
   "cell_type": "code",
   "execution_count": 20,
   "id": "3fe675ab",
   "metadata": {},
   "outputs": [
    {
     "data": {
      "text/plain": [
       "array([[ 6.66146835e+14],\n",
       "       [-1.33229367e+15],\n",
       "       [ 6.66146835e+14]])"
      ]
     },
     "execution_count": 20,
     "metadata": {},
     "output_type": "execute_result"
    }
   ],
   "source": [
    "# 2nd Method\n",
    "X = np.matmul(np.linalg.inv(A) , B)\n",
    "X"
   ]
  },
  {
   "cell_type": "code",
   "execution_count": 21,
   "id": "2995da83",
   "metadata": {},
   "outputs": [
    {
     "data": {
      "text/plain": [
       "array([[ 6.66146835e+14],\n",
       "       [-1.33229367e+15],\n",
       "       [ 6.66146835e+14]])"
      ]
     },
     "execution_count": 21,
     "metadata": {},
     "output_type": "execute_result"
    }
   ],
   "source": [
    "# 3rd Method\n",
    "X = np.linalg.inv(A)@B\n",
    "X"
   ]
  },
  {
   "cell_type": "code",
   "execution_count": 22,
   "id": "f9357cfb",
   "metadata": {},
   "outputs": [
    {
     "data": {
      "text/plain": [
       "array([[ 6.66146835e+14],\n",
       "       [-1.33229367e+15],\n",
       "       [ 6.66146835e+14]])"
      ]
     },
     "execution_count": 22,
     "metadata": {},
     "output_type": "execute_result"
    }
   ],
   "source": [
    "# 4th Method\n",
    "X = np.linalg.solve(A,B)\n",
    "X"
   ]
  },
  {
   "cell_type": "code",
   "execution_count": null,
   "id": "bba30543",
   "metadata": {},
   "outputs": [],
   "source": []
  }
 ],
 "metadata": {
  "kernelspec": {
   "display_name": "Python 3 (ipykernel)",
   "language": "python",
   "name": "python3"
  },
  "language_info": {
   "codemirror_mode": {
    "name": "ipython",
    "version": 3
   },
   "file_extension": ".py",
   "mimetype": "text/x-python",
   "name": "python",
   "nbconvert_exporter": "python",
   "pygments_lexer": "ipython3",
   "version": "3.9.12"
  }
 },
 "nbformat": 4,
 "nbformat_minor": 5
}
