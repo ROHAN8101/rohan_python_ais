{
 "cells": [
  {
   "cell_type": "markdown",
   "id": "03e1d178",
   "metadata": {},
   "source": [
    "# ROHAN RAHUL KOMKAR \n",
    "SPPU M.Sc 1 statistics"
   ]
  },
  {
   "cell_type": "markdown",
   "id": "a093b5c9",
   "metadata": {},
   "source": [
    "# VARIABLE DECLERATION RULES:"
   ]
  },
  {
   "cell_type": "markdown",
   "id": "04e0691e",
   "metadata": {},
   "source": [
    "#rule to define varibles names\n",
    "1. variable name must start with letter or (_) underscore character\n",
    "2. A variable name cannot start with number\n",
    "3.only contain alphanumeric characters and underscore ex.(A-Z,a-z,0-9, \"_\")\n",
    "4. variable name are case sensitive\n"
   ]
  },
  {
   "cell_type": "code",
   "execution_count": 1,
   "id": "4b64de05",
   "metadata": {},
   "outputs": [],
   "source": [
    "#RULE 1 variable name must start with letter or (_) underscore character\n",
    "#EXAMPLE \n"
   ]
  },
  {
   "cell_type": "code",
   "execution_count": 2,
   "id": "db143403",
   "metadata": {},
   "outputs": [
    {
     "name": "stdout",
     "output_type": "stream",
     "text": [
      "5\n",
      "23\n",
      "3\n"
     ]
    }
   ],
   "source": [
    "A=5    #variable name can start with letter, alphabet, words\n",
    "rohan=23\n",
    "a=3\n",
    "print(A)\n",
    "print(rohan)\n",
    "print(a)"
   ]
  },
  {
   "cell_type": "code",
   "execution_count": 3,
   "id": "7d5fbe75",
   "metadata": {},
   "outputs": [
    {
     "name": "stdout",
     "output_type": "stream",
     "text": [
      "67\n"
     ]
    }
   ],
   "source": [
    "_rohan=67\n",
    "print(_rohan)   #variable can start with underscore(_)"
   ]
  },
  {
   "cell_type": "code",
   "execution_count": 4,
   "id": "b0ab5f8f",
   "metadata": {},
   "outputs": [
    {
     "ename": "SyntaxError",
     "evalue": "starred assignment target must be in a list or tuple (1911700661.py, line 1)",
     "output_type": "error",
     "traceback": [
      "\u001b[1;36m  Input \u001b[1;32mIn [4]\u001b[1;36m\u001b[0m\n\u001b[1;33m    *d=67   #cannot start with special character like (*,#,$,!,~,%)\u001b[0m\n\u001b[1;37m    ^\u001b[0m\n\u001b[1;31mSyntaxError\u001b[0m\u001b[1;31m:\u001b[0m starred assignment target must be in a list or tuple\n"
     ]
    }
   ],
   "source": [
    "*d=67   #cannot start with special character like (*,#,$,!,~,%)"
   ]
  },
  {
   "cell_type": "code",
   "execution_count": 5,
   "id": "c3a565f6",
   "metadata": {},
   "outputs": [
    {
     "ename": "SyntaxError",
     "evalue": "invalid syntax (3719245722.py, line 2)",
     "output_type": "error",
     "traceback": [
      "\u001b[1;36m  Input \u001b[1;32mIn [5]\u001b[1;36m\u001b[0m\n\u001b[1;33m    4a=5\u001b[0m\n\u001b[1;37m     ^\u001b[0m\n\u001b[1;31mSyntaxError\u001b[0m\u001b[1;31m:\u001b[0m invalid syntax\n"
     ]
    }
   ],
   "source": [
    "#Rule:2 A variable name cannot start with number\n",
    "4a=5 "
   ]
  },
  {
   "cell_type": "code",
   "execution_count": 6,
   "id": "2bac1c8d",
   "metadata": {},
   "outputs": [
    {
     "name": "stdout",
     "output_type": "stream",
     "text": [
      "6666787\n",
      "5\n"
     ]
    }
   ],
   "source": [
    "#Rule 3: only contain alphanumeric characters and underscore ex.(A-Z,a-z,0-9, \"_\")\n",
    "rohan2345=6666787\n",
    "rohan_2423=5\n",
    "print(rohan2345)\n",
    "print(rohan_2423)    "
   ]
  },
  {
   "cell_type": "code",
   "execution_count": 7,
   "id": "6c187f54",
   "metadata": {},
   "outputs": [
    {
     "ename": "SyntaxError",
     "evalue": "invalid syntax (2332523165.py, line 1)",
     "output_type": "error",
     "traceback": [
      "\u001b[1;36m  Input \u001b[1;32mIn [7]\u001b[1;36m\u001b[0m\n\u001b[1;33m    abc$e=5\u001b[0m\n\u001b[1;37m       ^\u001b[0m\n\u001b[1;31mSyntaxError\u001b[0m\u001b[1;31m:\u001b[0m invalid syntax\n"
     ]
    }
   ],
   "source": [
    "abc$e=5"
   ]
  },
  {
   "cell_type": "code",
   "execution_count": 8,
   "id": "8b63292e",
   "metadata": {},
   "outputs": [
    {
     "ename": "NameError",
     "evalue": "name 'b' is not defined",
     "output_type": "error",
     "traceback": [
      "\u001b[1;31m---------------------------------------------------------------------------\u001b[0m",
      "\u001b[1;31mNameError\u001b[0m                                 Traceback (most recent call last)",
      "Input \u001b[1;32mIn [8]\u001b[0m, in \u001b[0;36m<cell line: 3>\u001b[1;34m()\u001b[0m\n\u001b[0;32m      1\u001b[0m \u001b[38;5;66;03m#Rule 4: variable name are case sensitive\u001b[39;00m\n\u001b[0;32m      2\u001b[0m B\u001b[38;5;241m=\u001b[39m\u001b[38;5;241m1000\u001b[39m\n\u001b[1;32m----> 3\u001b[0m \u001b[38;5;28mprint\u001b[39m(\u001b[43mb\u001b[49m)\n",
      "\u001b[1;31mNameError\u001b[0m: name 'b' is not defined"
     ]
    }
   ],
   "source": [
    "#Rule 4: variable name are case sensitive\n",
    "B=1000\n",
    "print(b)   #B will not overwrite b "
   ]
  },
  {
   "cell_type": "markdown",
   "id": "2e8902ea",
   "metadata": {},
   "source": [
    "# # Buit-in Data types in python\n",
    "(int, float, string, boolean , complex, none)"
   ]
  },
  {
   "cell_type": "markdown",
   "id": "bb12fe27",
   "metadata": {},
   "source": [
    "# Int"
   ]
  },
  {
   "cell_type": "code",
   "execution_count": null,
   "id": "1a650875",
   "metadata": {},
   "outputs": [],
   "source": [
    "a=5 \n",
    "type(a)"
   ]
  },
  {
   "cell_type": "code",
   "execution_count": null,
   "id": "ddf39256",
   "metadata": {},
   "outputs": [],
   "source": [
    "A4=5778989809\n",
    "type(A4)"
   ]
  },
  {
   "cell_type": "code",
   "execution_count": null,
   "id": "dc687761",
   "metadata": {},
   "outputs": [],
   "source": [
    "a=0\n",
    "type(a)"
   ]
  },
  {
   "cell_type": "markdown",
   "id": "1a3bbe07",
   "metadata": {},
   "source": [
    "# String      \n",
    "    can write in single and double quotes"
   ]
  },
  {
   "cell_type": "code",
   "execution_count": null,
   "id": "26269cef",
   "metadata": {},
   "outputs": [],
   "source": [
    "a='india'\n",
    "print(a)\n",
    "type(a)"
   ]
  },
  {
   "cell_type": "code",
   "execution_count": null,
   "id": "8c96d033",
   "metadata": {},
   "outputs": [],
   "source": [
    "a=\"myname\"                      # anything in single or double quotes can be defined as STRINGS\n",
    "b=\"my_name\"\n",
    "c=\"my name\"\n",
    "d=\"my.name\"\n",
    "e=\"123\"\n",
    "f=\"fyy$@fyy\"\n",
    "g='[5:4]'\n",
    "\n",
    "print(a,type(a))\n",
    "print(b,type(b))\n",
    "print(c,type(c))\n",
    "print(d,type(d))\n",
    "print(e,type(e))\n",
    "print(f,type(f))\n",
    "print(g,type(g))\n"
   ]
  },
  {
   "cell_type": "markdown",
   "id": "7bbc8333",
   "metadata": {},
   "source": [
    "# Float\n",
    "numbers with decimal point is called as float"
   ]
  },
  {
   "cell_type": "code",
   "execution_count": null,
   "id": "39377593",
   "metadata": {},
   "outputs": [],
   "source": [
    "x=4.5\n",
    "type(x)"
   ]
  },
  {
   "cell_type": "code",
   "execution_count": null,
   "id": "19f767a6",
   "metadata": {},
   "outputs": [],
   "source": [
    "y=00.678\n",
    "type(y)"
   ]
  },
  {
   "cell_type": "markdown",
   "id": "ada43ddf",
   "metadata": {},
   "source": [
    "# Boolean\n"
   ]
  },
  {
   "cell_type": "code",
   "execution_count": null,
   "id": "0f361b7f",
   "metadata": {},
   "outputs": [],
   "source": [
    "x1=True\n",
    "type(x1)"
   ]
  },
  {
   "cell_type": "code",
   "execution_count": null,
   "id": "294055a3",
   "metadata": {},
   "outputs": [],
   "source": [
    "x2=False\n",
    "type(x2)"
   ]
  },
  {
   "cell_type": "code",
   "execution_count": null,
   "id": "9c4471af",
   "metadata": {},
   "outputs": [],
   "source": [
    "x=bool(0)\n",
    "type(x)"
   ]
  },
  {
   "cell_type": "markdown",
   "id": "6844c8d8",
   "metadata": {},
   "source": [
    "# Complex"
   ]
  },
  {
   "cell_type": "code",
   "execution_count": 9,
   "id": "0451ad8e",
   "metadata": {},
   "outputs": [
    {
     "data": {
      "text/plain": [
       "complex"
      ]
     },
     "execution_count": 9,
     "metadata": {},
     "output_type": "execute_result"
    }
   ],
   "source": [
    "x3=2+3j\n",
    "type(x3)"
   ]
  },
  {
   "cell_type": "code",
   "execution_count": 10,
   "id": "c958f53e",
   "metadata": {},
   "outputs": [
    {
     "data": {
      "text/plain": [
       "complex"
      ]
     },
     "execution_count": 10,
     "metadata": {},
     "output_type": "execute_result"
    }
   ],
   "source": [
    "x4= 5+4j\n",
    "type(x4)"
   ]
  },
  {
   "cell_type": "markdown",
   "id": "5f2d3e56",
   "metadata": {},
   "source": [
    "# None"
   ]
  },
  {
   "cell_type": "code",
   "execution_count": 11,
   "id": "5e85773c",
   "metadata": {},
   "outputs": [
    {
     "data": {
      "text/plain": [
       "NoneType"
      ]
     },
     "execution_count": 11,
     "metadata": {},
     "output_type": "execute_result"
    }
   ],
   "source": [
    "V=None\n",
    "type(V)"
   ]
  },
  {
   "cell_type": "markdown",
   "id": "c606b78c",
   "metadata": {},
   "source": [
    "# CASTING OF DATA TYPES\n",
    "changing of data types\n"
   ]
  },
  {
   "cell_type": "code",
   "execution_count": 12,
   "id": "0547df96",
   "metadata": {},
   "outputs": [
    {
     "data": {
      "text/plain": [
       "str"
      ]
     },
     "execution_count": 12,
     "metadata": {},
     "output_type": "execute_result"
    }
   ],
   "source": [
    "x1=\"20\"\n",
    "type(x1)\n"
   ]
  },
  {
   "cell_type": "code",
   "execution_count": 13,
   "id": "09635f63",
   "metadata": {},
   "outputs": [
    {
     "data": {
      "text/plain": [
       "int"
      ]
     },
     "execution_count": 13,
     "metadata": {},
     "output_type": "execute_result"
    }
   ],
   "source": [
    "x1=int(x1)\n",
    "type(x1)"
   ]
  },
  {
   "cell_type": "code",
   "execution_count": 14,
   "id": "150627d2",
   "metadata": {},
   "outputs": [
    {
     "data": {
      "text/plain": [
       "float"
      ]
     },
     "execution_count": 14,
     "metadata": {},
     "output_type": "execute_result"
    }
   ],
   "source": [
    "x3=float(\"30\")\n",
    "type(x3)\n"
   ]
  },
  {
   "cell_type": "code",
   "execution_count": 15,
   "id": "57bc2918",
   "metadata": {},
   "outputs": [
    {
     "data": {
      "text/plain": [
       "30.0"
      ]
     },
     "execution_count": 15,
     "metadata": {},
     "output_type": "execute_result"
    }
   ],
   "source": [
    "x3"
   ]
  },
  {
   "cell_type": "code",
   "execution_count": 16,
   "id": "d43f05c0",
   "metadata": {},
   "outputs": [
    {
     "name": "stdout",
     "output_type": "stream",
     "text": [
      "white\n",
      "white\n",
      "white\n"
     ]
    }
   ],
   "source": [
    "x=y=z=\"white\"\n",
    "print(x)\n",
    "print(y)\n",
    "print(z)"
   ]
  },
  {
   "cell_type": "code",
   "execution_count": 17,
   "id": "01c84814",
   "metadata": {},
   "outputs": [
    {
     "name": "stdout",
     "output_type": "stream",
     "text": [
      "['pink', 'red', 'green']\n",
      "['pink', 'red', 'green']\n",
      "['pink', 'red', 'green']\n"
     ]
    }
   ],
   "source": [
    "color=[\"pink\",\"red\",\"green\"]\n",
    "p=q=r=color\n",
    "print(p)\n",
    "print(q)\n",
    "print(r)"
   ]
  },
  {
   "cell_type": "code",
   "execution_count": 18,
   "id": "e79dba7c",
   "metadata": {},
   "outputs": [
    {
     "name": "stdout",
     "output_type": "stream",
     "text": [
      "red\n",
      "yellow\n"
     ]
    },
    {
     "data": {
      "text/plain": [
       "'green'"
      ]
     },
     "execution_count": 18,
     "metadata": {},
     "output_type": "execute_result"
    }
   ],
   "source": [
    "a,b,c=\"red\",\"yellow\",\"green\"\n",
    "print(a)\n",
    "print(b)\n",
    "c"
   ]
  },
  {
   "cell_type": "markdown",
   "id": "33366be8",
   "metadata": {},
   "source": [
    "# slicing in strings"
   ]
  },
  {
   "cell_type": "code",
   "execution_count": 19,
   "id": "01db7aee",
   "metadata": {},
   "outputs": [
    {
     "data": {
      "text/plain": [
       "'m'"
      ]
     },
     "execution_count": 19,
     "metadata": {},
     "output_type": "execute_result"
    }
   ],
   "source": [
    "a=\"my name is rohan\"             # indexing in python always starts with 0\n",
    "a[0:1]"
   ]
  },
  {
   "cell_type": "code",
   "execution_count": 20,
   "id": "1ba229e5",
   "metadata": {},
   "outputs": [
    {
     "data": {
      "text/plain": [
       "16"
      ]
     },
     "execution_count": 20,
     "metadata": {},
     "output_type": "execute_result"
    }
   ],
   "source": [
    "len(a)        # its showing length of string"
   ]
  },
  {
   "cell_type": "code",
   "execution_count": 21,
   "id": "e505f272",
   "metadata": {},
   "outputs": [
    {
     "data": {
      "text/plain": [
       "'name'"
      ]
     },
     "execution_count": 21,
     "metadata": {},
     "output_type": "execute_result"
    }
   ],
   "source": [
    "a[3:7]"
   ]
  },
  {
   "cell_type": "code",
   "execution_count": 22,
   "id": "988c3aa3",
   "metadata": {},
   "outputs": [
    {
     "data": {
      "text/plain": [
       "' rohan'"
      ]
     },
     "execution_count": 22,
     "metadata": {},
     "output_type": "execute_result"
    }
   ],
   "source": [
    "a[10:]"
   ]
  },
  {
   "cell_type": "code",
   "execution_count": 23,
   "id": "240aebe6",
   "metadata": {},
   "outputs": [
    {
     "data": {
      "text/plain": [
       "'my name is '"
      ]
     },
     "execution_count": 23,
     "metadata": {},
     "output_type": "execute_result"
    }
   ],
   "source": [
    "a[:11]"
   ]
  },
  {
   "cell_type": "code",
   "execution_count": 24,
   "id": "6a30b091",
   "metadata": {},
   "outputs": [],
   "source": [
    "# display morn in negative way"
   ]
  },
  {
   "cell_type": "code",
   "execution_count": 25,
   "id": "13056b27",
   "metadata": {},
   "outputs": [
    {
     "data": {
      "text/plain": [
       "'rohan'"
      ]
     },
     "execution_count": 25,
     "metadata": {},
     "output_type": "execute_result"
    }
   ],
   "source": [
    "a[-5:]"
   ]
  },
  {
   "cell_type": "code",
   "execution_count": 26,
   "id": "d397b6c1",
   "metadata": {},
   "outputs": [
    {
     "data": {
      "text/plain": [
       "'rohan'"
      ]
     },
     "execution_count": 26,
     "metadata": {},
     "output_type": "execute_result"
    }
   ],
   "source": [
    "a[-5:17]"
   ]
  },
  {
   "cell_type": "code",
   "execution_count": 27,
   "id": "ee2e156e",
   "metadata": {},
   "outputs": [
    {
     "name": "stdout",
     "output_type": "stream",
     "text": [
      "MY NAME IS ROHAN\n"
     ]
    }
   ],
   "source": [
    "print(a.upper())             #convert into uppercase "
   ]
  },
  {
   "cell_type": "code",
   "execution_count": 28,
   "id": "cd3ef6bd",
   "metadata": {},
   "outputs": [
    {
     "name": "stdout",
     "output_type": "stream",
     "text": [
      "my name is rohan\n"
     ]
    }
   ],
   "source": [
    "print(a.lower())             #convert into lower case"
   ]
  },
  {
   "cell_type": "code",
   "execution_count": 29,
   "id": "426128d0",
   "metadata": {},
   "outputs": [
    {
     "name": "stdout",
     "output_type": "stream",
     "text": [
      "my name is not rohan\n"
     ]
    }
   ],
   "source": [
    "print(a.replace(\"is\",\"is not\"))       #replace another word instead of given word"
   ]
  },
  {
   "cell_type": "code",
   "execution_count": 30,
   "id": "eaa11000",
   "metadata": {},
   "outputs": [
    {
     "name": "stdout",
     "output_type": "stream",
     "text": [
      "['my', 'name', 'is', 'rohan']\n"
     ]
    }
   ],
   "source": [
    "print(a.split())                 #for splitting"
   ]
  },
  {
   "cell_type": "code",
   "execution_count": 31,
   "id": "3a481101",
   "metadata": {},
   "outputs": [
    {
     "data": {
      "text/plain": [
       "'my,name,is,rohan'"
      ]
     },
     "execution_count": 31,
     "metadata": {},
     "output_type": "execute_result"
    }
   ],
   "source": [
    "b=a.replace(\" \",\",\")\n",
    "b"
   ]
  },
  {
   "cell_type": "code",
   "execution_count": 32,
   "id": "c48d7e5a",
   "metadata": {},
   "outputs": [
    {
     "name": "stdout",
     "output_type": "stream",
     "text": [
      "['my', 'name', 'is', 'rohan']\n"
     ]
    }
   ],
   "source": [
    "print(b.split(\",\"))"
   ]
  },
  {
   "cell_type": "code",
   "execution_count": 33,
   "id": "30ff8730",
   "metadata": {},
   "outputs": [],
   "source": [
    "#string formating"
   ]
  },
  {
   "cell_type": "code",
   "execution_count": 34,
   "id": "cad33df4",
   "metadata": {},
   "outputs": [
    {
     "name": "stdout",
     "output_type": "stream",
     "text": [
      "the sum of 15 and 16 is 31\n"
     ]
    }
   ],
   "source": [
    "a=15\n",
    "b=16\n",
    "d=a+b\n",
    "print(\"the sum of {} and {} is {}\".format(a,b,d))"
   ]
  },
  {
   "cell_type": "code",
   "execution_count": null,
   "id": "a9c977bc",
   "metadata": {},
   "outputs": [],
   "source": []
  },
  {
   "cell_type": "code",
   "execution_count": null,
   "id": "b7430c84",
   "metadata": {},
   "outputs": [],
   "source": []
  },
  {
   "cell_type": "code",
   "execution_count": null,
   "id": "a0acc835",
   "metadata": {},
   "outputs": [],
   "source": []
  }
 ],
 "metadata": {
  "kernelspec": {
   "display_name": "Python 3 (ipykernel)",
   "language": "python",
   "name": "python3"
  },
  "language_info": {
   "codemirror_mode": {
    "name": "ipython",
    "version": 3
   },
   "file_extension": ".py",
   "mimetype": "text/x-python",
   "name": "python",
   "nbconvert_exporter": "python",
   "pygments_lexer": "ipython3",
   "version": "3.9.12"
  },
  "widgets": {
   "application/vnd.jupyter.widget-state+json": {
    "state": {},
    "version_major": 2,
    "version_minor": 0
   }
  }
 },
 "nbformat": 4,
 "nbformat_minor": 5
}
