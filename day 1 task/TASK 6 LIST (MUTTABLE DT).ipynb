{
 "cells": [
  {
   "cell_type": "markdown",
   "id": "ede30387",
   "metadata": {},
   "source": [
    "# ROHAN RAHUL KOMKAR "
   ]
  },
  {
   "cell_type": "markdown",
   "id": "feeca7bf",
   "metadata": {},
   "source": [
    "# LIST\n",
    "#Lists are used to store multiple items in a single variable.\n",
    "\n",
    "Lists are one of 4 built-in data types in Python used to store collections of data, the other 3 are Tuple, Set, and Dictionary, all with different qualities and usage.\n",
    "\n",
    "1Lists are created using square brackets[]\n",
    "2.Unorderd\n",
    "3. muttable/changable\n",
    "4.allows duplicates"
   ]
  },
  {
   "cell_type": "code",
   "execution_count": 2,
   "id": "576b2dfd",
   "metadata": {},
   "outputs": [
    {
     "name": "stdout",
     "output_type": "stream",
     "text": [
      "['apple', 'banana', 'cherry', 'apple', 'cherry']\n"
     ]
    }
   ],
   "source": [
    " l=[\"apple\", \"banana\", \"cherry\", \"apple\", \"cherry\"] \n",
    "print(l)"
   ]
  },
  {
   "cell_type": "code",
   "execution_count": 3,
   "id": "6d2dbc86",
   "metadata": {},
   "outputs": [
    {
     "data": {
      "text/plain": [
       "list"
      ]
     },
     "execution_count": 3,
     "metadata": {},
     "output_type": "execute_result"
    }
   ],
   "source": [
    "type(l)"
   ]
  },
  {
   "cell_type": "code",
   "execution_count": 83,
   "id": "6f9de029",
   "metadata": {},
   "outputs": [],
   "source": [
    "list1 = [\"apple\", \"banana\", \"cherry\"]              # str\n",
    "list2 = [1, 5, 7, 9, 3]                            #int\n",
    "list3 = [True, False, False]                       #bool\n",
    "list4 = [\"abc\", 34, True, 40, \"male\"]               #mixed data types"
   ]
  },
  {
   "cell_type": "code",
   "execution_count": 12,
   "id": "42596cd8",
   "metadata": {},
   "outputs": [
    {
     "name": "stdout",
     "output_type": "stream",
     "text": [
      "['abc', 34, True, 3, 'male']\n"
     ]
    }
   ],
   "source": [
    "list4 = [\"abc\", 34, True, 40, \"male\"]\n",
    "list4[3]=3\n",
    "print(list4)                              #muttable/changeble"
   ]
  },
  {
   "cell_type": "code",
   "execution_count": 13,
   "id": "aa20d119",
   "metadata": {},
   "outputs": [
    {
     "name": "stdout",
     "output_type": "stream",
     "text": [
      "male\n"
     ]
    }
   ],
   "source": [
    "#slicing\n",
    "print(list4[-1])"
   ]
  },
  {
   "cell_type": "code",
   "execution_count": 14,
   "id": "fd19be1c",
   "metadata": {},
   "outputs": [
    {
     "name": "stdout",
     "output_type": "stream",
     "text": [
      "[True, 3, 'male']\n"
     ]
    }
   ],
   "source": [
    "print(list4[-3:])"
   ]
  },
  {
   "cell_type": "code",
   "execution_count": 15,
   "id": "74272b57",
   "metadata": {},
   "outputs": [
    {
     "name": "stdout",
     "output_type": "stream",
     "text": [
      "[34, True, 3]\n"
     ]
    }
   ],
   "source": [
    "print(list4[1:4])"
   ]
  },
  {
   "cell_type": "code",
   "execution_count": 16,
   "id": "781e19ff",
   "metadata": {},
   "outputs": [
    {
     "name": "stdout",
     "output_type": "stream",
     "text": [
      "['abc']\n"
     ]
    }
   ],
   "source": [
    "print(list4[0:1])"
   ]
  },
  {
   "cell_type": "markdown",
   "id": "50ed950b",
   "metadata": {},
   "source": [
    "# list methods"
   ]
  },
  {
   "cell_type": "code",
   "execution_count": 82,
   "id": "98e075d2",
   "metadata": {},
   "outputs": [
    {
     "data": {
      "text/plain": [
       "['abc', 34, True, 40, 'male']"
      ]
     },
     "execution_count": 82,
     "metadata": {},
     "output_type": "execute_result"
    }
   ],
   "source": [
    "l=list4\n",
    "l"
   ]
  },
  {
   "cell_type": "code",
   "execution_count": 84,
   "id": "d011bfff",
   "metadata": {},
   "outputs": [
    {
     "data": {
      "text/plain": [
       "['abc', 34, True, 40, 'male', 5]"
      ]
     },
     "execution_count": 84,
     "metadata": {},
     "output_type": "execute_result"
    }
   ],
   "source": [
    "#append()=Adds an element at the end of the list\n",
    "l.append(5)\n",
    "l"
   ]
  },
  {
   "cell_type": "code",
   "execution_count": 23,
   "id": "c2da6653",
   "metadata": {},
   "outputs": [],
   "source": [
    "#clear()=Removes all the elements from the list\n"
   ]
  },
  {
   "cell_type": "code",
   "execution_count": 85,
   "id": "1c1bdb84",
   "metadata": {},
   "outputs": [],
   "source": [
    "#copy()\tReturns a copy of the list\n",
    "b=l.copy()"
   ]
  },
  {
   "cell_type": "code",
   "execution_count": 86,
   "id": "194fee21",
   "metadata": {},
   "outputs": [
    {
     "data": {
      "text/plain": [
       "['abc', 34, True, 40, 'male', 5]"
      ]
     },
     "execution_count": 86,
     "metadata": {},
     "output_type": "execute_result"
    }
   ],
   "source": [
    "b"
   ]
  },
  {
   "cell_type": "code",
   "execution_count": 88,
   "id": "7810549b",
   "metadata": {},
   "outputs": [
    {
     "data": {
      "text/plain": [
       "4"
      ]
     },
     "execution_count": 88,
     "metadata": {},
     "output_type": "execute_result"
    }
   ],
   "source": [
    "#count()=Returns the number of elements with the specified value\n",
    "b=[1,2,3,3,4,3,3]\n",
    "b.count(3)"
   ]
  },
  {
   "cell_type": "code",
   "execution_count": 51,
   "id": "006e2d65",
   "metadata": {},
   "outputs": [],
   "source": [
    "#extend()\tAdd the elements of a list (or any iterable), to the end of the current list\n",
    "c=[2,3,\"king\"]"
   ]
  },
  {
   "cell_type": "code",
   "execution_count": 55,
   "id": "5ddd0733",
   "metadata": {},
   "outputs": [
    {
     "name": "stdout",
     "output_type": "stream",
     "text": [
      "['apple', 'banana', 'cherry']\n"
     ]
    }
   ],
   "source": [
    "print(list1)\n",
    "list1.extend(c)"
   ]
  },
  {
   "cell_type": "code",
   "execution_count": 56,
   "id": "9b424e16",
   "metadata": {},
   "outputs": [
    {
     "name": "stdout",
     "output_type": "stream",
     "text": [
      "['apple', 'banana', 'cherry', 2, 3, 'king']\n"
     ]
    }
   ],
   "source": [
    "print(list1)"
   ]
  },
  {
   "cell_type": "code",
   "execution_count": 57,
   "id": "376d4e55",
   "metadata": {},
   "outputs": [
    {
     "data": {
      "text/plain": [
       "1"
      ]
     },
     "execution_count": 57,
     "metadata": {},
     "output_type": "execute_result"
    }
   ],
   "source": [
    "#index()=Returns the index of the first element with the specified value\n",
    "list1.index(\"banana\")"
   ]
  },
  {
   "cell_type": "code",
   "execution_count": 58,
   "id": "12b31735",
   "metadata": {},
   "outputs": [
    {
     "data": {
      "text/plain": [
       "0"
      ]
     },
     "execution_count": 58,
     "metadata": {},
     "output_type": "execute_result"
    }
   ],
   "source": [
    "list1.index(\"apple\")"
   ]
  },
  {
   "cell_type": "code",
   "execution_count": 63,
   "id": "6eb59e01",
   "metadata": {},
   "outputs": [
    {
     "name": "stdout",
     "output_type": "stream",
     "text": [
      "['rk', 'apple', 'banana', 'cherry']\n"
     ]
    }
   ],
   "source": [
    "#insert()=Adds an element at the specified position\n",
    "list1.insert(0,\"rk\")\n",
    "print(list1)"
   ]
  },
  {
   "cell_type": "code",
   "execution_count": 64,
   "id": "c1af049a",
   "metadata": {},
   "outputs": [
    {
     "data": {
      "text/plain": [
       "'rk'"
      ]
     },
     "execution_count": 64,
     "metadata": {},
     "output_type": "execute_result"
    }
   ],
   "source": [
    "#pop()=Removes the element at the specified position\n",
    "list1.pop(0)"
   ]
  },
  {
   "cell_type": "code",
   "execution_count": 65,
   "id": "97816319",
   "metadata": {},
   "outputs": [
    {
     "data": {
      "text/plain": [
       "['apple', 'banana', 'cherry']"
      ]
     },
     "execution_count": 65,
     "metadata": {},
     "output_type": "execute_result"
    }
   ],
   "source": [
    "list1"
   ]
  },
  {
   "cell_type": "code",
   "execution_count": 72,
   "id": "c46fc7a9",
   "metadata": {},
   "outputs": [
    {
     "name": "stdout",
     "output_type": "stream",
     "text": [
      "['apple', 'banana', 'cherry']\n"
     ]
    }
   ],
   "source": [
    "#remove()=Removes the item with the specified value\n",
    "m=list1\n",
    "print(m)"
   ]
  },
  {
   "cell_type": "code",
   "execution_count": 73,
   "id": "493346db",
   "metadata": {},
   "outputs": [
    {
     "name": "stdout",
     "output_type": "stream",
     "text": [
      "['apple', 'banana']\n"
     ]
    }
   ],
   "source": [
    "m.remove(\"cherry\")\n",
    "print(m)"
   ]
  },
  {
   "cell_type": "raw",
   "id": "59dfa150",
   "metadata": {},
   "source": [
    "#reverse()=Reverses the order of the list\n",
    "k=[\"king\",\"rk\",\"plp\"]\n",
    "print(k)"
   ]
  },
  {
   "cell_type": "code",
   "execution_count": 78,
   "id": "5e036ca0",
   "metadata": {},
   "outputs": [
    {
     "name": "stdout",
     "output_type": "stream",
     "text": [
      "['plp', 'rk', 'king']\n"
     ]
    }
   ],
   "source": [
    "k.reverse()\n",
    "print(k)"
   ]
  },
  {
   "cell_type": "code",
   "execution_count": 80,
   "id": "73d1e0e5",
   "metadata": {},
   "outputs": [
    {
     "name": "stdout",
     "output_type": "stream",
     "text": [
      "[2, 6, 8, 9]\n"
     ]
    }
   ],
   "source": [
    "#sort()=Sorts the list\n",
    "p=[6,8,2,9]\n",
    "p.sort()\n",
    "print(p)"
   ]
  }
 ],
 "metadata": {
  "kernelspec": {
   "display_name": "Python 3 (ipykernel)",
   "language": "python",
   "name": "python3"
  },
  "language_info": {
   "codemirror_mode": {
    "name": "ipython",
    "version": 3
   },
   "file_extension": ".py",
   "mimetype": "text/x-python",
   "name": "python",
   "nbconvert_exporter": "python",
   "pygments_lexer": "ipython3",
   "version": "3.9.12"
  }
 },
 "nbformat": 4,
 "nbformat_minor": 5
}
