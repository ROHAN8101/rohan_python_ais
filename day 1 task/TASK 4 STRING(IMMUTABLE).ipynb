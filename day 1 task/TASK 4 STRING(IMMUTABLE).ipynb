{
 "cells": [
  {
   "cell_type": "markdown",
   "id": "c4262452",
   "metadata": {},
   "source": [
    "# STRING\n",
    "       can write in single and double quotes"
   ]
  },
  {
   "cell_type": "code",
   "execution_count": 1,
   "id": "e5980307",
   "metadata": {},
   "outputs": [
    {
     "name": "stdout",
     "output_type": "stream",
     "text": [
      "india\n"
     ]
    },
    {
     "data": {
      "text/plain": [
       "str"
      ]
     },
     "execution_count": 1,
     "metadata": {},
     "output_type": "execute_result"
    }
   ],
   "source": [
    "a='india'\n",
    "print(a)\n",
    "type(a)"
   ]
  },
  {
   "cell_type": "code",
   "execution_count": 2,
   "id": "0e745289",
   "metadata": {},
   "outputs": [
    {
     "name": "stdout",
     "output_type": "stream",
     "text": [
      "myname <class 'str'>\n",
      "my_name <class 'str'>\n",
      "my name <class 'str'>\n",
      "my.name <class 'str'>\n",
      "123 <class 'str'>\n",
      "fyy$@fyy <class 'str'>\n",
      "[5:4] <class 'str'>\n"
     ]
    }
   ],
   "source": [
    "a=\"myname\"                      # anything in single or double quotes can be defined as STRINGS\n",
    "b=\"my_name\"\n",
    "c=\"my name\"\n",
    "d=\"my.name\"\n",
    "e=\"123\"\n",
    "f=\"fyy$@fyy\"\n",
    "g='[5:4]'\n",
    "\n",
    "print(a,type(a))\n",
    "print(b,type(b))\n",
    "print(c,type(c))\n",
    "print(d,type(d))\n",
    "print(e,type(e))\n",
    "print(f,type(f))\n",
    "print(g,type(g))\n"
   ]
  },
  {
   "cell_type": "markdown",
   "id": "9e7b4774",
   "metadata": {},
   "source": [
    "# CASTING OF DATA TYPES\n",
    "changing of data types\n"
   ]
  },
  {
   "cell_type": "code",
   "execution_count": 3,
   "id": "5a84cfc3",
   "metadata": {},
   "outputs": [
    {
     "data": {
      "text/plain": [
       "str"
      ]
     },
     "execution_count": 3,
     "metadata": {},
     "output_type": "execute_result"
    }
   ],
   "source": [
    "x1=\"20\"\n",
    "type(x1)"
   ]
  },
  {
   "cell_type": "code",
   "execution_count": 4,
   "id": "c9b88802",
   "metadata": {},
   "outputs": [
    {
     "data": {
      "text/plain": [
       "int"
      ]
     },
     "execution_count": 4,
     "metadata": {},
     "output_type": "execute_result"
    }
   ],
   "source": [
    "x1=int(x1)\n",
    "type(x1)"
   ]
  },
  {
   "cell_type": "code",
   "execution_count": 5,
   "id": "93c2a13f",
   "metadata": {},
   "outputs": [
    {
     "data": {
      "text/plain": [
       "float"
      ]
     },
     "execution_count": 5,
     "metadata": {},
     "output_type": "execute_result"
    }
   ],
   "source": [
    "x3=float(\"30\")\n",
    "type(x3)"
   ]
  },
  {
   "cell_type": "code",
   "execution_count": 6,
   "id": "efd37d2a",
   "metadata": {},
   "outputs": [
    {
     "data": {
      "text/plain": [
       "30.0"
      ]
     },
     "execution_count": 6,
     "metadata": {},
     "output_type": "execute_result"
    }
   ],
   "source": [
    "x3"
   ]
  },
  {
   "cell_type": "code",
   "execution_count": 7,
   "id": "6081d689",
   "metadata": {},
   "outputs": [
    {
     "name": "stdout",
     "output_type": "stream",
     "text": [
      "white\n",
      "white\n",
      "white\n"
     ]
    }
   ],
   "source": [
    "x=y=z=\"white\"\n",
    "print(x)\n",
    "print(y)\n",
    "print(z)"
   ]
  },
  {
   "cell_type": "code",
   "execution_count": 8,
   "id": "ddb67a37",
   "metadata": {},
   "outputs": [
    {
     "name": "stdout",
     "output_type": "stream",
     "text": [
      "['pink', 'red', 'green']\n",
      "['pink', 'red', 'green']\n",
      "['pink', 'red', 'green']\n"
     ]
    }
   ],
   "source": [
    "color=[\"pink\",\"red\",\"green\"]\n",
    "p=q=r=color\n",
    "print(p)\n",
    "print(q)\n",
    "print(r)"
   ]
  },
  {
   "cell_type": "code",
   "execution_count": 9,
   "id": "96d2fee4",
   "metadata": {},
   "outputs": [
    {
     "name": "stdout",
     "output_type": "stream",
     "text": [
      "red\n",
      "yellow\n"
     ]
    },
    {
     "data": {
      "text/plain": [
       "'green'"
      ]
     },
     "execution_count": 9,
     "metadata": {},
     "output_type": "execute_result"
    }
   ],
   "source": [
    "a,b,c=\"red\",\"yellow\",\"green\"\n",
    "print(a)\n",
    "print(b)\n",
    "c"
   ]
  },
  {
   "cell_type": "markdown",
   "id": "d9745672",
   "metadata": {},
   "source": [
    "# slicing in strings"
   ]
  },
  {
   "cell_type": "code",
   "execution_count": 10,
   "id": "c1f8ba4a",
   "metadata": {},
   "outputs": [
    {
     "data": {
      "text/plain": [
       "'m'"
      ]
     },
     "execution_count": 10,
     "metadata": {},
     "output_type": "execute_result"
    }
   ],
   "source": [
    "a=\"my name is rohan\"             # indexing in python always starts with 0\n",
    "a[0:1]"
   ]
  },
  {
   "cell_type": "code",
   "execution_count": 11,
   "id": "35a96baf",
   "metadata": {},
   "outputs": [
    {
     "data": {
      "text/plain": [
       "16"
      ]
     },
     "execution_count": 11,
     "metadata": {},
     "output_type": "execute_result"
    }
   ],
   "source": [
    "len(a)        # its showing length of string"
   ]
  },
  {
   "cell_type": "code",
   "execution_count": 12,
   "id": "7c0e6f15",
   "metadata": {},
   "outputs": [
    {
     "data": {
      "text/plain": [
       "'name'"
      ]
     },
     "execution_count": 12,
     "metadata": {},
     "output_type": "execute_result"
    }
   ],
   "source": [
    "a[3:7]"
   ]
  },
  {
   "cell_type": "code",
   "execution_count": 13,
   "id": "f5a79871",
   "metadata": {},
   "outputs": [
    {
     "data": {
      "text/plain": [
       "' rohan'"
      ]
     },
     "execution_count": 13,
     "metadata": {},
     "output_type": "execute_result"
    }
   ],
   "source": [
    "a[10:]"
   ]
  },
  {
   "cell_type": "code",
   "execution_count": 14,
   "id": "e7f4213c",
   "metadata": {},
   "outputs": [
    {
     "data": {
      "text/plain": [
       "'my name is '"
      ]
     },
     "execution_count": 14,
     "metadata": {},
     "output_type": "execute_result"
    }
   ],
   "source": [
    "a[:11]"
   ]
  },
  {
   "cell_type": "code",
   "execution_count": 15,
   "id": "6501163b",
   "metadata": {},
   "outputs": [],
   "source": [
    "# display morn in negative way"
   ]
  },
  {
   "cell_type": "code",
   "execution_count": 16,
   "id": "bed50757",
   "metadata": {},
   "outputs": [
    {
     "data": {
      "text/plain": [
       "'rohan'"
      ]
     },
     "execution_count": 16,
     "metadata": {},
     "output_type": "execute_result"
    }
   ],
   "source": [
    "a[-5:]"
   ]
  },
  {
   "cell_type": "code",
   "execution_count": 17,
   "id": "0a1dc4ba",
   "metadata": {},
   "outputs": [
    {
     "data": {
      "text/plain": [
       "'rohan'"
      ]
     },
     "execution_count": 17,
     "metadata": {},
     "output_type": "execute_result"
    }
   ],
   "source": [
    "a[-5:17]"
   ]
  },
  {
   "cell_type": "code",
   "execution_count": 18,
   "id": "320f2e06",
   "metadata": {},
   "outputs": [
    {
     "name": "stdout",
     "output_type": "stream",
     "text": [
      "MY NAME IS ROHAN\n"
     ]
    }
   ],
   "source": [
    "print(a.upper())             #convert into uppercase "
   ]
  },
  {
   "cell_type": "code",
   "execution_count": 19,
   "id": "063ff52c",
   "metadata": {},
   "outputs": [
    {
     "name": "stdout",
     "output_type": "stream",
     "text": [
      "my name is rohan\n"
     ]
    }
   ],
   "source": [
    "print(a.lower())             #convert into lower case"
   ]
  },
  {
   "cell_type": "code",
   "execution_count": 20,
   "id": "176a385d",
   "metadata": {},
   "outputs": [
    {
     "name": "stdout",
     "output_type": "stream",
     "text": [
      "my name is not rohan\n"
     ]
    }
   ],
   "source": [
    "print(a.replace(\"is\",\"is not\"))       #replace another word instead of given word"
   ]
  },
  {
   "cell_type": "code",
   "execution_count": 21,
   "id": "3302af3a",
   "metadata": {},
   "outputs": [
    {
     "name": "stdout",
     "output_type": "stream",
     "text": [
      "['my', 'name', 'is', 'rohan']\n"
     ]
    }
   ],
   "source": [
    "print(a.split())                 #for splitting"
   ]
  },
  {
   "cell_type": "code",
   "execution_count": 22,
   "id": "1a43c235",
   "metadata": {},
   "outputs": [
    {
     "data": {
      "text/plain": [
       "'my,name,is,rohan'"
      ]
     },
     "execution_count": 22,
     "metadata": {},
     "output_type": "execute_result"
    }
   ],
   "source": [
    "b=a.replace(\" \",\",\")\n",
    "b"
   ]
  },
  {
   "cell_type": "code",
   "execution_count": 23,
   "id": "adb60031",
   "metadata": {},
   "outputs": [
    {
     "name": "stdout",
     "output_type": "stream",
     "text": [
      "['my', 'name', 'is', 'rohan']\n"
     ]
    }
   ],
   "source": [
    "print(b.split(\",\"))"
   ]
  },
  {
   "cell_type": "code",
   "execution_count": 24,
   "id": "c14b25ea",
   "metadata": {},
   "outputs": [],
   "source": [
    "#string formating"
   ]
  },
  {
   "cell_type": "code",
   "execution_count": 25,
   "id": "e40dc911",
   "metadata": {},
   "outputs": [
    {
     "name": "stdout",
     "output_type": "stream",
     "text": [
      "the sum of 15 and 16 is 31\n"
     ]
    }
   ],
   "source": [
    "a=15\n",
    "b=16\n",
    "d=a+b\n",
    "print(\"the sum of {} and {} is {}\".format(a,b,d))"
   ]
  },
  {
   "cell_type": "code",
   "execution_count": null,
   "id": "ccf1b261",
   "metadata": {},
   "outputs": [],
   "source": []
  },
  {
   "cell_type": "code",
   "execution_count": null,
   "id": "6d5b117b",
   "metadata": {},
   "outputs": [],
   "source": []
  }
 ],
 "metadata": {
  "kernelspec": {
   "display_name": "Python 3 (ipykernel)",
   "language": "python",
   "name": "python3"
  },
  "language_info": {
   "codemirror_mode": {
    "name": "ipython",
    "version": 3
   },
   "file_extension": ".py",
   "mimetype": "text/x-python",
   "name": "python",
   "nbconvert_exporter": "python",
   "pygments_lexer": "ipython3",
   "version": "3.9.12"
  }
 },
 "nbformat": 4,
 "nbformat_minor": 5
}
